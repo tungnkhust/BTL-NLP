{
  "nbformat": 4,
  "nbformat_minor": 0,
  "metadata": {
    "accelerator": "GPU",
    "colab": {
      "name": "train_kfold.ipynb",
      "provenance": [],
      "collapsed_sections": []
    },
    "kernelspec": {
      "display_name": "Python 3",
      "name": "python3"
    },
    "language_info": {
      "name": "python"
    }
  },
  "cells": [
    {
      "cell_type": "code",
      "metadata": {
        "colab": {
          "base_uri": "https://localhost:8080/"
        },
        "id": "0JRx1zwkwSnp",
        "outputId": "a09f98d2-9d84-42a8-df3f-e3d3631f01d9"
      },
      "source": [
        "from google.colab import drive\n",
        "drive.mount('/content/drive')"
      ],
      "execution_count": 1,
      "outputs": [
        {
          "output_type": "stream",
          "text": [
            "Mounted at /content/drive\n"
          ],
          "name": "stdout"
        }
      ]
    },
    {
      "cell_type": "code",
      "metadata": {
        "colab": {
          "base_uri": "https://localhost:8080/"
        },
        "id": "d82rTg9DwDGb",
        "outputId": "eeb37a88-a821-4748-c6e9-03f59099d69f"
      },
      "source": [
        "!pip install allennlp-models\n",
        "!pip install allennlp"
      ],
      "execution_count": 2,
      "outputs": [
        {
          "output_type": "stream",
          "text": [
            "Collecting allennlp-models\n",
            "\u001b[?25l  Downloading https://files.pythonhosted.org/packages/e9/67/2b33984451870548a2b6d2169d68c81adac0115462f7a62317de31f77f19/allennlp_models-2.4.0-py3-none-any.whl (424kB)\n",
            "\r\u001b[K     |▊                               | 10kB 17.8MB/s eta 0:00:01\r\u001b[K     |█▌                              | 20kB 25.0MB/s eta 0:00:01\r\u001b[K     |██▎                             | 30kB 24.4MB/s eta 0:00:01\r\u001b[K     |███                             | 40kB 18.5MB/s eta 0:00:01\r\u001b[K     |███▉                            | 51kB 15.9MB/s eta 0:00:01\r\u001b[K     |████▋                           | 61kB 15.3MB/s eta 0:00:01\r\u001b[K     |█████▍                          | 71kB 14.1MB/s eta 0:00:01\r\u001b[K     |██████▏                         | 81kB 13.4MB/s eta 0:00:01\r\u001b[K     |███████                         | 92kB 14.3MB/s eta 0:00:01\r\u001b[K     |███████▊                        | 102kB 13.0MB/s eta 0:00:01\r\u001b[K     |████████▌                       | 112kB 13.0MB/s eta 0:00:01\r\u001b[K     |█████████▎                      | 122kB 13.0MB/s eta 0:00:01\r\u001b[K     |██████████                      | 133kB 13.0MB/s eta 0:00:01\r\u001b[K     |██████████▉                     | 143kB 13.0MB/s eta 0:00:01\r\u001b[K     |███████████▋                    | 153kB 13.0MB/s eta 0:00:01\r\u001b[K     |████████████▍                   | 163kB 13.0MB/s eta 0:00:01\r\u001b[K     |█████████████                   | 174kB 13.0MB/s eta 0:00:01\r\u001b[K     |█████████████▉                  | 184kB 13.0MB/s eta 0:00:01\r\u001b[K     |██████████████▋                 | 194kB 13.0MB/s eta 0:00:01\r\u001b[K     |███████████████▍                | 204kB 13.0MB/s eta 0:00:01\r\u001b[K     |████████████████▏               | 215kB 13.0MB/s eta 0:00:01\r\u001b[K     |█████████████████               | 225kB 13.0MB/s eta 0:00:01\r\u001b[K     |█████████████████▊              | 235kB 13.0MB/s eta 0:00:01\r\u001b[K     |██████████████████▌             | 245kB 13.0MB/s eta 0:00:01\r\u001b[K     |███████████████████▎            | 256kB 13.0MB/s eta 0:00:01\r\u001b[K     |████████████████████            | 266kB 13.0MB/s eta 0:00:01\r\u001b[K     |████████████████████▉           | 276kB 13.0MB/s eta 0:00:01\r\u001b[K     |█████████████████████▋          | 286kB 13.0MB/s eta 0:00:01\r\u001b[K     |██████████████████████▍         | 296kB 13.0MB/s eta 0:00:01\r\u001b[K     |███████████████████████▏        | 307kB 13.0MB/s eta 0:00:01\r\u001b[K     |████████████████████████        | 317kB 13.0MB/s eta 0:00:01\r\u001b[K     |████████████████████████▊       | 327kB 13.0MB/s eta 0:00:01\r\u001b[K     |█████████████████████████▌      | 337kB 13.0MB/s eta 0:00:01\r\u001b[K     |██████████████████████████▏     | 348kB 13.0MB/s eta 0:00:01\r\u001b[K     |███████████████████████████     | 358kB 13.0MB/s eta 0:00:01\r\u001b[K     |███████████████████████████▊    | 368kB 13.0MB/s eta 0:00:01\r\u001b[K     |████████████████████████████▌   | 378kB 13.0MB/s eta 0:00:01\r\u001b[K     |█████████████████████████████▎  | 389kB 13.0MB/s eta 0:00:01\r\u001b[K     |██████████████████████████████  | 399kB 13.0MB/s eta 0:00:01\r\u001b[K     |██████████████████████████████▉ | 409kB 13.0MB/s eta 0:00:01\r\u001b[K     |███████████████████████████████▋| 419kB 13.0MB/s eta 0:00:01\r\u001b[K     |████████████████████████████████| 430kB 13.0MB/s \n",
            "\u001b[?25hRequirement already satisfied: nltk in /usr/local/lib/python3.7/dist-packages (from allennlp-models) (3.2.5)\n",
            "Requirement already satisfied: torch<1.9.0,>=1.7.0 in /usr/local/lib/python3.7/dist-packages (from allennlp-models) (1.8.1+cu101)\n",
            "Collecting allennlp<2.5,>=2.4.0\n",
            "\u001b[?25l  Downloading https://files.pythonhosted.org/packages/ed/eb/0c7ce6af0dfbc9c168a263a534e258447eff707c76df26356d4080900dd0/allennlp-2.4.0-py3-none-any.whl (625kB)\n",
            "\u001b[K     |████████████████████████████████| 634kB 24.5MB/s \n",
            "\u001b[?25hCollecting py-rouge==1.1\n",
            "\u001b[?25l  Downloading https://files.pythonhosted.org/packages/9c/1d/0bdbaf559fb7afe32308ebc84a2028600988212d7eb7fb9f69c4e829e4a0/py_rouge-1.1-py3-none-any.whl (56kB)\n",
            "\u001b[K     |████████████████████████████████| 61kB 9.9MB/s \n",
            "\u001b[?25hCollecting ftfy\n",
            "\u001b[?25l  Downloading https://files.pythonhosted.org/packages/af/da/d215a091986e5f01b80f5145cff6f22e2dc57c6b048aab2e882a07018473/ftfy-6.0.3.tar.gz (64kB)\n",
            "\u001b[K     |████████████████████████████████| 71kB 11.6MB/s \n",
            "\u001b[?25hCollecting word2number>=1.1\n",
            "  Downloading https://files.pythonhosted.org/packages/4a/29/a31940c848521f0725f0df6b25dca8917f13a2025b0e8fcbe5d0457e45e6/word2number-1.1.zip\n",
            "Collecting conllu==4.4\n",
            "  Downloading https://files.pythonhosted.org/packages/ae/be/be6959c3ff2dbfdd87de4be0ccdff577835b5d08b1d25bf7fd4aaf0d7add/conllu-4.4-py2.py3-none-any.whl\n",
            "Requirement already satisfied: six in /usr/local/lib/python3.7/dist-packages (from nltk->allennlp-models) (1.15.0)\n",
            "Requirement already satisfied: typing-extensions in /usr/local/lib/python3.7/dist-packages (from torch<1.9.0,>=1.7.0->allennlp-models) (3.7.4.3)\n",
            "Requirement already satisfied: numpy in /usr/local/lib/python3.7/dist-packages (from torch<1.9.0,>=1.7.0->allennlp-models) (1.19.5)\n",
            "Requirement already satisfied: filelock<3.1,>=3.0 in /usr/local/lib/python3.7/dist-packages (from allennlp<2.5,>=2.4.0->allennlp-models) (3.0.12)\n",
            "Collecting overrides==3.1.0\n",
            "  Downloading https://files.pythonhosted.org/packages/ff/b1/10f69c00947518e6676bbd43e739733048de64b8dd998e9c2d5a71f44c5d/overrides-3.1.0.tar.gz\n",
            "Requirement already satisfied: lmdb in /usr/local/lib/python3.7/dist-packages (from allennlp<2.5,>=2.4.0->allennlp-models) (0.99)\n",
            "Requirement already satisfied: requests>=2.18 in /usr/local/lib/python3.7/dist-packages (from allennlp<2.5,>=2.4.0->allennlp-models) (2.23.0)\n",
            "Requirement already satisfied: tqdm>=4.19 in /usr/local/lib/python3.7/dist-packages (from allennlp<2.5,>=2.4.0->allennlp-models) (4.41.1)\n",
            "Collecting tensorboardX>=1.2\n",
            "\u001b[?25l  Downloading https://files.pythonhosted.org/packages/07/84/46421bd3e0e89a92682b1a38b40efc22dafb6d8e3d947e4ceefd4a5fabc7/tensorboardX-2.2-py2.py3-none-any.whl (120kB)\n",
            "\u001b[K     |████████████████████████████████| 122kB 32.0MB/s \n",
            "\u001b[?25hRequirement already satisfied: h5py in /usr/local/lib/python3.7/dist-packages (from allennlp<2.5,>=2.4.0->allennlp-models) (3.1.0)\n",
            "Requirement already satisfied: pytest in /usr/local/lib/python3.7/dist-packages (from allennlp<2.5,>=2.4.0->allennlp-models) (3.6.4)\n",
            "Requirement already satisfied: scikit-learn in /usr/local/lib/python3.7/dist-packages (from allennlp<2.5,>=2.4.0->allennlp-models) (0.22.2.post1)\n",
            "Requirement already satisfied: spacy<3.1,>=2.1.0 in /usr/local/lib/python3.7/dist-packages (from allennlp<2.5,>=2.4.0->allennlp-models) (2.2.4)\n",
            "Collecting boto3<2.0,>=1.14\n",
            "\u001b[?25l  Downloading https://files.pythonhosted.org/packages/11/20/4294e37c3c6936c905f1e9da958c776d7fee54a4512bdb7706d69c8720e6/boto3-1.17.84-py2.py3-none-any.whl (131kB)\n",
            "\u001b[K     |████████████████████████████████| 133kB 44.8MB/s \n",
            "\u001b[?25hCollecting jsonnet>=0.10.0; sys_platform != \"win32\"\n",
            "\u001b[?25l  Downloading https://files.pythonhosted.org/packages/42/40/6f16e5ac994b16fa71c24310f97174ce07d3a97b433275589265c6b94d2b/jsonnet-0.17.0.tar.gz (259kB)\n",
            "\u001b[K     |████████████████████████████████| 266kB 50.0MB/s \n",
            "\u001b[?25hCollecting wandb<0.11.0,>=0.10.0\n",
            "\u001b[?25l  Downloading https://files.pythonhosted.org/packages/6c/48/b199e2b3b341ac842108c5db4956091dd75d961cfa77aceb033e99cac20f/wandb-0.10.31-py2.py3-none-any.whl (1.8MB)\n",
            "\u001b[K     |████████████████████████████████| 1.8MB 43.6MB/s \n",
            "\u001b[?25hRequirement already satisfied: scipy in /usr/local/lib/python3.7/dist-packages (from allennlp<2.5,>=2.4.0->allennlp-models) (1.4.1)\n",
            "Collecting huggingface-hub>=0.0.8\n",
            "  Downloading https://files.pythonhosted.org/packages/32/a1/7c5261396da23ec364e296a4fb8a1cd6a5a2ff457215c6447038f18c0309/huggingface_hub-0.0.9-py3-none-any.whl\n",
            "Collecting transformers<4.6,>=4.1\n",
            "\u001b[?25l  Downloading https://files.pythonhosted.org/packages/d8/b2/57495b5309f09fa501866e225c84532d1fd89536ea62406b2181933fb418/transformers-4.5.1-py3-none-any.whl (2.1MB)\n",
            "\u001b[K     |████████████████████████████████| 2.1MB 48.9MB/s \n",
            "\u001b[?25hRequirement already satisfied: torchvision<0.10.0,>=0.8.1 in /usr/local/lib/python3.7/dist-packages (from allennlp<2.5,>=2.4.0->allennlp-models) (0.9.1+cu101)\n",
            "Requirement already satisfied: more-itertools in /usr/local/lib/python3.7/dist-packages (from allennlp<2.5,>=2.4.0->allennlp-models) (8.7.0)\n",
            "Collecting sentencepiece\n",
            "\u001b[?25l  Downloading https://files.pythonhosted.org/packages/f5/99/e0808cb947ba10f575839c43e8fafc9cc44e4a7a2c8f79c60db48220a577/sentencepiece-0.1.95-cp37-cp37m-manylinux2014_x86_64.whl (1.2MB)\n",
            "\u001b[K     |████████████████████████████████| 1.2MB 39.9MB/s \n",
            "\u001b[?25hRequirement already satisfied: wcwidth in /usr/local/lib/python3.7/dist-packages (from ftfy->allennlp-models) (0.2.5)\n",
            "Requirement already satisfied: chardet<4,>=3.0.2 in /usr/local/lib/python3.7/dist-packages (from requests>=2.18->allennlp<2.5,>=2.4.0->allennlp-models) (3.0.4)\n",
            "Requirement already satisfied: urllib3!=1.25.0,!=1.25.1,<1.26,>=1.21.1 in /usr/local/lib/python3.7/dist-packages (from requests>=2.18->allennlp<2.5,>=2.4.0->allennlp-models) (1.24.3)\n",
            "Requirement already satisfied: idna<3,>=2.5 in /usr/local/lib/python3.7/dist-packages (from requests>=2.18->allennlp<2.5,>=2.4.0->allennlp-models) (2.10)\n",
            "Requirement already satisfied: certifi>=2017.4.17 in /usr/local/lib/python3.7/dist-packages (from requests>=2.18->allennlp<2.5,>=2.4.0->allennlp-models) (2020.12.5)\n",
            "Requirement already satisfied: protobuf>=3.8.0 in /usr/local/lib/python3.7/dist-packages (from tensorboardX>=1.2->allennlp<2.5,>=2.4.0->allennlp-models) (3.12.4)\n",
            "Requirement already satisfied: cached-property; python_version < \"3.8\" in /usr/local/lib/python3.7/dist-packages (from h5py->allennlp<2.5,>=2.4.0->allennlp-models) (1.5.2)\n",
            "Requirement already satisfied: attrs>=17.4.0 in /usr/local/lib/python3.7/dist-packages (from pytest->allennlp<2.5,>=2.4.0->allennlp-models) (21.2.0)\n",
            "Requirement already satisfied: py>=1.5.0 in /usr/local/lib/python3.7/dist-packages (from pytest->allennlp<2.5,>=2.4.0->allennlp-models) (1.10.0)\n",
            "Requirement already satisfied: pluggy<0.8,>=0.5 in /usr/local/lib/python3.7/dist-packages (from pytest->allennlp<2.5,>=2.4.0->allennlp-models) (0.7.1)\n",
            "Requirement already satisfied: setuptools in /usr/local/lib/python3.7/dist-packages (from pytest->allennlp<2.5,>=2.4.0->allennlp-models) (56.1.0)\n",
            "Requirement already satisfied: atomicwrites>=1.0 in /usr/local/lib/python3.7/dist-packages (from pytest->allennlp<2.5,>=2.4.0->allennlp-models) (1.4.0)\n",
            "Requirement already satisfied: joblib>=0.11 in /usr/local/lib/python3.7/dist-packages (from scikit-learn->allennlp<2.5,>=2.4.0->allennlp-models) (1.0.1)\n",
            "Requirement already satisfied: blis<0.5.0,>=0.4.0 in /usr/local/lib/python3.7/dist-packages (from spacy<3.1,>=2.1.0->allennlp<2.5,>=2.4.0->allennlp-models) (0.4.1)\n",
            "Requirement already satisfied: cymem<2.1.0,>=2.0.2 in /usr/local/lib/python3.7/dist-packages (from spacy<3.1,>=2.1.0->allennlp<2.5,>=2.4.0->allennlp-models) (2.0.5)\n",
            "Requirement already satisfied: plac<1.2.0,>=0.9.6 in /usr/local/lib/python3.7/dist-packages (from spacy<3.1,>=2.1.0->allennlp<2.5,>=2.4.0->allennlp-models) (1.1.3)\n",
            "Requirement already satisfied: thinc==7.4.0 in /usr/local/lib/python3.7/dist-packages (from spacy<3.1,>=2.1.0->allennlp<2.5,>=2.4.0->allennlp-models) (7.4.0)\n",
            "Requirement already satisfied: preshed<3.1.0,>=3.0.2 in /usr/local/lib/python3.7/dist-packages (from spacy<3.1,>=2.1.0->allennlp<2.5,>=2.4.0->allennlp-models) (3.0.5)\n",
            "Requirement already satisfied: wasabi<1.1.0,>=0.4.0 in /usr/local/lib/python3.7/dist-packages (from spacy<3.1,>=2.1.0->allennlp<2.5,>=2.4.0->allennlp-models) (0.8.2)\n",
            "Requirement already satisfied: murmurhash<1.1.0,>=0.28.0 in /usr/local/lib/python3.7/dist-packages (from spacy<3.1,>=2.1.0->allennlp<2.5,>=2.4.0->allennlp-models) (1.0.5)\n",
            "Requirement already satisfied: srsly<1.1.0,>=1.0.2 in /usr/local/lib/python3.7/dist-packages (from spacy<3.1,>=2.1.0->allennlp<2.5,>=2.4.0->allennlp-models) (1.0.5)\n",
            "Requirement already satisfied: catalogue<1.1.0,>=0.0.7 in /usr/local/lib/python3.7/dist-packages (from spacy<3.1,>=2.1.0->allennlp<2.5,>=2.4.0->allennlp-models) (1.0.0)\n",
            "Collecting botocore<1.21.0,>=1.20.84\n",
            "\u001b[?25l  Downloading https://files.pythonhosted.org/packages/bc/22/72c81d754bbcb128cba2ad88670c3c320e4594e6ddd8cca6512c3967108c/botocore-1.20.84-py2.py3-none-any.whl (7.6MB)\n",
            "\u001b[K     |████████████████████████████████| 7.6MB 43.6MB/s \n",
            "\u001b[?25hCollecting jmespath<1.0.0,>=0.7.1\n",
            "  Downloading https://files.pythonhosted.org/packages/07/cb/5f001272b6faeb23c1c9e0acc04d48eaaf5c862c17709d20e3469c6e0139/jmespath-0.10.0-py2.py3-none-any.whl\n",
            "Collecting s3transfer<0.5.0,>=0.4.0\n",
            "\u001b[?25l  Downloading https://files.pythonhosted.org/packages/63/d0/693477c688348654ddc21dcdce0817653a294aa43f41771084c25e7ff9c7/s3transfer-0.4.2-py2.py3-none-any.whl (79kB)\n",
            "\u001b[K     |████████████████████████████████| 81kB 13.3MB/s \n",
            "\u001b[?25hCollecting sentry-sdk>=0.4.0\n",
            "\u001b[?25l  Downloading https://files.pythonhosted.org/packages/1c/4a/a54b254f67d8f4052338d54ebe90126f200693440a93ef76d254d581e3ec/sentry_sdk-1.1.0-py2.py3-none-any.whl (131kB)\n",
            "\u001b[K     |████████████████████████████████| 133kB 53.5MB/s \n",
            "\u001b[?25hRequirement already satisfied: Click>=7.0 in /usr/local/lib/python3.7/dist-packages (from wandb<0.11.0,>=0.10.0->allennlp<2.5,>=2.4.0->allennlp-models) (7.1.2)\n",
            "Requirement already satisfied: python-dateutil>=2.6.1 in /usr/local/lib/python3.7/dist-packages (from wandb<0.11.0,>=0.10.0->allennlp<2.5,>=2.4.0->allennlp-models) (2.8.1)\n",
            "Requirement already satisfied: promise<3,>=2.0 in /usr/local/lib/python3.7/dist-packages (from wandb<0.11.0,>=0.10.0->allennlp<2.5,>=2.4.0->allennlp-models) (2.3)\n",
            "Requirement already satisfied: psutil>=5.0.0 in /usr/local/lib/python3.7/dist-packages (from wandb<0.11.0,>=0.10.0->allennlp<2.5,>=2.4.0->allennlp-models) (5.4.8)\n",
            "Collecting pathtools\n",
            "  Downloading https://files.pythonhosted.org/packages/e7/7f/470d6fcdf23f9f3518f6b0b76be9df16dcc8630ad409947f8be2eb0ed13a/pathtools-0.1.2.tar.gz\n",
            "Collecting configparser>=3.8.1\n",
            "  Downloading https://files.pythonhosted.org/packages/fd/01/ff260a18caaf4457eb028c96eeb405c4a230ca06c8ec9c1379f813caa52e/configparser-5.0.2-py3-none-any.whl\n",
            "Requirement already satisfied: PyYAML in /usr/local/lib/python3.7/dist-packages (from wandb<0.11.0,>=0.10.0->allennlp<2.5,>=2.4.0->allennlp-models) (3.13)\n",
            "Collecting shortuuid>=0.5.0\n",
            "  Downloading https://files.pythonhosted.org/packages/25/a6/2ecc1daa6a304e7f1b216f0896b26156b78e7c38e1211e9b798b4716c53d/shortuuid-1.0.1-py3-none-any.whl\n",
            "Collecting subprocess32>=3.5.3\n",
            "\u001b[?25l  Downloading https://files.pythonhosted.org/packages/32/c8/564be4d12629b912ea431f1a50eb8b3b9d00f1a0b1ceff17f266be190007/subprocess32-3.5.4.tar.gz (97kB)\n",
            "\u001b[K     |████████████████████████████████| 102kB 14.4MB/s \n",
            "\u001b[?25hCollecting docker-pycreds>=0.4.0\n",
            "  Downloading https://files.pythonhosted.org/packages/f5/e8/f6bd1eee09314e7e6dee49cbe2c5e22314ccdb38db16c9fc72d2fa80d054/docker_pycreds-0.4.0-py2.py3-none-any.whl\n",
            "Collecting GitPython>=1.0.0\n",
            "\u001b[?25l  Downloading https://files.pythonhosted.org/packages/27/da/6f6224fdfc47dab57881fe20c0d1bc3122be290198ba0bf26a953a045d92/GitPython-3.1.17-py3-none-any.whl (166kB)\n",
            "\u001b[K     |████████████████████████████████| 174kB 55.8MB/s \n",
            "\u001b[?25hRequirement already satisfied: importlib-metadata; python_version < \"3.8\" in /usr/local/lib/python3.7/dist-packages (from huggingface-hub>=0.0.8->allennlp<2.5,>=2.4.0->allennlp-models) (4.0.1)\n",
            "Requirement already satisfied: packaging in /usr/local/lib/python3.7/dist-packages (from transformers<4.6,>=4.1->allennlp<2.5,>=2.4.0->allennlp-models) (20.9)\n",
            "Collecting sacremoses\n",
            "\u001b[?25l  Downloading https://files.pythonhosted.org/packages/75/ee/67241dc87f266093c533a2d4d3d69438e57d7a90abb216fa076e7d475d4a/sacremoses-0.0.45-py3-none-any.whl (895kB)\n",
            "\u001b[K     |████████████████████████████████| 901kB 47.2MB/s \n",
            "\u001b[?25hCollecting tokenizers<0.11,>=0.10.1\n",
            "\u001b[?25l  Downloading https://files.pythonhosted.org/packages/d4/e2/df3543e8ffdab68f5acc73f613de9c2b155ac47f162e725dcac87c521c11/tokenizers-0.10.3-cp37-cp37m-manylinux_2_5_x86_64.manylinux1_x86_64.manylinux_2_12_x86_64.manylinux2010_x86_64.whl (3.3MB)\n",
            "\u001b[K     |████████████████████████████████| 3.3MB 45.2MB/s \n",
            "\u001b[?25hRequirement already satisfied: regex!=2019.12.17 in /usr/local/lib/python3.7/dist-packages (from transformers<4.6,>=4.1->allennlp<2.5,>=2.4.0->allennlp-models) (2019.12.20)\n",
            "Requirement already satisfied: pillow>=4.1.1 in /usr/local/lib/python3.7/dist-packages (from torchvision<0.10.0,>=0.8.1->allennlp<2.5,>=2.4.0->allennlp-models) (7.1.2)\n",
            "Collecting gitdb<5,>=4.0.1\n",
            "\u001b[?25l  Downloading https://files.pythonhosted.org/packages/ea/e8/f414d1a4f0bbc668ed441f74f44c116d9816833a48bf81d22b697090dba8/gitdb-4.0.7-py3-none-any.whl (63kB)\n",
            "\u001b[K     |████████████████████████████████| 71kB 11.0MB/s \n",
            "\u001b[?25hRequirement already satisfied: zipp>=0.5 in /usr/local/lib/python3.7/dist-packages (from importlib-metadata; python_version < \"3.8\"->huggingface-hub>=0.0.8->allennlp<2.5,>=2.4.0->allennlp-models) (3.4.1)\n",
            "Requirement already satisfied: pyparsing>=2.0.2 in /usr/local/lib/python3.7/dist-packages (from packaging->transformers<4.6,>=4.1->allennlp<2.5,>=2.4.0->allennlp-models) (2.4.7)\n",
            "Collecting smmap<5,>=3.0.1\n",
            "  Downloading https://files.pythonhosted.org/packages/68/ee/d540eb5e5996eb81c26ceffac6ee49041d473bc5125f2aa995cf51ec1cf1/smmap-4.0.0-py2.py3-none-any.whl\n",
            "Building wheels for collected packages: ftfy, word2number, overrides, jsonnet, pathtools, subprocess32\n",
            "  Building wheel for ftfy (setup.py) ... \u001b[?25l\u001b[?25hdone\n",
            "  Created wheel for ftfy: filename=ftfy-6.0.3-cp37-none-any.whl size=41916 sha256=dd2f6aafad2bbc1393caef0c9570626034960ea318058a7becb641be735032d0\n",
            "  Stored in directory: /root/.cache/pip/wheels/99/2c/e6/109c8a28fef7a443f67ba58df21fe1d0067ac3322e75e6b0b7\n",
            "  Building wheel for word2number (setup.py) ... \u001b[?25l\u001b[?25hdone\n",
            "  Created wheel for word2number: filename=word2number-1.1-cp37-none-any.whl size=5589 sha256=e04222281bad2ae2cf41e7eae0b461b25ec2e215612e09b160766ee27ba15931\n",
            "  Stored in directory: /root/.cache/pip/wheels/46/2f/53/5f5c1d275492f2fce1cdab9a9bb12d49286dead829a4078e0e\n",
            "  Building wheel for overrides (setup.py) ... \u001b[?25l\u001b[?25hdone\n",
            "  Created wheel for overrides: filename=overrides-3.1.0-cp37-none-any.whl size=10174 sha256=d6877ffc37f6174c791d0fd12d5f72365172aee6c94a86e7f62ff489859d2b46\n",
            "  Stored in directory: /root/.cache/pip/wheels/5c/24/13/6ef8600e6f147c95e595f1289a86a3cc82ed65df57582c65a9\n",
            "  Building wheel for jsonnet (setup.py) ... \u001b[?25l\u001b[?25hdone\n",
            "  Created wheel for jsonnet: filename=jsonnet-0.17.0-cp37-cp37m-linux_x86_64.whl size=3388784 sha256=4844e731e14a77c9194e905a2955cfa80522eb6b19102f55f03ef6bcb1625894\n",
            "  Stored in directory: /root/.cache/pip/wheels/26/7a/37/7dbcc30a6b4efd17b91ad1f0128b7bbf84813bd4e1cfb8c1e3\n",
            "  Building wheel for pathtools (setup.py) ... \u001b[?25l\u001b[?25hdone\n",
            "  Created wheel for pathtools: filename=pathtools-0.1.2-cp37-none-any.whl size=8786 sha256=cb42bde2ac4c2a6366eb8e96713a6a812d6746e3a7c4af8c80e66829c17e73d3\n",
            "  Stored in directory: /root/.cache/pip/wheels/0b/04/79/c3b0c3a0266a3cb4376da31e5bfe8bba0c489246968a68e843\n",
            "  Building wheel for subprocess32 (setup.py) ... \u001b[?25l\u001b[?25hdone\n",
            "  Created wheel for subprocess32: filename=subprocess32-3.5.4-cp37-none-any.whl size=6489 sha256=a432754d5f7a70d64a40c6b057870a8094ba2917283d5296fd0c4ce8ac596734\n",
            "  Stored in directory: /root/.cache/pip/wheels/68/39/1a/5e402bdfdf004af1786c8b853fd92f8c4a04f22aad179654d1\n",
            "Successfully built ftfy word2number overrides jsonnet pathtools subprocess32\n",
            "\u001b[31mERROR: botocore 1.20.84 has requirement urllib3<1.27,>=1.25.4, but you'll have urllib3 1.24.3 which is incompatible.\u001b[0m\n",
            "Installing collected packages: overrides, tensorboardX, jmespath, botocore, s3transfer, boto3, jsonnet, sentry-sdk, pathtools, configparser, shortuuid, subprocess32, docker-pycreds, smmap, gitdb, GitPython, wandb, huggingface-hub, sacremoses, tokenizers, transformers, sentencepiece, allennlp, py-rouge, ftfy, word2number, conllu, allennlp-models\n",
            "Successfully installed GitPython-3.1.17 allennlp-2.4.0 allennlp-models-2.4.0 boto3-1.17.84 botocore-1.20.84 configparser-5.0.2 conllu-4.4 docker-pycreds-0.4.0 ftfy-6.0.3 gitdb-4.0.7 huggingface-hub-0.0.9 jmespath-0.10.0 jsonnet-0.17.0 overrides-3.1.0 pathtools-0.1.2 py-rouge-1.1 s3transfer-0.4.2 sacremoses-0.0.45 sentencepiece-0.1.95 sentry-sdk-1.1.0 shortuuid-1.0.1 smmap-4.0.0 subprocess32-3.5.4 tensorboardX-2.2 tokenizers-0.10.3 transformers-4.5.1 wandb-0.10.31 word2number-1.1\n",
            "Requirement already satisfied: allennlp in /usr/local/lib/python3.7/dist-packages (2.4.0)\n",
            "Requirement already satisfied: lmdb in /usr/local/lib/python3.7/dist-packages (from allennlp) (0.99)\n",
            "Requirement already satisfied: transformers<4.6,>=4.1 in /usr/local/lib/python3.7/dist-packages (from allennlp) (4.5.1)\n",
            "Requirement already satisfied: torch<1.9.0,>=1.6.0 in /usr/local/lib/python3.7/dist-packages (from allennlp) (1.8.1+cu101)\n",
            "Requirement already satisfied: boto3<2.0,>=1.14 in /usr/local/lib/python3.7/dist-packages (from allennlp) (1.17.84)\n",
            "Requirement already satisfied: tqdm>=4.19 in /usr/local/lib/python3.7/dist-packages (from allennlp) (4.41.1)\n",
            "Requirement already satisfied: jsonnet>=0.10.0; sys_platform != \"win32\" in /usr/local/lib/python3.7/dist-packages (from allennlp) (0.17.0)\n",
            "Requirement already satisfied: sentencepiece in /usr/local/lib/python3.7/dist-packages (from allennlp) (0.1.95)\n",
            "Requirement already satisfied: h5py in /usr/local/lib/python3.7/dist-packages (from allennlp) (3.1.0)\n",
            "Requirement already satisfied: more-itertools in /usr/local/lib/python3.7/dist-packages (from allennlp) (8.7.0)\n",
            "Requirement already satisfied: spacy<3.1,>=2.1.0 in /usr/local/lib/python3.7/dist-packages (from allennlp) (2.2.4)\n",
            "Requirement already satisfied: requests>=2.18 in /usr/local/lib/python3.7/dist-packages (from allennlp) (2.23.0)\n",
            "Requirement already satisfied: pytest in /usr/local/lib/python3.7/dist-packages (from allennlp) (3.6.4)\n",
            "Requirement already satisfied: scikit-learn in /usr/local/lib/python3.7/dist-packages (from allennlp) (0.22.2.post1)\n",
            "Requirement already satisfied: torchvision<0.10.0,>=0.8.1 in /usr/local/lib/python3.7/dist-packages (from allennlp) (0.9.1+cu101)\n",
            "Requirement already satisfied: overrides==3.1.0 in /usr/local/lib/python3.7/dist-packages (from allennlp) (3.1.0)\n",
            "Requirement already satisfied: tensorboardX>=1.2 in /usr/local/lib/python3.7/dist-packages (from allennlp) (2.2)\n",
            "Requirement already satisfied: scipy in /usr/local/lib/python3.7/dist-packages (from allennlp) (1.4.1)\n",
            "Requirement already satisfied: wandb<0.11.0,>=0.10.0 in /usr/local/lib/python3.7/dist-packages (from allennlp) (0.10.31)\n",
            "Requirement already satisfied: filelock<3.1,>=3.0 in /usr/local/lib/python3.7/dist-packages (from allennlp) (3.0.12)\n",
            "Requirement already satisfied: huggingface-hub>=0.0.8 in /usr/local/lib/python3.7/dist-packages (from allennlp) (0.0.9)\n",
            "Requirement already satisfied: nltk in /usr/local/lib/python3.7/dist-packages (from allennlp) (3.2.5)\n",
            "Requirement already satisfied: numpy in /usr/local/lib/python3.7/dist-packages (from allennlp) (1.19.5)\n",
            "Requirement already satisfied: tokenizers<0.11,>=0.10.1 in /usr/local/lib/python3.7/dist-packages (from transformers<4.6,>=4.1->allennlp) (0.10.3)\n",
            "Requirement already satisfied: importlib-metadata; python_version < \"3.8\" in /usr/local/lib/python3.7/dist-packages (from transformers<4.6,>=4.1->allennlp) (4.0.1)\n",
            "Requirement already satisfied: sacremoses in /usr/local/lib/python3.7/dist-packages (from transformers<4.6,>=4.1->allennlp) (0.0.45)\n",
            "Requirement already satisfied: packaging in /usr/local/lib/python3.7/dist-packages (from transformers<4.6,>=4.1->allennlp) (20.9)\n",
            "Requirement already satisfied: regex!=2019.12.17 in /usr/local/lib/python3.7/dist-packages (from transformers<4.6,>=4.1->allennlp) (2019.12.20)\n",
            "Requirement already satisfied: typing-extensions in /usr/local/lib/python3.7/dist-packages (from torch<1.9.0,>=1.6.0->allennlp) (3.7.4.3)\n",
            "Requirement already satisfied: s3transfer<0.5.0,>=0.4.0 in /usr/local/lib/python3.7/dist-packages (from boto3<2.0,>=1.14->allennlp) (0.4.2)\n",
            "Requirement already satisfied: jmespath<1.0.0,>=0.7.1 in /usr/local/lib/python3.7/dist-packages (from boto3<2.0,>=1.14->allennlp) (0.10.0)\n",
            "Requirement already satisfied: botocore<1.21.0,>=1.20.84 in /usr/local/lib/python3.7/dist-packages (from boto3<2.0,>=1.14->allennlp) (1.20.84)\n",
            "Requirement already satisfied: cached-property; python_version < \"3.8\" in /usr/local/lib/python3.7/dist-packages (from h5py->allennlp) (1.5.2)\n",
            "Requirement already satisfied: setuptools in /usr/local/lib/python3.7/dist-packages (from spacy<3.1,>=2.1.0->allennlp) (56.1.0)\n",
            "Requirement already satisfied: murmurhash<1.1.0,>=0.28.0 in /usr/local/lib/python3.7/dist-packages (from spacy<3.1,>=2.1.0->allennlp) (1.0.5)\n",
            "Requirement already satisfied: thinc==7.4.0 in /usr/local/lib/python3.7/dist-packages (from spacy<3.1,>=2.1.0->allennlp) (7.4.0)\n",
            "Requirement already satisfied: srsly<1.1.0,>=1.0.2 in /usr/local/lib/python3.7/dist-packages (from spacy<3.1,>=2.1.0->allennlp) (1.0.5)\n",
            "Requirement already satisfied: blis<0.5.0,>=0.4.0 in /usr/local/lib/python3.7/dist-packages (from spacy<3.1,>=2.1.0->allennlp) (0.4.1)\n",
            "Requirement already satisfied: preshed<3.1.0,>=3.0.2 in /usr/local/lib/python3.7/dist-packages (from spacy<3.1,>=2.1.0->allennlp) (3.0.5)\n",
            "Requirement already satisfied: plac<1.2.0,>=0.9.6 in /usr/local/lib/python3.7/dist-packages (from spacy<3.1,>=2.1.0->allennlp) (1.1.3)\n",
            "Requirement already satisfied: cymem<2.1.0,>=2.0.2 in /usr/local/lib/python3.7/dist-packages (from spacy<3.1,>=2.1.0->allennlp) (2.0.5)\n",
            "Requirement already satisfied: wasabi<1.1.0,>=0.4.0 in /usr/local/lib/python3.7/dist-packages (from spacy<3.1,>=2.1.0->allennlp) (0.8.2)\n",
            "Requirement already satisfied: catalogue<1.1.0,>=0.0.7 in /usr/local/lib/python3.7/dist-packages (from spacy<3.1,>=2.1.0->allennlp) (1.0.0)\n",
            "Requirement already satisfied: certifi>=2017.4.17 in /usr/local/lib/python3.7/dist-packages (from requests>=2.18->allennlp) (2020.12.5)\n",
            "Requirement already satisfied: urllib3!=1.25.0,!=1.25.1,<1.26,>=1.21.1 in /usr/local/lib/python3.7/dist-packages (from requests>=2.18->allennlp) (1.24.3)\n",
            "Requirement already satisfied: chardet<4,>=3.0.2 in /usr/local/lib/python3.7/dist-packages (from requests>=2.18->allennlp) (3.0.4)\n",
            "Requirement already satisfied: idna<3,>=2.5 in /usr/local/lib/python3.7/dist-packages (from requests>=2.18->allennlp) (2.10)\n",
            "Requirement already satisfied: attrs>=17.4.0 in /usr/local/lib/python3.7/dist-packages (from pytest->allennlp) (21.2.0)\n",
            "Requirement already satisfied: six>=1.10.0 in /usr/local/lib/python3.7/dist-packages (from pytest->allennlp) (1.15.0)\n",
            "Requirement already satisfied: pluggy<0.8,>=0.5 in /usr/local/lib/python3.7/dist-packages (from pytest->allennlp) (0.7.1)\n",
            "Requirement already satisfied: atomicwrites>=1.0 in /usr/local/lib/python3.7/dist-packages (from pytest->allennlp) (1.4.0)\n",
            "Requirement already satisfied: py>=1.5.0 in /usr/local/lib/python3.7/dist-packages (from pytest->allennlp) (1.10.0)\n",
            "Requirement already satisfied: joblib>=0.11 in /usr/local/lib/python3.7/dist-packages (from scikit-learn->allennlp) (1.0.1)\n",
            "Requirement already satisfied: pillow>=4.1.1 in /usr/local/lib/python3.7/dist-packages (from torchvision<0.10.0,>=0.8.1->allennlp) (7.1.2)\n",
            "Requirement already satisfied: protobuf>=3.8.0 in /usr/local/lib/python3.7/dist-packages (from tensorboardX>=1.2->allennlp) (3.12.4)\n",
            "Requirement already satisfied: GitPython>=1.0.0 in /usr/local/lib/python3.7/dist-packages (from wandb<0.11.0,>=0.10.0->allennlp) (3.1.17)\n",
            "Requirement already satisfied: subprocess32>=3.5.3 in /usr/local/lib/python3.7/dist-packages (from wandb<0.11.0,>=0.10.0->allennlp) (3.5.4)\n",
            "Requirement already satisfied: psutil>=5.0.0 in /usr/local/lib/python3.7/dist-packages (from wandb<0.11.0,>=0.10.0->allennlp) (5.4.8)\n",
            "Requirement already satisfied: Click>=7.0 in /usr/local/lib/python3.7/dist-packages (from wandb<0.11.0,>=0.10.0->allennlp) (7.1.2)\n",
            "Requirement already satisfied: shortuuid>=0.5.0 in /usr/local/lib/python3.7/dist-packages (from wandb<0.11.0,>=0.10.0->allennlp) (1.0.1)\n",
            "Requirement already satisfied: configparser>=3.8.1 in /usr/local/lib/python3.7/dist-packages (from wandb<0.11.0,>=0.10.0->allennlp) (5.0.2)\n",
            "Requirement already satisfied: docker-pycreds>=0.4.0 in /usr/local/lib/python3.7/dist-packages (from wandb<0.11.0,>=0.10.0->allennlp) (0.4.0)\n",
            "Requirement already satisfied: promise<3,>=2.0 in /usr/local/lib/python3.7/dist-packages (from wandb<0.11.0,>=0.10.0->allennlp) (2.3)\n",
            "Requirement already satisfied: sentry-sdk>=0.4.0 in /usr/local/lib/python3.7/dist-packages (from wandb<0.11.0,>=0.10.0->allennlp) (1.1.0)\n",
            "Requirement already satisfied: pathtools in /usr/local/lib/python3.7/dist-packages (from wandb<0.11.0,>=0.10.0->allennlp) (0.1.2)\n",
            "Requirement already satisfied: PyYAML in /usr/local/lib/python3.7/dist-packages (from wandb<0.11.0,>=0.10.0->allennlp) (3.13)\n",
            "Requirement already satisfied: python-dateutil>=2.6.1 in /usr/local/lib/python3.7/dist-packages (from wandb<0.11.0,>=0.10.0->allennlp) (2.8.1)\n",
            "Requirement already satisfied: zipp>=0.5 in /usr/local/lib/python3.7/dist-packages (from importlib-metadata; python_version < \"3.8\"->transformers<4.6,>=4.1->allennlp) (3.4.1)\n",
            "Requirement already satisfied: pyparsing>=2.0.2 in /usr/local/lib/python3.7/dist-packages (from packaging->transformers<4.6,>=4.1->allennlp) (2.4.7)\n",
            "Requirement already satisfied: gitdb<5,>=4.0.1 in /usr/local/lib/python3.7/dist-packages (from GitPython>=1.0.0->wandb<0.11.0,>=0.10.0->allennlp) (4.0.7)\n",
            "Requirement already satisfied: smmap<5,>=3.0.1 in /usr/local/lib/python3.7/dist-packages (from gitdb<5,>=4.0.1->GitPython>=1.0.0->wandb<0.11.0,>=0.10.0->allennlp) (4.0.0)\n"
          ],
          "name": "stdout"
        }
      ]
    },
    {
      "cell_type": "code",
      "metadata": {
        "id": "1NxOS6LoxNcf"
      },
      "source": [
        "from typing import Dict, Iterable, List\n",
        "\n",
        "import torch\n",
        "import pandas as pd\n",
        "from allennlp.data import DatasetReader, Instance, Vocabulary, TextFieldTensors\n",
        "from allennlp.data.fields import LabelField, TextField\n",
        "from allennlp.data.token_indexers import TokenIndexer, SingleIdTokenIndexer, TokenCharactersIndexer\n",
        "from allennlp.data.tokenizers import Token, Tokenizer, WhitespaceTokenizer, CharacterTokenizer\n",
        "from allennlp.models import Model\n",
        "from allennlp.modules import TextFieldEmbedder, Seq2VecEncoder\n",
        "from allennlp.modules.text_field_embedders import BasicTextFieldEmbedder\n",
        "from allennlp.modules.token_embedders import Embedding, TokenCharactersEncoder\n",
        "from allennlp.modules.seq2vec_encoders import LstmSeq2VecEncoder, CnnEncoder\n",
        "from allennlp.nn import util\n",
        "from allennlp.training.metrics import CategoricalAccuracy\n",
        "from allennlp.data.data_loaders import MultiProcessDataLoader, DataLoader\n"
      ],
      "execution_count": 3,
      "outputs": []
    },
    {
      "cell_type": "code",
      "metadata": {
        "id": "zt7IsEkg8Yxr"
      },
      "source": [
        "class SentimentDataReader(DatasetReader):\n",
        "    def __init__(\n",
        "        self,\n",
        "        tokenizer: Tokenizer = None,\n",
        "        char_tokenizer: CharacterTokenizer = None,\n",
        "        token_indexers: Dict[str, TokenIndexer] = None,\n",
        "        max_tokens: int = None,\n",
        "        label_col: str = 'sentiment',\n",
        "        **kwargs\n",
        "    ):\n",
        "        super().__init__(**kwargs)\n",
        "        self.tokenizer = tokenizer or WhitespaceTokenizer()\n",
        "        self.char_tokenizer = char_tokenizer or CharacterTokenizer()\n",
        "        if token_indexers is None:\n",
        "            self.token_indexers = {\n",
        "                    \"tokens\": SingleIdTokenIndexer(namespace=\"tokens\"),\n",
        "                    \"token_characters\": TokenCharactersIndexer(namespace=\"token_characters\", min_padding_length=3)\n",
        "                }\n",
        "        else:\n",
        "            self.token_indexers = token_indexers\n",
        "        self.max_tokens = max_tokens\n",
        "        self.label_col = label_col\n",
        "\n",
        "    def text_to_instance(self, text, label):\n",
        "        tokens = self.tokenizer.tokenize(text)\n",
        "        if self.max_tokens:\n",
        "                tokens = tokens[: self.max_tokens]\n",
        "\n",
        "        text_field = TextField(tokens, self.token_indexers)\n",
        "        fields = {\n",
        "            \"tokens\": text_field\n",
        "        }\n",
        "        if label:\n",
        "            fields['label'] = LabelField(label)\n",
        "        return Instance(fields)\n",
        "\n",
        "    def _read(self, file_path) -> Iterable[Instance]:\n",
        "        if isinstance(file_path, str):\n",
        "            df = pd.read_csv(file_path)\n",
        "        elif isinstance(file_path, pd.DataFrame):\n",
        "            df = file_path\n",
        "        for _, row in df.iterrows():\n",
        "            text = row['text']\n",
        "            sentiment = row[self.label_col]\n",
        "            yield self.text_to_instance(text, sentiment)\n"
      ],
      "execution_count": 74,
      "outputs": []
    },
    {
      "cell_type": "code",
      "metadata": {
        "colab": {
          "base_uri": "https://localhost:8080/"
        },
        "id": "DncMFDfy7yua",
        "outputId": "a3aa45e5-5c75-491a-8c8e-e180bce11e83"
      },
      "source": [
        "instances = SentimentDataReader().read('/content/drive/MyDrive/Learning/20202/NLP/data/val.csv')\n",
        "c = 0\n",
        "for i in instances:\n",
        "  print(i)\n",
        "  c+=1\n",
        "  if c> 2:\n",
        "    break"
      ],
      "execution_count": 75,
      "outputs": [
        {
          "output_type": "stream",
          "text": [
            "Instance with fields:\n",
            " \t tokens: TextField of length 6 with text: \n",
            " \t\t[giáo, trình, chưa, cụ, thể, .]\n",
            " \t\tand TokenIndexers : {'tokens': 'SingleIdTokenIndexer', 'token_characters': 'TokenCharactersIndexer'} \n",
            " \t label: LabelField with label: negative in namespace: 'labels'. \n",
            "\n",
            "Instance with fields:\n",
            " \t tokens: TextField of length 4 with text: \n",
            " \t\t[giảng, buồn, ngủ, .]\n",
            " \t\tand TokenIndexers : {'tokens': 'SingleIdTokenIndexer', 'token_characters': 'TokenCharactersIndexer'} \n",
            " \t label: LabelField with label: negative in namespace: 'labels'. \n",
            "\n",
            "Instance with fields:\n",
            " \t tokens: TextField of length 8 with text: \n",
            " \t\t[giáo, viên, vui, tính, ,, tận, tâm, .]\n",
            " \t\tand TokenIndexers : {'tokens': 'SingleIdTokenIndexer', 'token_characters': 'TokenCharactersIndexer'} \n",
            " \t label: LabelField with label: positive in namespace: 'labels'. \n",
            "\n"
          ],
          "name": "stdout"
        }
      ]
    },
    {
      "cell_type": "code",
      "metadata": {
        "colab": {
          "base_uri": "https://localhost:8080/"
        },
        "id": "Eehuwp5EsMpn",
        "outputId": "c212e3ef-2c7d-4cf6-bd5a-700f4cd8a593"
      },
      "source": [
        "df = pd.read_csv('/content/drive/MyDrive/Learning/20202/NLP/data/val.csv')\n",
        "instances = SentimentDataReader().read(df)\n",
        "c = 0\n",
        "for i in instances:\n",
        "  print(i)\n",
        "  c+=1\n",
        "  if c> 2:\n",
        "    break"
      ],
      "execution_count": 76,
      "outputs": [
        {
          "output_type": "stream",
          "text": [
            "Instance with fields:\n",
            " \t tokens: TextField of length 6 with text: \n",
            " \t\t[giáo, trình, chưa, cụ, thể, .]\n",
            " \t\tand TokenIndexers : {'tokens': 'SingleIdTokenIndexer', 'token_characters': 'TokenCharactersIndexer'} \n",
            " \t label: LabelField with label: negative in namespace: 'labels'. \n",
            "\n",
            "Instance with fields:\n",
            " \t tokens: TextField of length 4 with text: \n",
            " \t\t[giảng, buồn, ngủ, .]\n",
            " \t\tand TokenIndexers : {'tokens': 'SingleIdTokenIndexer', 'token_characters': 'TokenCharactersIndexer'} \n",
            " \t label: LabelField with label: negative in namespace: 'labels'. \n",
            "\n",
            "Instance with fields:\n",
            " \t tokens: TextField of length 8 with text: \n",
            " \t\t[giáo, viên, vui, tính, ,, tận, tâm, .]\n",
            " \t\tand TokenIndexers : {'tokens': 'SingleIdTokenIndexer', 'token_characters': 'TokenCharactersIndexer'} \n",
            " \t label: LabelField with label: positive in namespace: 'labels'. \n",
            "\n"
          ],
          "name": "stdout"
        }
      ]
    },
    {
      "cell_type": "code",
      "metadata": {
        "id": "a9rPDsq--_i3"
      },
      "source": [
        "from allennlp.training.metrics import CategoricalAccuracy, F1Measure\n",
        "\n",
        "class SimpleClassifier(Model):\n",
        "    def __init__(self,\n",
        "                 vocab: Vocabulary,\n",
        "                 embedder: TextFieldEmbedder,\n",
        "                 encoder: Seq2VecEncoder):\n",
        "        super().__init__(vocab)\n",
        "        self.embedder = embedder\n",
        "        self.encoder = encoder\n",
        "        num_labels = vocab.get_vocab_size(\"labels\")\n",
        "        self.classifier = torch.nn.Linear(encoder.get_output_dim(), num_labels)\n",
        "        self.accuracy = CategoricalAccuracy()\n",
        "        self.f1_measure = F1Measure(1)\n",
        "\n",
        "    def forward(self,\n",
        "                tokens: Dict[str, torch.Tensor],\n",
        "                label: torch.Tensor = None) -> Dict[str, torch.Tensor]:\n",
        "        # Shape: (batch_size, num_tokens, embedding_dim)\n",
        "        embedded_text = self.embedder(tokens)\n",
        "        # Shape: (batch_size, num_tokens)\n",
        "        mask = util.get_text_field_mask(tokens)\n",
        "        # Shape: (batch_size, encoding_dim)\n",
        "        encoded_text = self.encoder(embedded_text, mask)\n",
        "        # Shape: (batch_size, num_labels)\n",
        "        logits = self.classifier(encoded_text)\n",
        "        # Shape: (batch_size, num_labels)\n",
        "        probs = torch.nn.functional.softmax(logits)\n",
        "        # Shape: (1,)\n",
        "        output = {\n",
        "            'probs': probs,\n",
        "            'logits': logits\n",
        "        }\n",
        "        if label is not None:\n",
        "            loss = torch.nn.functional.cross_entropy(logits, label)\n",
        "            output['loss'] = loss\n",
        "            self.accuracy(logits, label)\n",
        "            self.f1_measure(logits, label)\n",
        "\n",
        "        return output\n",
        "    \n",
        "    def get_metrics(self, reset: bool = False) -> Dict[str, float]:\n",
        "        metrics_result = self.f1_measure.get_metric(reset)\n",
        "        metrics_result['accuracy'] = self.accuracy.get_metric(reset)\n",
        "        \n",
        "        return metrics_result"
      ],
      "execution_count": 77,
      "outputs": []
    },
    {
      "cell_type": "code",
      "metadata": {
        "id": "tnw_q1GADuzI"
      },
      "source": [
        "import tempfile\n",
        "from typing import Dict, Iterable, List, Tuple\n",
        "import shutil\n",
        "import os\n",
        "\n",
        "import allennlp\n",
        "import torch\n",
        "from allennlp.data import (\n",
        "    DataLoader,\n",
        "    DatasetReader,\n",
        "    Instance,\n",
        "    Vocabulary,\n",
        "    TextFieldTensors,\n",
        ")\n",
        "from allennlp.data.data_loaders import SimpleDataLoader\n",
        "from allennlp.data.fields import LabelField, TextField\n",
        "from allennlp.data.token_indexers import TokenIndexer, SingleIdTokenIndexer\n",
        "from allennlp.data.tokenizers import Token, Tokenizer, WhitespaceTokenizer\n",
        "from allennlp.models import Model\n",
        "from allennlp.modules import TextFieldEmbedder, Seq2VecEncoder\n",
        "from allennlp.modules.seq2vec_encoders import BagOfEmbeddingsEncoder\n",
        "from allennlp.modules.token_embedders import Embedding\n",
        "from allennlp.modules.text_field_embedders import BasicTextFieldEmbedder\n",
        "from allennlp.nn import util\n",
        "from allennlp.training.trainer import GradientDescentTrainer, Trainer\n",
        "from allennlp.training.optimizers import AdamOptimizer\n",
        "from allennlp.training.metrics import CategoricalAccuracy\n",
        "\n",
        "\n",
        "train_path = '/content/drive/MyDrive/Learning/20202/NLP/data/train.csv'\n",
        "test_path = '/content/drive/MyDrive/Learning/20202/NLP/data/test.csv'\n",
        "val_path = '/content/drive/MyDrive/Learning/20202/NLP/data/val.csv'\n",
        "\n",
        "def build_model(\n",
        "    vocab,\n",
        "    embedding_dim=100,\n",
        "    hidden_size=128,\n",
        "    char_embedding_dim=34,\n",
        "    dropout=0.4,\n",
        "    bidirectional=True,\n",
        "    word_embedding_pretrain_file=None\n",
        "):\n",
        "     # token embedding\n",
        "    embedding = Embedding(embedding_dim=embedding_dim, vocab_namespace='tokens', vocab=vocab, pretrained_file=word_embedding_pretrain_file)\n",
        "        \n",
        "    # char embedding with cnnencoder\n",
        "    character_embedding = Embedding(embedding_dim=char_embedding_dim, vocab_namespace='token_characters', vocab=vocab)\n",
        "    cnn_encoder = CnnEncoder(embedding_dim=char_embedding_dim, num_filters=char_embedding_dim, ngram_filter_sizes=(3,))\n",
        "    token_encoder = TokenCharactersEncoder(character_embedding, cnn_encoder)\n",
        "\n",
        "    embedder = BasicTextFieldEmbedder(\n",
        "        {\n",
        "            \"tokens\": embedding,\n",
        "            \"token_characters\": token_encoder\n",
        "        }\n",
        "    )\n",
        "        \n",
        "    encoder = LstmSeq2VecEncoder(input_size=embedder.get_output_dim(), hidden_size=hidden_size, num_layers=2, bidirectional=bidirectional, dropout=dropout)\n",
        "\n",
        "    model = SimpleClassifier(\n",
        "        vocab,\n",
        "        embedder,\n",
        "        encoder\n",
        "    )\n",
        "    model.to('cuda')\n",
        "    return model\n",
        "\n",
        "def build_dataset_reader(max_tokens=80, label_col='sentiment') -> DatasetReader:\n",
        "    return SentimentDataReader(max_tokens=max_tokens, label_col=label_col)\n",
        "\n",
        "\n",
        "def read_data(reader: DatasetReader, train_path, val_path) -> Tuple[List[Instance], List[Instance]]:\n",
        "    print(\"Reading data\")\n",
        "    training_data = list(reader.read(train_path))\n",
        "    validation_data = list(reader.read(val_path))\n",
        "    return training_data, validation_data\n",
        "\n",
        "\n",
        "def build_vocab(instances: Iterable[Instance]) -> Vocabulary:\n",
        "    print(\"Building the vocabulary\")\n",
        "    return Vocabulary.from_instances(instances)\n",
        "\n",
        "def build_data_loaders(\n",
        "    train_data: List[Instance],\n",
        "    dev_data: List[Instance],\n",
        "    batch_size=64\n",
        ") -> Tuple[DataLoader, DataLoader]:\n",
        "    train_loader = SimpleDataLoader(train_data, batch_size, shuffle=True)\n",
        "    dev_loader = SimpleDataLoader(dev_data, batch_size, shuffle=False)\n",
        "    return train_loader, dev_loader\n",
        "\n",
        "def build_trainer(\n",
        "    model,\n",
        "    serialization_dir,\n",
        "    train_loader,\n",
        "    dev_loader,\n",
        "    num_epochs=7,\n",
        "    grad_clipping=5,\n",
        "    weight_decay=0.0001\n",
        "):\n",
        "    parameters = [(n, p) for n, p in model.named_parameters() if p.requires_grad]\n",
        "    optimizer = AdamOptimizer(parameters, lr=0.001, weight_decay=weight_decay)  # type: ignore\n",
        "    trainer = GradientDescentTrainer(\n",
        "        model=model,\n",
        "        serialization_dir=serialization_dir,\n",
        "        data_loader=train_loader,\n",
        "        validation_data_loader=dev_loader,\n",
        "        num_epochs=num_epochs,\n",
        "        optimizer=optimizer,\n",
        "        grad_clipping=grad_clipping,\n",
        "        cuda_device=0\n",
        "\n",
        "    )\n",
        "    return trainer\n",
        "\n",
        "def run_training_loop(\n",
        "    train_df,\n",
        "    val_df,\n",
        "    label_col='sentiment',\n",
        "    serialization_dir='models',\n",
        "    checkpoint=False,\n",
        "    embedding_dim=100,\n",
        "    hidden_size=128,\n",
        "    char_embedding_dim=34,\n",
        "    dropout=0.4,\n",
        "    bidirectional=True,\n",
        "    word_embedding_pretrain_file=None,\n",
        "    num_epochs=7,\n",
        "    grad_clipping=5,\n",
        "    weight_decay=0.0001\n",
        "):    \n",
        "\n",
        "    print('num_epochs', num_epochs)\n",
        "    print('word_embedding_pretrain_file', word_embedding_pretrain_file)\n",
        "    print('dropout', dropout)\n",
        "    print('grad_clipping', grad_clipping)\n",
        "    print('weight_decay', weight_decay)\n",
        "    if checkpoint is False:\n",
        "        if os.path.exists(serialization_dir):\n",
        "            shutil.rmtree(serialization_dir)\n",
        "\n",
        "    dataset_reader = build_dataset_reader(max_tokens=80, label_col=label_col)\n",
        "\n",
        "    train_data, dev_data = read_data(dataset_reader, train_df, val_df)\n",
        "\n",
        "    vocab = build_vocab(train_data + dev_data)\n",
        "\n",
        "    model = build_model( \n",
        "        vocab,\n",
        "        embedding_dim=embedding_dim,\n",
        "        hidden_size=hidden_size,\n",
        "        char_embedding_dim=char_embedding_dim,\n",
        "        dropout=dropout,\n",
        "        bidirectional=bidirectional,\n",
        "        word_embedding_pretrain_file=word_embedding_pretrain_file\n",
        "      )\n",
        "\n",
        "    train_loader, dev_loader = build_data_loaders(train_data, dev_data, batch_size=128)\n",
        "    train_loader.index_with(vocab)\n",
        "    dev_loader.index_with(vocab)\n",
        "\n",
        "    trainer = build_trainer(model,\n",
        "                            serialization_dir, \n",
        "                            train_loader, \n",
        "                            dev_loader,\n",
        "                            num_epochs=num_epochs,\n",
        "                            grad_clipping=grad_clipping,\n",
        "                            weight_decay=weight_decay\n",
        "                            )\n",
        "\n",
        "  \n",
        "    trainer.train()\n",
        "\n",
        "\n",
        "    return model, dataset_reader"
      ],
      "execution_count": 78,
      "outputs": []
    },
    {
      "cell_type": "code",
      "metadata": {
        "colab": {
          "base_uri": "https://localhost:8080/"
        },
        "id": "w3zFTYMFsujm",
        "outputId": "5409d2fe-f6d0-4e15-c475-82e56c0745bc"
      },
      "source": [
        "from sklearn.model_selection import KFold\n",
        "\n",
        "\n",
        "train_df = pd.read_csv(train_path)\n",
        "val_df = pd.read_csv(val_path)\n",
        "df = pd.concat([train_df, val_df])\n",
        "\n",
        "neutral_df = df[df['sentiment'] == 'neutral']\n",
        "df = pd.concat([df, neutral_df, neutral_df])\n",
        "splits = list(KFold(n_splits=8, shuffle=True, random_state=42).split(df))\n",
        "\n",
        "model_folds = []\n",
        "for fold, (train_idx, val_idx) in enumerate(splits):\n",
        "    print('-'*40 + str(fold) + '-'*40)\n",
        "    train_df_ = df.iloc[train_idx.tolist()]\n",
        "    val_df_ = df.iloc[val_idx.tolist()]\n",
        "    model_folds.append(\n",
        "        run_training_loop(\n",
        "            train_df=train_df_,\n",
        "            val_df=val_df_,\n",
        "            label_col='sentiment',\n",
        "            serialization_dir='models',\n",
        "            checkpoint=False,\n",
        "            bidirectional=True,\n",
        "            embedding_dim=100,\n",
        "            hidden_size=128,\n",
        "            char_embedding_dim=34,\n",
        "            dropout=0.4,\n",
        "            word_embedding_pretrain_file='/content/drive/MyDrive/Learning/20202/NLP/w2v/pretrained/viki_adapt/viki_adapt_w2v.txt',\n",
        "            num_epochs=5,\n",
        "            grad_clipping=5,\n",
        "            weight_decay=0.0001\n",
        "        )\n",
        "    )\n",
        "    \n"
      ],
      "execution_count": null,
      "outputs": [
        {
          "output_type": "stream",
          "text": [
            "----------------------------------------0----------------------------------------\n",
            "num_epochs 5\n",
            "word_embedding_pretrain_file /content/drive/MyDrive/Learning/20202/NLP/w2v/pretrained/viki_adapt/viki_adapt_w2v.txt\n",
            "dropout 0.4\n",
            "grad_clipping 5\n",
            "weight_decay 0.0001\n",
            "Reading data\n"
          ],
          "name": "stdout"
        },
        {
          "output_type": "stream",
          "text": [
            "building vocab:  10%|#         | 1422/14071 [00:00<00:00, 14219.81it/s]"
          ],
          "name": "stderr"
        },
        {
          "output_type": "stream",
          "text": [
            "Building the vocabulary\n"
          ],
          "name": "stdout"
        },
        {
          "output_type": "stream",
          "text": [
            "building vocab: 100%|##########| 14071/14071 [00:00<00:00, 14167.54it/s]\n",
            "100%|##########| 20577/20577 [00:00<00:00, 153078.36it/s]\n",
            "You provided a validation dataset but patience was set to None, meaning that early stopping is disabled\n",
            "  0%|          | 0/97 [00:00<?, ?it/s]/usr/local/lib/python3.7/dist-packages/ipykernel_launcher.py:28: UserWarning: Implicit dimension choice for softmax has been deprecated. Change the call to include dim=X as an argument.\n",
            "precision: 0.7854, recall: 0.8916, f1: 0.8351, accuracy: 0.8158, batch_loss: 0.0776, loss: 0.4752 ||: 100%|##########| 97/97 [00:05<00:00, 16.33it/s]\n",
            "precision: 0.8587, recall: 0.9338, f1: 0.8947, accuracy: 0.8795, batch_loss: 1.0772, loss: 0.3372 ||: 100%|##########| 14/14 [00:00<00:00, 47.57it/s]\n",
            "precision: 0.9040, recall: 0.9352, f1: 0.9193, accuracy: 0.9072, batch_loss: 0.0899, loss: 0.2603 ||: 100%|##########| 97/97 [00:05<00:00, 16.38it/s]\n",
            "precision: 0.9089, recall: 0.9377, f1: 0.9231, accuracy: 0.9125, batch_loss: 0.5287, loss: 0.2599 ||: 100%|##########| 14/14 [00:00<00:00, 49.99it/s]\n",
            "precision: 0.9373, recall: 0.9555, f1: 0.9463, accuracy: 0.9384, batch_loss: 0.2142, loss: 0.1807 ||: 100%|##########| 97/97 [00:05<00:00, 16.22it/s]\n",
            "precision: 0.9038, recall: 0.9576, f1: 0.9299, accuracy: 0.9221, batch_loss: 0.3304, loss: 0.2355 ||: 100%|##########| 14/14 [00:00<00:00, 48.20it/s]\n",
            "precision: 0.9539, recall: 0.9687, f1: 0.9612, accuracy: 0.9552, batch_loss: 0.3983, loss: 0.1361 ||: 100%|##########| 97/97 [00:05<00:00, 16.32it/s]\n",
            "precision: 0.9205, recall: 0.9351, f1: 0.9277, accuracy: 0.9215, batch_loss: 0.1803, loss: 0.2392 ||: 100%|##########| 14/14 [00:00<00:00, 48.50it/s]\n",
            "precision: 0.9633, recall: 0.9744, f1: 0.9688, accuracy: 0.9633, batch_loss: 0.0809, loss: 0.1087 ||: 100%|##########| 97/97 [00:05<00:00, 16.51it/s]\n",
            "precision: 0.9269, recall: 0.9404, f1: 0.9336, accuracy: 0.9278, batch_loss: 0.1120, loss: 0.2245 ||: 100%|##########| 14/14 [00:00<00:00, 48.15it/s]\n"
          ],
          "name": "stderr"
        },
        {
          "output_type": "stream",
          "text": [
            "----------------------------------------1----------------------------------------\n",
            "num_epochs 5\n",
            "word_embedding_pretrain_file /content/drive/MyDrive/Learning/20202/NLP/w2v/pretrained/viki_adapt/viki_adapt_w2v.txt\n",
            "dropout 0.4\n",
            "grad_clipping 5\n",
            "weight_decay 0.0001\n",
            "Reading data\n"
          ],
          "name": "stdout"
        },
        {
          "output_type": "stream",
          "text": [
            "building vocab:  10%|#         | 1414/14071 [00:00<00:00, 14130.38it/s]"
          ],
          "name": "stderr"
        },
        {
          "output_type": "stream",
          "text": [
            "Building the vocabulary\n"
          ],
          "name": "stdout"
        },
        {
          "output_type": "stream",
          "text": [
            "building vocab: 100%|##########| 14071/14071 [00:00<00:00, 14239.79it/s]\n",
            "100%|##########| 20577/20577 [00:00<00:00, 151879.07it/s]\n",
            "You provided a validation dataset but patience was set to None, meaning that early stopping is disabled\n",
            "precision: 0.7879, recall: 0.8732, f1: 0.8284, accuracy: 0.8080, batch_loss: 0.3006, loss: 0.4856 ||: 100%|##########| 97/97 [00:05<00:00, 16.68it/s]\n",
            "precision: 0.8879, recall: 0.9287, f1: 0.9078, accuracy: 0.8835, batch_loss: 0.9400, loss: 0.3551 ||: 100%|##########| 14/14 [00:00<00:00, 46.44it/s]\n",
            "precision: 0.9031, recall: 0.9380, f1: 0.9202, accuracy: 0.9072, batch_loss: 0.3854, loss: 0.2592 ||: 100%|##########| 97/97 [00:05<00:00, 16.83it/s]\n",
            "precision: 0.9046, recall: 0.9427, f1: 0.9233, accuracy: 0.9119, batch_loss: 0.6375, loss: 0.2720 ||: 100%|##########| 14/14 [00:00<00:00, 40.90it/s]\n",
            "precision: 0.9387, recall: 0.9571, f1: 0.9478, accuracy: 0.9393, batch_loss: 0.2135, loss: 0.1799 ||: 100%|##########| 97/97 [00:05<00:00, 16.62it/s]\n",
            "precision: 0.9103, recall: 0.9439, f1: 0.9268, accuracy: 0.9164, batch_loss: 0.5795, loss: 0.2507 ||: 100%|##########| 14/14 [00:00<00:00, 46.36it/s]\n",
            "precision: 0.9591, recall: 0.9704, f1: 0.9647, accuracy: 0.9581, batch_loss: 0.0085, loss: 0.1255 ||: 100%|##########| 97/97 [00:05<00:00, 16.57it/s]\n",
            "precision: 0.9332, recall: 0.9427, f1: 0.9379, accuracy: 0.9306, batch_loss: 0.3382, loss: 0.2382 ||: 100%|##########| 14/14 [00:00<00:00, 46.52it/s]\n",
            "precision: 0.9723, recall: 0.9785, f1: 0.9754, accuracy: 0.9697, batch_loss: 0.1113, loss: 0.0980 ||:  57%|#####6    | 55/97 [00:03<00:02, 16.09it/s]"
          ],
          "name": "stderr"
        }
      ]
    },
    {
      "cell_type": "code",
      "metadata": {
        "id": "oYSgQBvEf656"
      },
      "source": [
        "def predict(model, text: str):\n",
        "        tokens = [Token(token) for token in text.split(' ')]\n",
        "        text_field = TextField(tokens, self._token_indexers)\n",
        "        instance = Instance({\n",
        "            \"tokens\": text_field\n",
        "        })\n",
        "        output = model.forward_on_instance(instance)\n",
        "        y_prediction = np.argmax(output['probs'], axis=-1)\n",
        "        y_probs = np.max(output['probs'], axis=-1)\n",
        "        prediction = model.vocab.get_token_from_index(y_prediction, namespace='labels')\n",
        "        return prediction"
      ],
      "execution_count": 93,
      "outputs": []
    },
    {
      "cell_type": "markdown",
      "metadata": {
        "id": "8g8rZM0oxE4u"
      },
      "source": [
        "## Evaluate"
      ]
    },
    {
      "cell_type": "code",
      "metadata": {
        "id": "itx3YCmc092a"
      },
      "source": [
        "from sklearn.metrics import accuracy_score, f1_score, precision_score, recall_score\n",
        "from sklearn.metrics import confusion_matrix, classification_report\n",
        "from typing import Dict\n",
        "import os\n",
        "import itertools\n",
        "import numpy as np\n",
        "import matplotlib.pyplot as plt\n",
        "\n",
        "\n",
        "def plot_confusion_matrix(\n",
        "        cm,\n",
        "        target_names,\n",
        "        title='Confusion matrix',\n",
        "        cmap=None,\n",
        "        normalize=True,\n",
        "        save_dir='results'):\n",
        "\n",
        "    accuracy = np.trace(cm) / float(np.sum(cm))\n",
        "    misclass = 1 - accuracy\n",
        "\n",
        "    if cmap is None:\n",
        "        cmap = plt.get_cmap('Blues')\n",
        "\n",
        "    width = int(10/7*len(target_names))\n",
        "\n",
        "    height = int(8/7*len(target_names))\n",
        "\n",
        "    # plt.figure(figsize=(width, height))\n",
        "    plt.imshow(cm, cmap=cmap)\n",
        "    # plt.title(title)\n",
        "    plt.colorbar()\n",
        "\n",
        "    if target_names:\n",
        "        tick_marks = np.arange(len(target_names))\n",
        "        plt.xticks(tick_marks, target_names, rotation=90)\n",
        "        plt.yticks(tick_marks, target_names)\n",
        "\n",
        "    if normalize:\n",
        "        cm = cm.astype('float') / cm.sum(axis=1)[:, np.newaxis]\n",
        "\n",
        "    thresh = cm.max() / 1.5 if normalize else cm.max() / 2\n",
        "    for i, j in itertools.product(range(cm.shape[0]), range(cm.shape[1])):\n",
        "        if normalize:\n",
        "            plt.text(j, i, \"{:0.2f}\".format(cm[i, j]),\n",
        "                     horizontalalignment=\"center\",\n",
        "                     color=\"red\" if cm[i, j] > thresh else \"black\")\n",
        "        else:\n",
        "            plt.text(j, i, \"{:,}\".format(cm[i, j]),\n",
        "                     horizontalalignment=\"center\",\n",
        "                     color=\"red\" if cm[i, j] > thresh else \"black\")\n",
        "\n",
        "    plt.tight_layout()\n",
        "    plt.ylabel('True label')\n",
        "    plt.xlabel('Predicted label')\n",
        "\n",
        "    if os.path.exists(save_dir) is False:\n",
        "        os.mkdir(save_dir)\n",
        "\n",
        "    try:\n",
        "        print(f\"Save confusion-matrix...\")\n",
        "        plt.savefig((save_dir + '/{}.png'.format(title)))\n",
        "    except IOError:\n",
        "        print(f\"Could not save file in directory: {save_dir}\")\n",
        "\n",
        "    plt.show()"
      ],
      "execution_count": 94,
      "outputs": []
    },
    {
      "cell_type": "code",
      "metadata": {
        "id": "AyHNzJX8xEbB"
      },
      "source": [
        "import numpy as np\n",
        "def predict_kfold(model_folds, text: str):\n",
        "    # print(text)\n",
        "    tokens = [Token(token) for token in text.split(' ')]\n",
        "    token_indexers = model_folds[0][1].token_indexers\n",
        "    max_tokens = model_folds[0][1].max_tokens\n",
        "    models = [x[0] for x in model_folds]\n",
        "    vocab = model_folds[0][0].vocab\n",
        "\n",
        "    if len(tokens) > max_tokens:\n",
        "        tokens = tokens[:max_tokens]\n",
        "    text_field = TextField(tokens, token_indexers)\n",
        "    instance = Instance({\n",
        "        \"tokens\": text_field\n",
        "    })\n",
        "    outputs = [model.forward_on_instance(instance) for model in models]\n",
        "    y_predictions = [np.argmax(output['probs'], axis=-1) for output in outputs]\n",
        "    y_probs = [np.max(output['probs'], axis=-1) for output in outputs]\n",
        "    predictions = [vocab.get_token_from_index(y_prediction, namespace='labels') for y_prediction in y_predictions]\n",
        "    predictioin_final = max(predictions, key = predictions.count)\n",
        "    return predictioin_final"
      ],
      "execution_count": 95,
      "outputs": []
    },
    {
      "cell_type": "code",
      "metadata": {
        "colab": {
          "base_uri": "https://localhost:8080/",
          "height": 73
        },
        "id": "3vtg_lwJ1qzt",
        "outputId": "412e58ee-19b8-4f00-a22b-217883459bdf"
      },
      "source": [
        "predict_kfold(model_folds, \"giảng viên nhiệt tình tâm huyết\")"
      ],
      "execution_count": 96,
      "outputs": [
        {
          "output_type": "stream",
          "text": [
            "/usr/local/lib/python3.7/dist-packages/ipykernel_launcher.py:28: UserWarning: Implicit dimension choice for softmax has been deprecated. Change the call to include dim=X as an argument.\n"
          ],
          "name": "stderr"
        },
        {
          "output_type": "execute_result",
          "data": {
            "application/vnd.google.colaboratory.intrinsic+json": {
              "type": "string"
            },
            "text/plain": [
              "'positive'"
            ]
          },
          "metadata": {
            "tags": []
          },
          "execution_count": 96
        }
      ]
    },
    {
      "cell_type": "code",
      "metadata": {
        "colab": {
          "base_uri": "https://localhost:8080/"
        },
        "id": "TD8U_HTD0-DJ",
        "outputId": "7b1bd4c9-ad34-4775-c585-5020908647cd"
      },
      "source": [
        "vocab = model_folds[0][0].vocab\n",
        "\n",
        "test_df = pd.read_csv(test_path)\n",
        "texts = test_df['text'].tolist()\n",
        "label_true = test_df['sentiment'].tolist()\n",
        "label_pred = [predict_kfold(model_folds, text) for text in texts]\n",
        "y_true = [vocab.get_token_index(label, namespace='labels') for label in label_true]\n",
        "y_pred = [vocab.get_token_index(label, namespace='labels') for label in label_pred]\n",
        "\n",
        "# get metric scores\n",
        "acc = accuracy_score(y_true, y_pred)\n",
        "precision = precision_score(y_true, y_pred, average='macro')\n",
        "recall = recall_score(y_true, y_pred, average='macro')\n",
        "f1 = f1_score(y_true, y_pred, average='macro')\n",
        "\n",
        "labels = list(vocab.get_token_to_index_vocabulary('labels').keys())\n",
        "report = classification_report(label_true, label_pred, labels=labels)\n",
        "print(f'Evaluate ')\n",
        "print('Accuracy :', acc)\n",
        "print('Precision:', precision)\n",
        "print('Recall   :', recall)\n",
        "print('F1-Score :', f1)"
      ],
      "execution_count": 97,
      "outputs": [
        {
          "output_type": "stream",
          "text": [
            "/usr/local/lib/python3.7/dist-packages/ipykernel_launcher.py:28: UserWarning: Implicit dimension choice for softmax has been deprecated. Change the call to include dim=X as an argument.\n"
          ],
          "name": "stderr"
        },
        {
          "output_type": "stream",
          "text": [
            "Evaluate \n",
            "Accuracy : 0.8960833859759949\n",
            "Precision: 0.8024543642114197\n",
            "Recall   : 0.7041948402296869\n",
            "F1-Score : 0.7277143746112477\n"
          ],
          "name": "stdout"
        }
      ]
    },
    {
      "cell_type": "code",
      "metadata": {
        "colab": {
          "base_uri": "https://localhost:8080/",
          "height": 641
        },
        "id": "0qn7YQfi0-IZ",
        "outputId": "b66894d8-d634-408d-e78b-2ffdb6e90ee0"
      },
      "source": [
        "cm = confusion_matrix(label_true, label_pred, labels=labels)\n",
        "plot_confusion_matrix(cm, target_names=labels, title=f'Confusion Matrix (sentiment)', normalize=False)\n",
        "plot_confusion_matrix(cm, target_names=labels, title=f'Confusion Matrix Normalize (sentiment)', normalize=True)"
      ],
      "execution_count": 98,
      "outputs": [
        {
          "output_type": "stream",
          "text": [
            "Save confusion-matrix...\n"
          ],
          "name": "stdout"
        },
        {
          "output_type": "display_data",
          "data": {
            "image/png": "[encoded data removed]",
            "text/plain": [
              "<Figure size 432x288 with 2 Axes>"
            ]
          },
          "metadata": {
            "tags": [],
            "needs_background": "light"
          }
        },
        {
          "output_type": "stream",
          "text": [
            "Save confusion-matrix...\n"
          ],
          "name": "stdout"
        },
        {
          "output_type": "display_data",
          "data": {
            "image/png": "[encoded data removed]",
            "text/plain": [
              "<Figure size 432x288 with 2 Axes>"
            ]
          },
          "metadata": {
            "tags": [],
            "needs_background": "light"
          }
        }
      ]
    },
    {
      "cell_type": "code",
      "metadata": {
        "id": "Dog9uXcZ3mjr",
        "colab": {
          "base_uri": "https://localhost:8080/",
          "height": 370
        },
        "outputId": "822f7271-13ce-4771-ade5-7e9e3c33013f"
      },
      "source": [
        "\n",
        "test_df_false = test_df[test_df['sentiment'] != test_df['sentiment_pred']]\n",
        "test_df_false.to_csv('/content/drive/MyDrive/Learning/20202/NLP/false_sent_pred.csv', index=False)\n",
        "\n",
        "test_df_true = test_df[test_df['sentiment'] == test_df['sentiment_pred']]\n",
        "test_df_true.to_csv('/content/drive/MyDrive/Learning/20202/NLP/true_sent_pred.csv', index=False)"
      ],
      "execution_count": 89,
      "outputs": [
        {
          "output_type": "error",
          "ename": "TypeError",
          "evalue": "ignored",
          "traceback": [
            "\u001b[0;31m---------------------------------------------------------------------------\u001b[0m",
            "\u001b[0;31mTypeError\u001b[0m                                 Traceback (most recent call last)",
            "\u001b[0;32m<ipython-input-89-7847def705d3>\u001b[0m in \u001b[0;36m<module>\u001b[0;34m()\u001b[0m\n\u001b[1;32m      1\u001b[0m \u001b[0;34m\u001b[0m\u001b[0m\n\u001b[0;32m----> 2\u001b[0;31m \u001b[0mpredictions\u001b[0m \u001b[0;34m=\u001b[0m \u001b[0;34m[\u001b[0m\u001b[0mpredict\u001b[0m\u001b[0;34m(\u001b[0m\u001b[0mtext\u001b[0m\u001b[0;34m)\u001b[0m \u001b[0;32mfor\u001b[0m \u001b[0mtext\u001b[0m \u001b[0;32min\u001b[0m \u001b[0mtexts\u001b[0m\u001b[0;34m]\u001b[0m\u001b[0;34m\u001b[0m\u001b[0;34m\u001b[0m\u001b[0m\n\u001b[0m\u001b[1;32m      3\u001b[0m \u001b[0mtext_df\u001b[0m\u001b[0;34m[\u001b[0m\u001b[0;34m'sentiment_pred'\u001b[0m\u001b[0;34m]\u001b[0m \u001b[0;34m=\u001b[0m \u001b[0mpredictions\u001b[0m\u001b[0;34m\u001b[0m\u001b[0;34m\u001b[0m\u001b[0m\n\u001b[1;32m      4\u001b[0m \u001b[0mtest_df_false\u001b[0m \u001b[0;34m=\u001b[0m \u001b[0mtest_df\u001b[0m\u001b[0;34m[\u001b[0m\u001b[0mtest_df\u001b[0m\u001b[0;34m[\u001b[0m\u001b[0;34m'sentiment'\u001b[0m\u001b[0;34m]\u001b[0m \u001b[0;34m!=\u001b[0m \u001b[0mtest_df\u001b[0m\u001b[0;34m[\u001b[0m\u001b[0;34m'sentiment_pred'\u001b[0m\u001b[0;34m]\u001b[0m\u001b[0;34m]\u001b[0m\u001b[0;34m\u001b[0m\u001b[0;34m\u001b[0m\u001b[0m\n\u001b[1;32m      5\u001b[0m \u001b[0mtest_df_false\u001b[0m\u001b[0;34m.\u001b[0m\u001b[0mto_csv\u001b[0m\u001b[0;34m(\u001b[0m\u001b[0;34m'/content/drive/MyDrive/Learning/20202/NLP/false_sent_pred.csv'\u001b[0m\u001b[0;34m,\u001b[0m \u001b[0mindex\u001b[0m\u001b[0;34m=\u001b[0m\u001b[0;32mFalse\u001b[0m\u001b[0;34m)\u001b[0m\u001b[0;34m\u001b[0m\u001b[0;34m\u001b[0m\u001b[0m\n",
            "\u001b[0;32m<ipython-input-89-7847def705d3>\u001b[0m in \u001b[0;36m<listcomp>\u001b[0;34m(.0)\u001b[0m\n\u001b[1;32m      1\u001b[0m \u001b[0;34m\u001b[0m\u001b[0m\n\u001b[0;32m----> 2\u001b[0;31m \u001b[0mpredictions\u001b[0m \u001b[0;34m=\u001b[0m \u001b[0;34m[\u001b[0m\u001b[0mpredict\u001b[0m\u001b[0;34m(\u001b[0m\u001b[0mtext\u001b[0m\u001b[0;34m)\u001b[0m \u001b[0;32mfor\u001b[0m \u001b[0mtext\u001b[0m \u001b[0;32min\u001b[0m \u001b[0mtexts\u001b[0m\u001b[0;34m]\u001b[0m\u001b[0;34m\u001b[0m\u001b[0;34m\u001b[0m\u001b[0m\n\u001b[0m\u001b[1;32m      3\u001b[0m \u001b[0mtext_df\u001b[0m\u001b[0;34m[\u001b[0m\u001b[0;34m'sentiment_pred'\u001b[0m\u001b[0;34m]\u001b[0m \u001b[0;34m=\u001b[0m \u001b[0mpredictions\u001b[0m\u001b[0;34m\u001b[0m\u001b[0;34m\u001b[0m\u001b[0m\n\u001b[1;32m      4\u001b[0m \u001b[0mtest_df_false\u001b[0m \u001b[0;34m=\u001b[0m \u001b[0mtest_df\u001b[0m\u001b[0;34m[\u001b[0m\u001b[0mtest_df\u001b[0m\u001b[0;34m[\u001b[0m\u001b[0;34m'sentiment'\u001b[0m\u001b[0;34m]\u001b[0m \u001b[0;34m!=\u001b[0m \u001b[0mtest_df\u001b[0m\u001b[0;34m[\u001b[0m\u001b[0;34m'sentiment_pred'\u001b[0m\u001b[0;34m]\u001b[0m\u001b[0;34m]\u001b[0m\u001b[0;34m\u001b[0m\u001b[0;34m\u001b[0m\u001b[0m\n\u001b[1;32m      5\u001b[0m \u001b[0mtest_df_false\u001b[0m\u001b[0;34m.\u001b[0m\u001b[0mto_csv\u001b[0m\u001b[0;34m(\u001b[0m\u001b[0;34m'/content/drive/MyDrive/Learning/20202/NLP/false_sent_pred.csv'\u001b[0m\u001b[0;34m,\u001b[0m \u001b[0mindex\u001b[0m\u001b[0;34m=\u001b[0m\u001b[0;32mFalse\u001b[0m\u001b[0;34m)\u001b[0m\u001b[0;34m\u001b[0m\u001b[0;34m\u001b[0m\u001b[0m\n",
            "\u001b[0;31mTypeError\u001b[0m: predict() missing 1 required positional argument: 'text'"
          ]
        }
      ]
    },
    {
      "cell_type": "code",
      "metadata": {
        "id": "TvEZ00WA3_Mz"
      },
      "source": [
        ""
      ],
      "execution_count": null,
      "outputs": []
    }
  ]
}