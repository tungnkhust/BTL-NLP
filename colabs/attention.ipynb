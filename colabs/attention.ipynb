{
  "nbformat": 4,
  "nbformat_minor": 0,
  "metadata": {
    "accelerator": "GPU",
    "colab": {
      "name": "attention.ipynb",
      "provenance": [],
      "collapsed_sections": []
    },
    "kernelspec": {
      "display_name": "Python 3",
      "name": "python3"
    },
    "language_info": {
      "name": "python"
    }
  },
  "cells": [
    {
      "cell_type": "code",
      "metadata": {
        "colab": {
          "base_uri": "https://localhost:8080/"
        },
        "id": "0JRx1zwkwSnp",
        "outputId": "03260136-cdeb-4cf0-90ee-761ad3624383"
      },
      "source": [
        "from google.colab import drive\n",
        "drive.mount('/content/drive')\n"
      ],
      "execution_count": 1,
      "outputs": [
        {
          "output_type": "stream",
          "text": [
            "Drive already mounted at /content/drive; to attempt to forcibly remount, call drive.mount(\"/content/drive\", force_remount=True).\n"
          ],
          "name": "stdout"
        }
      ]
    },
    {
      "cell_type": "code",
      "metadata": {
        "colab": {
          "base_uri": "https://localhost:8080/"
        },
        "id": "d82rTg9DwDGb",
        "outputId": "376e2328-9718-4806-f92b-702926c9fb26"
      },
      "source": [
        "!pip install allennlp-models\n",
        "!pip install allennlp"
      ],
      "execution_count": 2,
      "outputs": [
        {
          "output_type": "stream",
          "text": [
            "Requirement already satisfied: allennlp-models in /usr/local/lib/python3.7/dist-packages (2.4.0)\n",
            "Requirement already satisfied: conllu==4.4 in /usr/local/lib/python3.7/dist-packages (from allennlp-models) (4.4)\n",
            "Requirement already satisfied: py-rouge==1.1 in /usr/local/lib/python3.7/dist-packages (from allennlp-models) (1.1)\n",
            "Requirement already satisfied: allennlp<2.5,>=2.4.0 in /usr/local/lib/python3.7/dist-packages (from allennlp-models) (2.4.0)\n",
            "Requirement already satisfied: torch<1.9.0,>=1.7.0 in /usr/local/lib/python3.7/dist-packages (from allennlp-models) (1.8.1+cu101)\n",
            "Requirement already satisfied: word2number>=1.1 in /usr/local/lib/python3.7/dist-packages (from allennlp-models) (1.1)\n",
            "Requirement already satisfied: ftfy in /usr/local/lib/python3.7/dist-packages (from allennlp-models) (6.0.3)\n",
            "Requirement already satisfied: nltk in /usr/local/lib/python3.7/dist-packages (from allennlp-models) (3.2.5)\n",
            "Requirement already satisfied: more-itertools in /usr/local/lib/python3.7/dist-packages (from allennlp<2.5,>=2.4.0->allennlp-models) (8.7.0)\n",
            "Requirement already satisfied: filelock<3.1,>=3.0 in /usr/local/lib/python3.7/dist-packages (from allennlp<2.5,>=2.4.0->allennlp-models) (3.0.12)\n",
            "Requirement already satisfied: pytest in /usr/local/lib/python3.7/dist-packages (from allennlp<2.5,>=2.4.0->allennlp-models) (3.6.4)\n",
            "Requirement already satisfied: wandb<0.11.0,>=0.10.0 in /usr/local/lib/python3.7/dist-packages (from allennlp<2.5,>=2.4.0->allennlp-models) (0.10.31)\n",
            "Requirement already satisfied: scikit-learn in /usr/local/lib/python3.7/dist-packages (from allennlp<2.5,>=2.4.0->allennlp-models) (0.22.2.post1)\n",
            "Requirement already satisfied: huggingface-hub>=0.0.8 in /usr/local/lib/python3.7/dist-packages (from allennlp<2.5,>=2.4.0->allennlp-models) (0.0.9)\n",
            "Requirement already satisfied: transformers<4.6,>=4.1 in /usr/local/lib/python3.7/dist-packages (from allennlp<2.5,>=2.4.0->allennlp-models) (4.5.1)\n",
            "Requirement already satisfied: lmdb in /usr/local/lib/python3.7/dist-packages (from allennlp<2.5,>=2.4.0->allennlp-models) (0.99)\n",
            "Requirement already satisfied: h5py in /usr/local/lib/python3.7/dist-packages (from allennlp<2.5,>=2.4.0->allennlp-models) (3.1.0)\n",
            "Requirement already satisfied: requests>=2.18 in /usr/local/lib/python3.7/dist-packages (from allennlp<2.5,>=2.4.0->allennlp-models) (2.23.0)\n",
            "Requirement already satisfied: tqdm>=4.19 in /usr/local/lib/python3.7/dist-packages (from allennlp<2.5,>=2.4.0->allennlp-models) (4.41.1)\n",
            "Requirement already satisfied: scipy in /usr/local/lib/python3.7/dist-packages (from allennlp<2.5,>=2.4.0->allennlp-models) (1.4.1)\n",
            "Requirement already satisfied: sentencepiece in /usr/local/lib/python3.7/dist-packages (from allennlp<2.5,>=2.4.0->allennlp-models) (0.1.95)\n",
            "Requirement already satisfied: torchvision<0.10.0,>=0.8.1 in /usr/local/lib/python3.7/dist-packages (from allennlp<2.5,>=2.4.0->allennlp-models) (0.9.1+cu101)\n",
            "Requirement already satisfied: overrides==3.1.0 in /usr/local/lib/python3.7/dist-packages (from allennlp<2.5,>=2.4.0->allennlp-models) (3.1.0)\n",
            "Requirement already satisfied: tensorboardX>=1.2 in /usr/local/lib/python3.7/dist-packages (from allennlp<2.5,>=2.4.0->allennlp-models) (2.2)\n",
            "Requirement already satisfied: spacy<3.1,>=2.1.0 in /usr/local/lib/python3.7/dist-packages (from allennlp<2.5,>=2.4.0->allennlp-models) (2.2.4)\n",
            "Requirement already satisfied: boto3<2.0,>=1.14 in /usr/local/lib/python3.7/dist-packages (from allennlp<2.5,>=2.4.0->allennlp-models) (1.17.84)\n",
            "Requirement already satisfied: jsonnet>=0.10.0; sys_platform != \"win32\" in /usr/local/lib/python3.7/dist-packages (from allennlp<2.5,>=2.4.0->allennlp-models) (0.17.0)\n",
            "Requirement already satisfied: numpy in /usr/local/lib/python3.7/dist-packages (from allennlp<2.5,>=2.4.0->allennlp-models) (1.19.5)\n",
            "Requirement already satisfied: typing-extensions in /usr/local/lib/python3.7/dist-packages (from torch<1.9.0,>=1.7.0->allennlp-models) (3.7.4.3)\n",
            "Requirement already satisfied: wcwidth in /usr/local/lib/python3.7/dist-packages (from ftfy->allennlp-models) (0.2.5)\n",
            "Requirement already satisfied: six in /usr/local/lib/python3.7/dist-packages (from nltk->allennlp-models) (1.15.0)\n",
            "Requirement already satisfied: py>=1.5.0 in /usr/local/lib/python3.7/dist-packages (from pytest->allennlp<2.5,>=2.4.0->allennlp-models) (1.10.0)\n",
            "Requirement already satisfied: setuptools in /usr/local/lib/python3.7/dist-packages (from pytest->allennlp<2.5,>=2.4.0->allennlp-models) (56.1.0)\n",
            "Requirement already satisfied: pluggy<0.8,>=0.5 in /usr/local/lib/python3.7/dist-packages (from pytest->allennlp<2.5,>=2.4.0->allennlp-models) (0.7.1)\n",
            "Requirement already satisfied: attrs>=17.4.0 in /usr/local/lib/python3.7/dist-packages (from pytest->allennlp<2.5,>=2.4.0->allennlp-models) (21.2.0)\n",
            "Requirement already satisfied: atomicwrites>=1.0 in /usr/local/lib/python3.7/dist-packages (from pytest->allennlp<2.5,>=2.4.0->allennlp-models) (1.4.0)\n",
            "Requirement already satisfied: psutil>=5.0.0 in /usr/local/lib/python3.7/dist-packages (from wandb<0.11.0,>=0.10.0->allennlp<2.5,>=2.4.0->allennlp-models) (5.4.8)\n",
            "Requirement already satisfied: subprocess32>=3.5.3 in /usr/local/lib/python3.7/dist-packages (from wandb<0.11.0,>=0.10.0->allennlp<2.5,>=2.4.0->allennlp-models) (3.5.4)\n",
            "Requirement already satisfied: pathtools in /usr/local/lib/python3.7/dist-packages (from wandb<0.11.0,>=0.10.0->allennlp<2.5,>=2.4.0->allennlp-models) (0.1.2)\n",
            "Requirement already satisfied: promise<3,>=2.0 in /usr/local/lib/python3.7/dist-packages (from wandb<0.11.0,>=0.10.0->allennlp<2.5,>=2.4.0->allennlp-models) (2.3)\n",
            "Requirement already satisfied: protobuf>=3.12.0 in /usr/local/lib/python3.7/dist-packages (from wandb<0.11.0,>=0.10.0->allennlp<2.5,>=2.4.0->allennlp-models) (3.12.4)\n",
            "Requirement already satisfied: configparser>=3.8.1 in /usr/local/lib/python3.7/dist-packages (from wandb<0.11.0,>=0.10.0->allennlp<2.5,>=2.4.0->allennlp-models) (5.0.2)\n",
            "Requirement already satisfied: Click>=7.0 in /usr/local/lib/python3.7/dist-packages (from wandb<0.11.0,>=0.10.0->allennlp<2.5,>=2.4.0->allennlp-models) (7.1.2)\n",
            "Requirement already satisfied: sentry-sdk>=0.4.0 in /usr/local/lib/python3.7/dist-packages (from wandb<0.11.0,>=0.10.0->allennlp<2.5,>=2.4.0->allennlp-models) (1.1.0)\n",
            "Requirement already satisfied: docker-pycreds>=0.4.0 in /usr/local/lib/python3.7/dist-packages (from wandb<0.11.0,>=0.10.0->allennlp<2.5,>=2.4.0->allennlp-models) (0.4.0)\n",
            "Requirement already satisfied: python-dateutil>=2.6.1 in /usr/local/lib/python3.7/dist-packages (from wandb<0.11.0,>=0.10.0->allennlp<2.5,>=2.4.0->allennlp-models) (2.8.1)\n",
            "Requirement already satisfied: shortuuid>=0.5.0 in /usr/local/lib/python3.7/dist-packages (from wandb<0.11.0,>=0.10.0->allennlp<2.5,>=2.4.0->allennlp-models) (1.0.1)\n",
            "Requirement already satisfied: PyYAML in /usr/local/lib/python3.7/dist-packages (from wandb<0.11.0,>=0.10.0->allennlp<2.5,>=2.4.0->allennlp-models) (3.13)\n",
            "Requirement already satisfied: GitPython>=1.0.0 in /usr/local/lib/python3.7/dist-packages (from wandb<0.11.0,>=0.10.0->allennlp<2.5,>=2.4.0->allennlp-models) (3.1.17)\n",
            "Requirement already satisfied: joblib>=0.11 in /usr/local/lib/python3.7/dist-packages (from scikit-learn->allennlp<2.5,>=2.4.0->allennlp-models) (1.0.1)\n",
            "Requirement already satisfied: importlib-metadata; python_version < \"3.8\" in /usr/local/lib/python3.7/dist-packages (from huggingface-hub>=0.0.8->allennlp<2.5,>=2.4.0->allennlp-models) (4.0.1)\n",
            "Requirement already satisfied: sacremoses in /usr/local/lib/python3.7/dist-packages (from transformers<4.6,>=4.1->allennlp<2.5,>=2.4.0->allennlp-models) (0.0.45)\n",
            "Requirement already satisfied: regex!=2019.12.17 in /usr/local/lib/python3.7/dist-packages (from transformers<4.6,>=4.1->allennlp<2.5,>=2.4.0->allennlp-models) (2019.12.20)\n",
            "Requirement already satisfied: tokenizers<0.11,>=0.10.1 in /usr/local/lib/python3.7/dist-packages (from transformers<4.6,>=4.1->allennlp<2.5,>=2.4.0->allennlp-models) (0.10.3)\n",
            "Requirement already satisfied: packaging in /usr/local/lib/python3.7/dist-packages (from transformers<4.6,>=4.1->allennlp<2.5,>=2.4.0->allennlp-models) (20.9)\n",
            "Requirement already satisfied: cached-property; python_version < \"3.8\" in /usr/local/lib/python3.7/dist-packages (from h5py->allennlp<2.5,>=2.4.0->allennlp-models) (1.5.2)\n",
            "Requirement already satisfied: urllib3!=1.25.0,!=1.25.1,<1.26,>=1.21.1 in /usr/local/lib/python3.7/dist-packages (from requests>=2.18->allennlp<2.5,>=2.4.0->allennlp-models) (1.24.3)\n",
            "Requirement already satisfied: idna<3,>=2.5 in /usr/local/lib/python3.7/dist-packages (from requests>=2.18->allennlp<2.5,>=2.4.0->allennlp-models) (2.10)\n",
            "Requirement already satisfied: chardet<4,>=3.0.2 in /usr/local/lib/python3.7/dist-packages (from requests>=2.18->allennlp<2.5,>=2.4.0->allennlp-models) (3.0.4)\n",
            "Requirement already satisfied: certifi>=2017.4.17 in /usr/local/lib/python3.7/dist-packages (from requests>=2.18->allennlp<2.5,>=2.4.0->allennlp-models) (2020.12.5)\n",
            "Requirement already satisfied: pillow>=4.1.1 in /usr/local/lib/python3.7/dist-packages (from torchvision<0.10.0,>=0.8.1->allennlp<2.5,>=2.4.0->allennlp-models) (7.1.2)\n",
            "Requirement already satisfied: thinc==7.4.0 in /usr/local/lib/python3.7/dist-packages (from spacy<3.1,>=2.1.0->allennlp<2.5,>=2.4.0->allennlp-models) (7.4.0)\n",
            "Requirement already satisfied: preshed<3.1.0,>=3.0.2 in /usr/local/lib/python3.7/dist-packages (from spacy<3.1,>=2.1.0->allennlp<2.5,>=2.4.0->allennlp-models) (3.0.5)\n",
            "Requirement already satisfied: srsly<1.1.0,>=1.0.2 in /usr/local/lib/python3.7/dist-packages (from spacy<3.1,>=2.1.0->allennlp<2.5,>=2.4.0->allennlp-models) (1.0.5)\n",
            "Requirement already satisfied: plac<1.2.0,>=0.9.6 in /usr/local/lib/python3.7/dist-packages (from spacy<3.1,>=2.1.0->allennlp<2.5,>=2.4.0->allennlp-models) (1.1.3)\n",
            "Requirement already satisfied: blis<0.5.0,>=0.4.0 in /usr/local/lib/python3.7/dist-packages (from spacy<3.1,>=2.1.0->allennlp<2.5,>=2.4.0->allennlp-models) (0.4.1)\n",
            "Requirement already satisfied: catalogue<1.1.0,>=0.0.7 in /usr/local/lib/python3.7/dist-packages (from spacy<3.1,>=2.1.0->allennlp<2.5,>=2.4.0->allennlp-models) (1.0.0)\n",
            "Requirement already satisfied: cymem<2.1.0,>=2.0.2 in /usr/local/lib/python3.7/dist-packages (from spacy<3.1,>=2.1.0->allennlp<2.5,>=2.4.0->allennlp-models) (2.0.5)\n",
            "Requirement already satisfied: wasabi<1.1.0,>=0.4.0 in /usr/local/lib/python3.7/dist-packages (from spacy<3.1,>=2.1.0->allennlp<2.5,>=2.4.0->allennlp-models) (0.8.2)\n",
            "Requirement already satisfied: murmurhash<1.1.0,>=0.28.0 in /usr/local/lib/python3.7/dist-packages (from spacy<3.1,>=2.1.0->allennlp<2.5,>=2.4.0->allennlp-models) (1.0.5)\n",
            "Requirement already satisfied: s3transfer<0.5.0,>=0.4.0 in /usr/local/lib/python3.7/dist-packages (from boto3<2.0,>=1.14->allennlp<2.5,>=2.4.0->allennlp-models) (0.4.2)\n",
            "Requirement already satisfied: botocore<1.21.0,>=1.20.84 in /usr/local/lib/python3.7/dist-packages (from boto3<2.0,>=1.14->allennlp<2.5,>=2.4.0->allennlp-models) (1.20.84)\n",
            "Requirement already satisfied: jmespath<1.0.0,>=0.7.1 in /usr/local/lib/python3.7/dist-packages (from boto3<2.0,>=1.14->allennlp<2.5,>=2.4.0->allennlp-models) (0.10.0)\n",
            "Requirement already satisfied: gitdb<5,>=4.0.1 in /usr/local/lib/python3.7/dist-packages (from GitPython>=1.0.0->wandb<0.11.0,>=0.10.0->allennlp<2.5,>=2.4.0->allennlp-models) (4.0.7)\n",
            "Requirement already satisfied: zipp>=0.5 in /usr/local/lib/python3.7/dist-packages (from importlib-metadata; python_version < \"3.8\"->huggingface-hub>=0.0.8->allennlp<2.5,>=2.4.0->allennlp-models) (3.4.1)\n",
            "Requirement already satisfied: pyparsing>=2.0.2 in /usr/local/lib/python3.7/dist-packages (from packaging->transformers<4.6,>=4.1->allennlp<2.5,>=2.4.0->allennlp-models) (2.4.7)\n",
            "Requirement already satisfied: smmap<5,>=3.0.1 in /usr/local/lib/python3.7/dist-packages (from gitdb<5,>=4.0.1->GitPython>=1.0.0->wandb<0.11.0,>=0.10.0->allennlp<2.5,>=2.4.0->allennlp-models) (4.0.0)\n",
            "Requirement already satisfied: allennlp in /usr/local/lib/python3.7/dist-packages (2.4.0)\n",
            "Requirement already satisfied: tensorboardX>=1.2 in /usr/local/lib/python3.7/dist-packages (from allennlp) (2.2)\n",
            "Requirement already satisfied: spacy<3.1,>=2.1.0 in /usr/local/lib/python3.7/dist-packages (from allennlp) (2.2.4)\n",
            "Requirement already satisfied: requests>=2.18 in /usr/local/lib/python3.7/dist-packages (from allennlp) (2.23.0)\n",
            "Requirement already satisfied: h5py in /usr/local/lib/python3.7/dist-packages (from allennlp) (3.1.0)\n",
            "Requirement already satisfied: jsonnet>=0.10.0; sys_platform != \"win32\" in /usr/local/lib/python3.7/dist-packages (from allennlp) (0.17.0)\n",
            "Requirement already satisfied: more-itertools in /usr/local/lib/python3.7/dist-packages (from allennlp) (8.7.0)\n",
            "Requirement already satisfied: scipy in /usr/local/lib/python3.7/dist-packages (from allennlp) (1.4.1)\n",
            "Requirement already satisfied: transformers<4.6,>=4.1 in /usr/local/lib/python3.7/dist-packages (from allennlp) (4.5.1)\n",
            "Requirement already satisfied: numpy in /usr/local/lib/python3.7/dist-packages (from allennlp) (1.19.5)\n",
            "Requirement already satisfied: scikit-learn in /usr/local/lib/python3.7/dist-packages (from allennlp) (0.22.2.post1)\n",
            "Requirement already satisfied: huggingface-hub>=0.0.8 in /usr/local/lib/python3.7/dist-packages (from allennlp) (0.0.9)\n",
            "Requirement already satisfied: pytest in /usr/local/lib/python3.7/dist-packages (from allennlp) (3.6.4)\n",
            "Requirement already satisfied: torchvision<0.10.0,>=0.8.1 in /usr/local/lib/python3.7/dist-packages (from allennlp) (0.9.1+cu101)\n",
            "Requirement already satisfied: torch<1.9.0,>=1.6.0 in /usr/local/lib/python3.7/dist-packages (from allennlp) (1.8.1+cu101)\n",
            "Requirement already satisfied: lmdb in /usr/local/lib/python3.7/dist-packages (from allennlp) (0.99)\n",
            "Requirement already satisfied: tqdm>=4.19 in /usr/local/lib/python3.7/dist-packages (from allennlp) (4.41.1)\n",
            "Requirement already satisfied: wandb<0.11.0,>=0.10.0 in /usr/local/lib/python3.7/dist-packages (from allennlp) (0.10.31)\n",
            "Requirement already satisfied: filelock<3.1,>=3.0 in /usr/local/lib/python3.7/dist-packages (from allennlp) (3.0.12)\n",
            "Requirement already satisfied: overrides==3.1.0 in /usr/local/lib/python3.7/dist-packages (from allennlp) (3.1.0)\n",
            "Requirement already satisfied: nltk in /usr/local/lib/python3.7/dist-packages (from allennlp) (3.2.5)\n",
            "Requirement already satisfied: sentencepiece in /usr/local/lib/python3.7/dist-packages (from allennlp) (0.1.95)\n",
            "Requirement already satisfied: boto3<2.0,>=1.14 in /usr/local/lib/python3.7/dist-packages (from allennlp) (1.17.84)\n",
            "Requirement already satisfied: protobuf>=3.8.0 in /usr/local/lib/python3.7/dist-packages (from tensorboardX>=1.2->allennlp) (3.12.4)\n",
            "Requirement already satisfied: catalogue<1.1.0,>=0.0.7 in /usr/local/lib/python3.7/dist-packages (from spacy<3.1,>=2.1.0->allennlp) (1.0.0)\n",
            "Requirement already satisfied: blis<0.5.0,>=0.4.0 in /usr/local/lib/python3.7/dist-packages (from spacy<3.1,>=2.1.0->allennlp) (0.4.1)\n",
            "Requirement already satisfied: preshed<3.1.0,>=3.0.2 in /usr/local/lib/python3.7/dist-packages (from spacy<3.1,>=2.1.0->allennlp) (3.0.5)\n",
            "Requirement already satisfied: plac<1.2.0,>=0.9.6 in /usr/local/lib/python3.7/dist-packages (from spacy<3.1,>=2.1.0->allennlp) (1.1.3)\n",
            "Requirement already satisfied: murmurhash<1.1.0,>=0.28.0 in /usr/local/lib/python3.7/dist-packages (from spacy<3.1,>=2.1.0->allennlp) (1.0.5)\n",
            "Requirement already satisfied: cymem<2.1.0,>=2.0.2 in /usr/local/lib/python3.7/dist-packages (from spacy<3.1,>=2.1.0->allennlp) (2.0.5)\n",
            "Requirement already satisfied: wasabi<1.1.0,>=0.4.0 in /usr/local/lib/python3.7/dist-packages (from spacy<3.1,>=2.1.0->allennlp) (0.8.2)\n",
            "Requirement already satisfied: setuptools in /usr/local/lib/python3.7/dist-packages (from spacy<3.1,>=2.1.0->allennlp) (56.1.0)\n",
            "Requirement already satisfied: srsly<1.1.0,>=1.0.2 in /usr/local/lib/python3.7/dist-packages (from spacy<3.1,>=2.1.0->allennlp) (1.0.5)\n",
            "Requirement already satisfied: thinc==7.4.0 in /usr/local/lib/python3.7/dist-packages (from spacy<3.1,>=2.1.0->allennlp) (7.4.0)\n",
            "Requirement already satisfied: chardet<4,>=3.0.2 in /usr/local/lib/python3.7/dist-packages (from requests>=2.18->allennlp) (3.0.4)\n",
            "Requirement already satisfied: certifi>=2017.4.17 in /usr/local/lib/python3.7/dist-packages (from requests>=2.18->allennlp) (2020.12.5)\n",
            "Requirement already satisfied: idna<3,>=2.5 in /usr/local/lib/python3.7/dist-packages (from requests>=2.18->allennlp) (2.10)\n",
            "Requirement already satisfied: urllib3!=1.25.0,!=1.25.1,<1.26,>=1.21.1 in /usr/local/lib/python3.7/dist-packages (from requests>=2.18->allennlp) (1.24.3)\n",
            "Requirement already satisfied: cached-property; python_version < \"3.8\" in /usr/local/lib/python3.7/dist-packages (from h5py->allennlp) (1.5.2)\n",
            "Requirement already satisfied: importlib-metadata; python_version < \"3.8\" in /usr/local/lib/python3.7/dist-packages (from transformers<4.6,>=4.1->allennlp) (4.0.1)\n",
            "Requirement already satisfied: regex!=2019.12.17 in /usr/local/lib/python3.7/dist-packages (from transformers<4.6,>=4.1->allennlp) (2019.12.20)\n",
            "Requirement already satisfied: sacremoses in /usr/local/lib/python3.7/dist-packages (from transformers<4.6,>=4.1->allennlp) (0.0.45)\n",
            "Requirement already satisfied: tokenizers<0.11,>=0.10.1 in /usr/local/lib/python3.7/dist-packages (from transformers<4.6,>=4.1->allennlp) (0.10.3)\n",
            "Requirement already satisfied: packaging in /usr/local/lib/python3.7/dist-packages (from transformers<4.6,>=4.1->allennlp) (20.9)\n",
            "Requirement already satisfied: joblib>=0.11 in /usr/local/lib/python3.7/dist-packages (from scikit-learn->allennlp) (1.0.1)\n",
            "Requirement already satisfied: typing-extensions in /usr/local/lib/python3.7/dist-packages (from huggingface-hub>=0.0.8->allennlp) (3.7.4.3)\n",
            "Requirement already satisfied: atomicwrites>=1.0 in /usr/local/lib/python3.7/dist-packages (from pytest->allennlp) (1.4.0)\n",
            "Requirement already satisfied: pluggy<0.8,>=0.5 in /usr/local/lib/python3.7/dist-packages (from pytest->allennlp) (0.7.1)\n",
            "Requirement already satisfied: py>=1.5.0 in /usr/local/lib/python3.7/dist-packages (from pytest->allennlp) (1.10.0)\n",
            "Requirement already satisfied: six>=1.10.0 in /usr/local/lib/python3.7/dist-packages (from pytest->allennlp) (1.15.0)\n",
            "Requirement already satisfied: attrs>=17.4.0 in /usr/local/lib/python3.7/dist-packages (from pytest->allennlp) (21.2.0)\n",
            "Requirement already satisfied: pillow>=4.1.1 in /usr/local/lib/python3.7/dist-packages (from torchvision<0.10.0,>=0.8.1->allennlp) (7.1.2)\n",
            "Requirement already satisfied: promise<3,>=2.0 in /usr/local/lib/python3.7/dist-packages (from wandb<0.11.0,>=0.10.0->allennlp) (2.3)\n",
            "Requirement already satisfied: psutil>=5.0.0 in /usr/local/lib/python3.7/dist-packages (from wandb<0.11.0,>=0.10.0->allennlp) (5.4.8)\n",
            "Requirement already satisfied: pathtools in /usr/local/lib/python3.7/dist-packages (from wandb<0.11.0,>=0.10.0->allennlp) (0.1.2)\n",
            "Requirement already satisfied: configparser>=3.8.1 in /usr/local/lib/python3.7/dist-packages (from wandb<0.11.0,>=0.10.0->allennlp) (5.0.2)\n",
            "Requirement already satisfied: PyYAML in /usr/local/lib/python3.7/dist-packages (from wandb<0.11.0,>=0.10.0->allennlp) (3.13)\n",
            "Requirement already satisfied: subprocess32>=3.5.3 in /usr/local/lib/python3.7/dist-packages (from wandb<0.11.0,>=0.10.0->allennlp) (3.5.4)\n",
            "Requirement already satisfied: sentry-sdk>=0.4.0 in /usr/local/lib/python3.7/dist-packages (from wandb<0.11.0,>=0.10.0->allennlp) (1.1.0)\n",
            "Requirement already satisfied: Click>=7.0 in /usr/local/lib/python3.7/dist-packages (from wandb<0.11.0,>=0.10.0->allennlp) (7.1.2)\n",
            "Requirement already satisfied: python-dateutil>=2.6.1 in /usr/local/lib/python3.7/dist-packages (from wandb<0.11.0,>=0.10.0->allennlp) (2.8.1)\n",
            "Requirement already satisfied: GitPython>=1.0.0 in /usr/local/lib/python3.7/dist-packages (from wandb<0.11.0,>=0.10.0->allennlp) (3.1.17)\n",
            "Requirement already satisfied: docker-pycreds>=0.4.0 in /usr/local/lib/python3.7/dist-packages (from wandb<0.11.0,>=0.10.0->allennlp) (0.4.0)\n",
            "Requirement already satisfied: shortuuid>=0.5.0 in /usr/local/lib/python3.7/dist-packages (from wandb<0.11.0,>=0.10.0->allennlp) (1.0.1)\n",
            "Requirement already satisfied: jmespath<1.0.0,>=0.7.1 in /usr/local/lib/python3.7/dist-packages (from boto3<2.0,>=1.14->allennlp) (0.10.0)\n",
            "Requirement already satisfied: s3transfer<0.5.0,>=0.4.0 in /usr/local/lib/python3.7/dist-packages (from boto3<2.0,>=1.14->allennlp) (0.4.2)\n",
            "Requirement already satisfied: botocore<1.21.0,>=1.20.84 in /usr/local/lib/python3.7/dist-packages (from boto3<2.0,>=1.14->allennlp) (1.20.84)\n",
            "Requirement already satisfied: zipp>=0.5 in /usr/local/lib/python3.7/dist-packages (from importlib-metadata; python_version < \"3.8\"->transformers<4.6,>=4.1->allennlp) (3.4.1)\n",
            "Requirement already satisfied: pyparsing>=2.0.2 in /usr/local/lib/python3.7/dist-packages (from packaging->transformers<4.6,>=4.1->allennlp) (2.4.7)\n",
            "Requirement already satisfied: gitdb<5,>=4.0.1 in /usr/local/lib/python3.7/dist-packages (from GitPython>=1.0.0->wandb<0.11.0,>=0.10.0->allennlp) (4.0.7)\n",
            "Requirement already satisfied: smmap<5,>=3.0.1 in /usr/local/lib/python3.7/dist-packages (from gitdb<5,>=4.0.1->GitPython>=1.0.0->wandb<0.11.0,>=0.10.0->allennlp) (4.0.0)\n"
          ],
          "name": "stdout"
        }
      ]
    },
    {
      "cell_type": "code",
      "metadata": {
        "id": "1NxOS6LoxNcf"
      },
      "source": [
        "from typing import Dict, Iterable, List\n",
        "\n",
        "import torch\n",
        "import pandas as pd\n",
        "from allennlp.data import DatasetReader, Instance, Vocabulary, TextFieldTensors\n",
        "from allennlp.data.fields import LabelField, TextField\n",
        "from allennlp.data.token_indexers import TokenIndexer, SingleIdTokenIndexer, TokenCharactersIndexer\n",
        "from allennlp.data.tokenizers import Token, Tokenizer, WhitespaceTokenizer, CharacterTokenizer\n",
        "from allennlp.models import Model\n",
        "from allennlp.modules import TextFieldEmbedder, Seq2VecEncoder\n",
        "from allennlp.modules.text_field_embedders import BasicTextFieldEmbedder\n",
        "from allennlp.modules.token_embedders import Embedding, TokenCharactersEncoder\n",
        "from allennlp.modules.seq2vec_encoders import LstmSeq2VecEncoder, CnnEncoder\n",
        "from allennlp.nn import util\n",
        "from allennlp.training.metrics import CategoricalAccuracy\n",
        "from allennlp.data.data_loaders import MultiProcessDataLoader, DataLoader\n"
      ],
      "execution_count": 3,
      "outputs": []
    },
    {
      "cell_type": "code",
      "metadata": {
        "id": "Ydpd2SV8QpKu"
      },
      "source": [
        "from sklearn.metrics import accuracy_score, f1_score, precision_score, recall_score\n",
        "from sklearn.metrics import confusion_matrix, classification_report\n",
        "from typing import Dict\n",
        "import os\n",
        "import itertools\n",
        "import numpy as np\n",
        "import matplotlib.pyplot as plt\n",
        "\n",
        "\n",
        "def plot_confusion_matrix(\n",
        "        cm,\n",
        "        target_names,\n",
        "        title='Confusion matrix',\n",
        "        cmap=None,\n",
        "        normalize=True,\n",
        "        save_dir='results'):\n",
        "    \"\"\"\n",
        "        Vẽ confusion matrix\n",
        "    \"\"\"\n",
        "    accuracy = np.trace(cm) / float(np.sum(cm))\n",
        "    misclass = 1 - accuracy\n",
        "\n",
        "    if cmap is None:\n",
        "        cmap = plt.get_cmap('Blues')\n",
        "\n",
        "    width = int(10/7*len(target_names))\n",
        "\n",
        "    height = int(8/7*len(target_names))\n",
        "\n",
        "    # plt.figure(figsize=(width, height))\n",
        "    plt.imshow(cm, cmap=cmap)\n",
        "    # plt.title(title)\n",
        "    plt.colorbar()\n",
        "\n",
        "    if target_names:\n",
        "        tick_marks = np.arange(len(target_names))\n",
        "        plt.xticks(tick_marks, target_names, rotation=90)\n",
        "        plt.yticks(tick_marks, target_names)\n",
        "\n",
        "    if normalize:\n",
        "        cm = cm.astype('float') / cm.sum(axis=1)[:, np.newaxis]\n",
        "\n",
        "    thresh = cm.max() / 1.5 if normalize else cm.max() / 2\n",
        "    for i, j in itertools.product(range(cm.shape[0]), range(cm.shape[1])):\n",
        "        if normalize:\n",
        "            plt.text(j, i, \"{:0.2f}\".format(cm[i, j]),\n",
        "                     horizontalalignment=\"center\",\n",
        "                     color=\"red\" if cm[i, j] > thresh else \"black\")\n",
        "        else:\n",
        "            plt.text(j, i, \"{:,}\".format(cm[i, j]),\n",
        "                     horizontalalignment=\"center\",\n",
        "                     color=\"red\" if cm[i, j] > thresh else \"black\")\n",
        "\n",
        "    plt.tight_layout()\n",
        "    plt.ylabel('True label')\n",
        "    plt.xlabel('Predicted label')\n",
        "\n",
        "    if os.path.exists(save_dir) is False:\n",
        "        os.mkdir(save_dir)\n",
        "\n",
        "    try:\n",
        "        print(f\"Save confusion-matrix...\")\n",
        "        plt.savefig((save_dir + '/{}.png'.format(title)))\n",
        "    except IOError:\n",
        "        print(f\"Could not save file in directory: {save_dir}\")\n",
        "\n",
        "    plt.show()"
      ],
      "execution_count": 4,
      "outputs": []
    },
    {
      "cell_type": "code",
      "metadata": {
        "id": "kXSrx28cQvO9"
      },
      "source": [
        "def predict(model, text: str, max_tokens, token_indexers):\n",
        "    tokens = [Token(token) for token in text.split(' ')]\n",
        "    \n",
        "    if len(tokens) > max_tokens:\n",
        "        tokens = tokens[:max_tokens]\n",
        "\n",
        "    text_field = TextField(tokens, token_indexers)\n",
        "    instance = Instance({\n",
        "        \"tokens\": text_field\n",
        "    })\n",
        "    output = model.forward_on_instance(instance)\n",
        "    y_prediction = np.argmax(output['probs'], axis=-1)\n",
        "    y_probs = np.max(output['probs'], axis=-1)\n",
        "    prediction = model.vocab.get_token_from_index(y_prediction, namespace='labels')\n",
        "    return prediction"
      ],
      "execution_count": 5,
      "outputs": []
    },
    {
      "cell_type": "code",
      "metadata": {
        "id": "wftBWDUsUd6_"
      },
      "source": [
        "def predict_on_df(model, data_reader, data_df, label_col='sentiment'):\n",
        "    vocab = model.vocab\n",
        "    max_tokens = data_reader.max_tokens\n",
        "    token_indexers = data_reader.token_indexers\n",
        "    texts = data_df['text'].tolist()\n",
        "    label_pred = [predict(model, text, max_tokens, token_indexers) for text in texts]\n",
        "    data_df[f'{label_col}_pred'] = label_pred\n",
        "    return data_df"
      ],
      "execution_count": 6,
      "outputs": []
    },
    {
      "cell_type": "code",
      "metadata": {
        "id": "CmR_lUXaQqnK"
      },
      "source": [
        "def eval_model(model, data_reader, test_df, plot_cm=False):\n",
        "    vocab = model.vocab\n",
        "    max_tokens = data_reader.max_tokens\n",
        "    token_indexers = data_reader.token_indexers\n",
        "    test_df = pd.read_csv(test_path)\n",
        "    texts = test_df['text'].tolist()\n",
        "    label_true = test_df['sentiment'].tolist()\n",
        "    label_pred = [predict(model, text, max_tokens, token_indexers) for text in texts]\n",
        "    y_true = [vocab.get_token_index(label, namespace='labels') for label in label_true]\n",
        "    y_pred = [vocab.get_token_index(label, namespace='labels') for label in label_pred]\n",
        "\n",
        "    # get metric scores\n",
        "    acc = accuracy_score(y_true, y_pred)\n",
        "    precision = precision_score(y_true, y_pred, average='macro')\n",
        "    recall = recall_score(y_true, y_pred, average='macro')\n",
        "    f1 = f1_score(y_true, y_pred, average='macro')\n",
        "    labels = list(vocab.get_token_to_index_vocabulary('labels').keys())\n",
        "    report = classification_report(label_true, label_pred, labels=labels)\n",
        "    print(f'Evaluate ')\n",
        "    print('Accuracy :', acc)\n",
        "    print('Precision:', precision)\n",
        "    print('Recall   :', recall)\n",
        "    print('F1-Score :', f1)\n",
        "    if plot_cm:\n",
        "        cm = confusion_matrix(label_true, label_pred, labels=labels)\n",
        "        plot_confusion_matrix(cm, target_names=labels, title=f'Confusion Matrix (sentiment)', normalize=False)\n",
        "        plot_confusion_matrix(cm, target_names=labels, title=f'Confusion Matrix Normalize (sentiment)', normalize=True)\n",
        "    return acc, precision, recall, f1"
      ],
      "execution_count": 7,
      "outputs": []
    },
    {
      "cell_type": "code",
      "metadata": {
        "id": "zt7IsEkg8Yxr"
      },
      "source": [
        "class SentimentDataReader(DatasetReader):\n",
        "    def __init__(\n",
        "        self,\n",
        "        tokenizer: Tokenizer = None,\n",
        "        char_tokenizer: CharacterTokenizer = None,\n",
        "        token_indexers: Dict[str, TokenIndexer] = None,\n",
        "        use_character: bool = True,\n",
        "        max_tokens: int = None,\n",
        "        label_col: str = 'sentiment',\n",
        "        **kwargs\n",
        "    ):\n",
        "        super().__init__(**kwargs)\n",
        "        self.tokenizer = tokenizer or WhitespaceTokenizer()\n",
        "        self.char_tokenizer = char_tokenizer or CharacterTokenizer()\n",
        "        if token_indexers is None:\n",
        "            if use_character:\n",
        "                self.token_indexers = {\n",
        "                        \"tokens\": SingleIdTokenIndexer(namespace=\"tokens\"),\n",
        "                        \"token_characters\": TokenCharactersIndexer(namespace=\"token_characters\", min_padding_length=3)\n",
        "                    }\n",
        "            else:\n",
        "                self.token_indexers = {\n",
        "                        \"tokens\": SingleIdTokenIndexer(namespace=\"tokens\") \n",
        "                         }\n",
        "        else:\n",
        "            self.token_indexers = token_indexers\n",
        "        self.max_tokens = max_tokens\n",
        "        self.label_col = label_col\n",
        "\n",
        "    def text_to_instance(self, text, label=None):\n",
        "        tokens = self.tokenizer.tokenize(text)\n",
        "        if self.max_tokens:\n",
        "                tokens = tokens[: self.max_tokens]\n",
        "\n",
        "        text_field = TextField(tokens, self.token_indexers)\n",
        "        fields = {\n",
        "            \"tokens\": text_field\n",
        "        }\n",
        "        if label:\n",
        "            fields['label'] = LabelField(label)\n",
        "        return Instance(fields)\n",
        "\n",
        "    def _read(self, file_path) -> Iterable[Instance]:\n",
        "        if isinstance(file_path, str):\n",
        "            df = pd.read_csv(file_path)\n",
        "        elif isinstance(file_path, pd.DataFrame):\n",
        "            df = file_path\n",
        "        for _, row in df.iterrows():\n",
        "            text = row['text']\n",
        "            sentiment = row[self.label_col]\n",
        "            yield self.text_to_instance(text, sentiment)\n"
      ],
      "execution_count": 8,
      "outputs": []
    },
    {
      "cell_type": "code",
      "metadata": {
        "colab": {
          "base_uri": "https://localhost:8080/"
        },
        "id": "DncMFDfy7yua",
        "outputId": "a8404dbb-97bc-4aeb-e5c3-18baccf63820"
      },
      "source": [
        "instances = SentimentDataReader(use_character=False).read('/content/drive/MyDrive/Learning/20202/NLP/data/val.csv')\n",
        "c = 0\n",
        "for i in instances:\n",
        "  print(i)\n",
        "  c+=1\n",
        "  if c> 2:\n",
        "    break"
      ],
      "execution_count": 9,
      "outputs": [
        {
          "output_type": "stream",
          "text": [
            "Instance with fields:\n",
            " \t tokens: TextField of length 6 with text: \n",
            " \t\t[giáo, trình, chưa, cụ, thể, .]\n",
            " \t\tand TokenIndexers : {'tokens': 'SingleIdTokenIndexer'} \n",
            " \t label: LabelField with label: negative in namespace: 'labels'. \n",
            "\n",
            "Instance with fields:\n",
            " \t tokens: TextField of length 4 with text: \n",
            " \t\t[giảng, buồn, ngủ, .]\n",
            " \t\tand TokenIndexers : {'tokens': 'SingleIdTokenIndexer'} \n",
            " \t label: LabelField with label: negative in namespace: 'labels'. \n",
            "\n",
            "Instance with fields:\n",
            " \t tokens: TextField of length 8 with text: \n",
            " \t\t[giáo, viên, vui, tính, ,, tận, tâm, .]\n",
            " \t\tand TokenIndexers : {'tokens': 'SingleIdTokenIndexer'} \n",
            " \t label: LabelField with label: positive in namespace: 'labels'. \n",
            "\n"
          ],
          "name": "stdout"
        }
      ]
    },
    {
      "cell_type": "code",
      "metadata": {
        "colab": {
          "base_uri": "https://localhost:8080/"
        },
        "id": "Eehuwp5EsMpn",
        "outputId": "6a4c3bf3-4be7-47e8-f073-5cf1301f7d08"
      },
      "source": [
        "df = pd.read_csv('/content/drive/MyDrive/Learning/20202/NLP/data/val.csv')\n",
        "instances = SentimentDataReader(use_character=False).read(df)\n",
        "c = 0\n",
        "for i in instances:\n",
        "  print(i)\n",
        "  c+=1\n",
        "  if c> 2:\n",
        "    break"
      ],
      "execution_count": 10,
      "outputs": [
        {
          "output_type": "stream",
          "text": [
            "Instance with fields:\n",
            " \t tokens: TextField of length 6 with text: \n",
            " \t\t[giáo, trình, chưa, cụ, thể, .]\n",
            " \t\tand TokenIndexers : {'tokens': 'SingleIdTokenIndexer'} \n",
            " \t label: LabelField with label: negative in namespace: 'labels'. \n",
            "\n",
            "Instance with fields:\n",
            " \t tokens: TextField of length 4 with text: \n",
            " \t\t[giảng, buồn, ngủ, .]\n",
            " \t\tand TokenIndexers : {'tokens': 'SingleIdTokenIndexer'} \n",
            " \t label: LabelField with label: negative in namespace: 'labels'. \n",
            "\n",
            "Instance with fields:\n",
            " \t tokens: TextField of length 8 with text: \n",
            " \t\t[giáo, viên, vui, tính, ,, tận, tâm, .]\n",
            " \t\tand TokenIndexers : {'tokens': 'SingleIdTokenIndexer'} \n",
            " \t label: LabelField with label: positive in namespace: 'labels'. \n",
            "\n"
          ],
          "name": "stdout"
        }
      ]
    },
    {
      "cell_type": "code",
      "metadata": {
        "id": "a9rPDsq--_i3"
      },
      "source": [
        "from allennlp.training.metrics import CategoricalAccuracy, F1Measure\n",
        "from allennlp.modules.attention.attention import Attention\n",
        "from allennlp.modules import TextFieldEmbedder, Seq2VecEncoder, Seq2SeqEncoder\n",
        "from allennlp.modules.attention.linear_attention import LinearAttention\n",
        "from allennlp.modules.attention.dot_product_attention import DotProductAttention\n",
        "from allennlp.modules.attention.bilinear_attention import BilinearAttention\n",
        "from allennlp.modules.attention.additive_attention import AdditiveAttention\n",
        "\n",
        "\n",
        "class SimpleClassifier(Model):\n",
        "    def __init__(self,\n",
        "                 vocab: Vocabulary,\n",
        "                 embedder: TextFieldEmbedder,\n",
        "                 encoder: Seq2SeqEncoder,\n",
        "                 dropout=0.4\n",
        "        ):\n",
        "        super().__init__(vocab)\n",
        "        self.embedder = embedder\n",
        "        self.encoder = encoder\n",
        "        self.bidirectional = self.encoder.is_bidirectional()\n",
        "        if self.bidirectional:\n",
        "            self.hidden_size = int(self.encoder.get_output_dim()/2)\n",
        "        else:\n",
        "            self.hidden_size = self.encoder.get_output_dim()\n",
        "        self.num_labels = vocab.get_vocab_size(\"labels\")\n",
        "        self.attention_layer = AdditiveAttention(vector_dim=encoder.get_output_dim(), \n",
        "                                                 matrix_dim=encoder.get_output_dim(),\n",
        "                                                 normalize=True)\n",
        "        self.project_layer = torch.nn.Linear(self.encoder.get_output_dim()*2, self.encoder.get_output_dim())\n",
        "        self.relu = torch.nn.ReLU()\n",
        "        self.drop = torch.nn.Dropout(dropout)\n",
        "        self.classifier = torch.nn.Linear(self.encoder.get_output_dim()*2, self.num_labels)\n",
        "        self.accuracy = CategoricalAccuracy()\n",
        "        \n",
        "        init_weight(self)\n",
        "        \n",
        "        self.f1_measure = F1Measure(1)\n",
        "    \n",
        "    def init_weight(self):\n",
        "        torch.nn.init.xavier_normal_(self.project_layer.weight)\n",
        "        torch.nn.init.xavier_normal_(self.classifier.weight)\n",
        "\n",
        "    def forward(self,\n",
        "                tokens: Dict[str, torch.Tensor],\n",
        "                label: torch.Tensor = None) -> Dict[str, torch.Tensor]:\n",
        "        # Shape: (batch_size, num_tokens, embedding_dim)\n",
        "        embedded_text = self.embedder(tokens)\n",
        "        # Shape: (batch_size, num_tokens)\n",
        "        mask = util.get_text_field_mask(tokens)\n",
        "\n",
        "        # Shape: (batch_size, encoding_dim) if use seq2vec\n",
        "        # Shape: (batch_size, seq_len, encoding_dim) if use seq2seq\n",
        "        encoded_text = self.encoder(embedded_text, mask)\n",
        "        if self.bidirectional:\n",
        "            last_forward = encoded_text[:, -1, :self.hidden_size]\n",
        "            first_backward = encoded_text[:, 0, self.hidden_size:]\n",
        "            context_vector = torch.cat([last_forward, first_backward], dim=-1)\n",
        "        else:\n",
        "            context_vector = encoded_text[:, -1, :]\n",
        "        \n",
        "        # Shape: (batch_size, seq_len)\n",
        "        att_weight = self.attention_layer(context_vector, encoded_text)\n",
        "\n",
        "        # Shape: (batch_size, hidden_size)\n",
        "        att_hidden = torch.bmm(encoded_text.transpose(-2, -1), att_weight.unsqueeze(-1)).squeeze(-1)\n",
        "        context_att = torch.cat([context_vector, att_hidden], dim=-1)\n",
        "        logits = self.classifier(context_att)\n",
        "        # Shape: (batch_size, num_labels)\n",
        "        probs = torch.nn.functional.softmax(logits)\n",
        "        # Shape: (1,)\n",
        "        output = {\n",
        "            'probs': probs,\n",
        "            'logits': logits\n",
        "        }\n",
        "        if label is not None:\n",
        "            loss = torch.nn.functional.cross_entropy(logits, label)\n",
        "            output['loss'] = loss\n",
        "            self.accuracy(logits, label)\n",
        "            self.f1_measure(logits, label)\n",
        "\n",
        "        return output\n",
        "    \n",
        "    def get_metrics(self, reset: bool = False) -> Dict[str, float]:\n",
        "        metrics_result = self.f1_measure.get_metric(reset)\n",
        "        metrics_result['accuracy'] = self.accuracy.get_metric(reset)\n",
        "        \n",
        "        return metrics_result"
      ],
      "execution_count": 22,
      "outputs": []
    },
    {
      "cell_type": "code",
      "metadata": {
        "id": "tnw_q1GADuzI"
      },
      "source": [
        "import tempfile\n",
        "from typing import Dict, Iterable, List, Tuple\n",
        "import shutil\n",
        "import os\n",
        "\n",
        "import allennlp\n",
        "import torch\n",
        "from allennlp.data import (\n",
        "    DataLoader,\n",
        "    DatasetReader,\n",
        "    Instance,\n",
        "    Vocabulary,\n",
        "    TextFieldTensors,\n",
        ")\n",
        "from allennlp.data.data_loaders import SimpleDataLoader\n",
        "from allennlp.data.fields import LabelField, TextField\n",
        "from allennlp.data.token_indexers import TokenIndexer, SingleIdTokenIndexer\n",
        "from allennlp.data.tokenizers import Token, Tokenizer, WhitespaceTokenizer\n",
        "from allennlp.models import Model\n",
        "from allennlp.modules import TextFieldEmbedder, Seq2VecEncoder, Seq2SeqEncoder\n",
        "from allennlp.modules.seq2vec_encoders import BagOfEmbeddingsEncoder\n",
        "from allennlp.modules.token_embedders import Embedding\n",
        "from allennlp.modules.text_field_embedders import BasicTextFieldEmbedder\n",
        "from allennlp.nn import util\n",
        "from allennlp.training.trainer import GradientDescentTrainer, Trainer\n",
        "from allennlp.training.optimizers import AdamOptimizer\n",
        "from allennlp.training.metrics import CategoricalAccuracy\n",
        "from allennlp.modules.seq2seq_encoders import LstmSeq2SeqEncoder\n",
        "\n",
        "\n",
        "\n",
        "train_path = '/content/drive/MyDrive/Learning/20202/NLP/data/train.csv'\n",
        "test_path = '/content/drive/MyDrive/Learning/20202/NLP/data/test.csv'\n",
        "val_path = '/content/drive/MyDrive/Learning/20202/NLP/data/val.csv'\n",
        "\n",
        "def build_model(\n",
        "    vocab,\n",
        "    embedding_dim=100,\n",
        "    hidden_size=128,\n",
        "    char_embedding_dim=34,\n",
        "    dropout=0.4,\n",
        "    bidirectional=True,\n",
        "    use_character=True,\n",
        "    word_embedding_pretrain_file=None\n",
        "):\n",
        "     # token embedding\n",
        "    embedding = Embedding(embedding_dim=embedding_dim, vocab_namespace='tokens', vocab=vocab, pretrained_file=word_embedding_pretrain_file)\n",
        "        \n",
        "    # char embedding with cnnencoder\n",
        "    character_embedding = Embedding(embedding_dim=char_embedding_dim, vocab_namespace='token_characters', vocab=vocab)\n",
        "    cnn_encoder = CnnEncoder(embedding_dim=char_embedding_dim, num_filters=char_embedding_dim, ngram_filter_sizes=(3,))\n",
        "    token_encoder = TokenCharactersEncoder(character_embedding, cnn_encoder)\n",
        "\n",
        "    if use_character:\n",
        "        embedder = BasicTextFieldEmbedder(\n",
        "            {\n",
        "                \"tokens\": embedding,\n",
        "                \"token_characters\": token_encoder\n",
        "            }\n",
        "        )\n",
        "    else:\n",
        "        embedder = BasicTextFieldEmbedder(\n",
        "            {\n",
        "                \"tokens\": embedding            \n",
        "             }\n",
        "        )\n",
        "        \n",
        "    encoder = LstmSeq2SeqEncoder(input_size=embedder.get_output_dim(), hidden_size=hidden_size, num_layers=2, bidirectional=bidirectional, dropout=dropout)\n",
        "\n",
        "    model = SimpleClassifier(\n",
        "        vocab,\n",
        "        embedder,\n",
        "        encoder\n",
        "    )\n",
        "    model.to('cuda')\n",
        "    return model\n",
        "\n",
        "def build_dataset_reader(max_tokens=80, label_col='sentiment', use_character=True) -> DatasetReader:\n",
        "    return SentimentDataReader(max_tokens=max_tokens, label_col=label_col, use_character=use_character)\n",
        "\n",
        "\n",
        "def read_data(reader: DatasetReader, train_path, val_path) -> Tuple[List[Instance], List[Instance]]:\n",
        "    print(\"Reading data\")\n",
        "    training_data = list(reader.read(train_path))\n",
        "    validation_data = list(reader.read(val_path))\n",
        "    return training_data, validation_data\n",
        "\n",
        "\n",
        "def build_vocab(instances: Iterable[Instance]) -> Vocabulary:\n",
        "    print(\"Building the vocabulary\")\n",
        "    return Vocabulary.from_instances(instances)\n",
        "\n",
        "def build_data_loaders(\n",
        "    train_data: List[Instance],\n",
        "    dev_data: List[Instance],\n",
        "    batch_size=64\n",
        ") -> Tuple[DataLoader, DataLoader]:\n",
        "    train_loader = SimpleDataLoader(train_data, batch_size, shuffle=True)\n",
        "    dev_loader = SimpleDataLoader(dev_data, batch_size, shuffle=False)\n",
        "    return train_loader, dev_loader\n",
        "\n",
        "def build_trainer(\n",
        "    model,\n",
        "    serialization_dir,\n",
        "    train_loader,\n",
        "    dev_loader,\n",
        "    num_epochs=7,\n",
        "    grad_clipping=5,\n",
        "    weight_decay=0.0001\n",
        "):\n",
        "    parameters = [(n, p) for n, p in model.named_parameters() if p.requires_grad]\n",
        "    optimizer = AdamOptimizer(parameters, lr=0.001, weight_decay=weight_decay)  # type: ignore\n",
        "    trainer = GradientDescentTrainer(\n",
        "        model=model,\n",
        "        serialization_dir=serialization_dir,\n",
        "        data_loader=train_loader,\n",
        "        validation_data_loader=dev_loader,\n",
        "        num_epochs=num_epochs,\n",
        "        optimizer=optimizer,\n",
        "        grad_clipping=grad_clipping,\n",
        "        cuda_device=0\n",
        "\n",
        "    )\n",
        "    return trainer\n",
        "\n",
        "def run_training_loop(\n",
        "    train_df,\n",
        "    val_df,\n",
        "    label_col='sentiment',\n",
        "    serialization_dir='models',\n",
        "    checkpoint=False,\n",
        "    use_character=True,\n",
        "    embedding_dim=100,\n",
        "    hidden_size=128,\n",
        "    char_embedding_dim=34,\n",
        "    dropout=0.4,\n",
        "    bidirectional=True,\n",
        "    word_embedding_pretrain_file=None,\n",
        "    num_epochs=7,\n",
        "    grad_clipping=5,\n",
        "    weight_decay=0.0001\n",
        "):    \n",
        "\n",
        "    print('num_epochs', num_epochs)\n",
        "    print('word_embedding_pretrain_file', word_embedding_pretrain_file)\n",
        "    print('dropout', dropout)\n",
        "    print('grad_clipping', grad_clipping)\n",
        "    print('weight_decay', weight_decay)\n",
        "    if checkpoint is False:\n",
        "        if os.path.exists(serialization_dir):\n",
        "            shutil.rmtree(serialization_dir)\n",
        "\n",
        "    dataset_reader = build_dataset_reader(max_tokens=80, label_col=label_col, use_character=use_character)\n",
        "\n",
        "    train_data, dev_data = read_data(dataset_reader, train_df, val_df)\n",
        "\n",
        "    vocab = build_vocab(train_data + dev_data)\n",
        "\n",
        "    model = build_model( \n",
        "        vocab,\n",
        "        embedding_dim=embedding_dim,\n",
        "        hidden_size=hidden_size,\n",
        "        char_embedding_dim=char_embedding_dim,\n",
        "        dropout=dropout,\n",
        "        bidirectional=bidirectional,\n",
        "        use_character=use_character,\n",
        "        word_embedding_pretrain_file=word_embedding_pretrain_file\n",
        "      )\n",
        "\n",
        "    train_loader, dev_loader = build_data_loaders(train_data, dev_data, batch_size=128)\n",
        "    train_loader.index_with(vocab)\n",
        "    dev_loader.index_with(vocab)\n",
        "\n",
        "    trainer = build_trainer(model,\n",
        "                            serialization_dir, \n",
        "                            train_loader, \n",
        "                            dev_loader,\n",
        "                            num_epochs=num_epochs,\n",
        "                            grad_clipping=grad_clipping,\n",
        "                            weight_decay=weight_decay\n",
        "                            )\n",
        "\n",
        "  \n",
        "    trainer.train()\n",
        "\n",
        "\n",
        "    return model, dataset_reader"
      ],
      "execution_count": 23,
      "outputs": []
    },
    {
      "cell_type": "markdown",
      "metadata": {
        "id": "sWhnPEExYHLV"
      },
      "source": [
        "## Upsampling neutral sample"
      ]
    },
    {
      "cell_type": "code",
      "metadata": {
        "colab": {
          "base_uri": "https://localhost:8080/"
        },
        "id": "D8QIaezgPvHv",
        "outputId": "b9cb79a6-b320-4568-b015-a05b4c713856"
      },
      "source": [
        "train_df = pd.read_csv(train_path)\n",
        "val_df = pd.read_csv(val_path)\n",
        "test_df = pd.read_csv(test_path)\n",
        "train_neutral_df = train_df[train_df['sentiment'] == 'neutral']\n",
        "train_df_upsampling = pd.concat([train_df, train_neutral_df])\n",
        "model, data_reader = run_training_loop(\n",
        "                        train_df=train_df_upsampling,\n",
        "                        val_df=val_df,\n",
        "                        label_col='sentiment',\n",
        "                        serialization_dir='models',\n",
        "                        checkpoint=False,\n",
        "                        use_character=False,\n",
        "                        bidirectional=True,\n",
        "                        embedding_dim=100,\n",
        "                        hidden_size=128,\n",
        "                        char_embedding_dim=34,\n",
        "                        dropout=0.4,\n",
        "                        word_embedding_pretrain_file='/content/drive/MyDrive/Learning/20202/NLP/w2v/pretrained/viki_adapt/viki_adapt_w2v.txt',\n",
        "                        num_epochs=50,\n",
        "                        grad_clipping=5,\n",
        "                        weight_decay=0.0001\n",
        "                    )"
      ],
      "execution_count": 30,
      "outputs": [
        {
          "output_type": "stream",
          "text": [
            "num_epochs 50\n",
            "word_embedding_pretrain_file /content/drive/MyDrive/Learning/20202/NLP/w2v/pretrained/viki_adapt/viki_adapt_w2v.txt\n",
            "dropout 0.4\n",
            "grad_clipping 5\n",
            "weight_decay 0.0001\n",
            "Reading data\n"
          ],
          "name": "stdout"
        },
        {
          "output_type": "stream",
          "text": [
            "building vocab:  47%|####7     | 6370/13467 [00:00<00:00, 63697.33it/s]"
          ],
          "name": "stderr"
        },
        {
          "output_type": "stream",
          "text": [
            "Building the vocabulary\n"
          ],
          "name": "stdout"
        },
        {
          "output_type": "stream",
          "text": [
            "building vocab: 100%|##########| 13467/13467 [00:00<00:00, 63446.77it/s]\n",
            "100%|##########| 20577/20577 [00:00<00:00, 104893.67it/s]\n",
            "You provided a validation dataset but patience was set to None, meaning that early stopping is disabled\n",
            "  0%|          | 0/93 [00:00<?, ?it/s]/usr/local/lib/python3.7/dist-packages/ipykernel_launcher.py:63: UserWarning: Implicit dimension choice for softmax has been deprecated. Change the call to include dim=X as an argument.\n",
            "precision: 0.8110, recall: 0.8866, f1: 0.8471, accuracy: 0.8271, batch_loss: 0.3883, loss: 0.4663 ||: 100%|##########| 93/93 [00:03<00:00, 23.61it/s]\n",
            "precision: 0.8893, recall: 0.9461, f1: 0.9168, accuracy: 0.9065, batch_loss: 0.2432, loss: 0.2725 ||: 100%|##########| 13/13 [00:00<00:00, 63.48it/s]\n",
            "precision: 0.8989, recall: 0.9469, f1: 0.9223, accuracy: 0.9035, batch_loss: 0.1783, loss: 0.2662 ||: 100%|##########| 93/93 [00:03<00:00, 23.66it/s]\n",
            "precision: 0.9162, recall: 0.9461, f1: 0.9309, accuracy: 0.9198, batch_loss: 0.2540, loss: 0.2450 ||: 100%|##########| 13/13 [00:00<00:00, 64.71it/s]\n",
            "precision: 0.9336, recall: 0.9561, f1: 0.9447, accuracy: 0.9351, batch_loss: 0.1404, loss: 0.1910 ||: 100%|##########| 93/93 [00:03<00:00, 23.64it/s]\n",
            "precision: 0.9379, recall: 0.8993, f1: 0.9182, accuracy: 0.9084, batch_loss: 0.3287, loss: 0.2718 ||: 100%|##########| 13/13 [00:00<00:00, 66.06it/s]\n",
            "precision: 0.9543, recall: 0.9654, f1: 0.9599, accuracy: 0.9517, batch_loss: 0.1184, loss: 0.1414 ||: 100%|##########| 93/93 [00:03<00:00, 23.68it/s]\n",
            "precision: 0.9324, recall: 0.9390, f1: 0.9357, accuracy: 0.9261, batch_loss: 0.3004, loss: 0.2698 ||: 100%|##########| 13/13 [00:00<00:00, 63.40it/s]\n",
            "precision: 0.9658, recall: 0.9769, f1: 0.9713, accuracy: 0.9648, batch_loss: 0.0480, loss: 0.1047 ||: 100%|##########| 93/93 [00:03<00:00, 23.87it/s]\n",
            "precision: 0.9136, recall: 0.9447, f1: 0.9289, accuracy: 0.9166, batch_loss: 0.3392, loss: 0.3130 ||: 100%|##########| 13/13 [00:00<00:00, 62.33it/s]\n",
            "precision: 0.9719, recall: 0.9793, f1: 0.9756, accuracy: 0.9703, batch_loss: 0.1614, loss: 0.0900 ||: 100%|##########| 93/93 [00:03<00:00, 23.76it/s]\n",
            "precision: 0.9174, recall: 0.9291, f1: 0.9232, accuracy: 0.9128, batch_loss: 0.3819, loss: 0.3153 ||: 100%|##########| 13/13 [00:00<00:00, 61.61it/s]\n",
            "precision: 0.9769, recall: 0.9838, f1: 0.9804, accuracy: 0.9761, batch_loss: 0.1030, loss: 0.0695 ||: 100%|##########| 93/93 [00:03<00:00, 23.29it/s]\n",
            "precision: 0.9177, recall: 0.9333, f1: 0.9255, accuracy: 0.9160, batch_loss: 0.3663, loss: 0.3429 ||: 100%|##########| 13/13 [00:00<00:00, 61.39it/s]\n",
            "precision: 0.9828, recall: 0.9884, f1: 0.9856, accuracy: 0.9817, batch_loss: 0.0439, loss: 0.0558 ||: 100%|##########| 93/93 [00:03<00:00, 23.32it/s]\n",
            "precision: 0.9213, recall: 0.9461, f1: 0.9335, accuracy: 0.9242, batch_loss: 0.4769, loss: 0.3612 ||: 100%|##########| 13/13 [00:00<00:00, 62.89it/s]\n",
            "precision: 0.9860, recall: 0.9893, f1: 0.9876, accuracy: 0.9849, batch_loss: 0.0318, loss: 0.0460 ||: 100%|##########| 93/93 [00:03<00:00, 23.46it/s]\n",
            "precision: 0.9215, recall: 0.9489, f1: 0.9350, accuracy: 0.9185, batch_loss: 0.4420, loss: 0.3700 ||: 100%|##########| 13/13 [00:00<00:00, 67.57it/s]\n",
            "precision: 0.9897, recall: 0.9927, f1: 0.9912, accuracy: 0.9888, batch_loss: 0.0079, loss: 0.0356 ||: 100%|##########| 93/93 [00:03<00:00, 23.35it/s]\n",
            "precision: 0.9321, recall: 0.9348, f1: 0.9334, accuracy: 0.9204, batch_loss: 0.4981, loss: 0.4084 ||: 100%|##########| 13/13 [00:00<00:00, 61.75it/s]\n",
            "precision: 0.9904, recall: 0.9908, f1: 0.9906, accuracy: 0.9874, batch_loss: 0.0200, loss: 0.0391 ||: 100%|##########| 93/93 [00:03<00:00, 23.68it/s]\n",
            "precision: 0.9228, recall: 0.9489, f1: 0.9357, accuracy: 0.9191, batch_loss: 0.4339, loss: 0.3896 ||: 100%|##########| 13/13 [00:00<00:00, 58.82it/s]\n",
            "precision: 0.9908, recall: 0.9921, f1: 0.9915, accuracy: 0.9884, batch_loss: 0.0440, loss: 0.0358 ||: 100%|##########| 93/93 [00:04<00:00, 23.12it/s]\n",
            "precision: 0.9282, recall: 0.9348, f1: 0.9314, accuracy: 0.9198, batch_loss: 0.4147, loss: 0.4100 ||: 100%|##########| 13/13 [00:00<00:00, 64.39it/s]\n",
            "precision: 0.9903, recall: 0.9934, f1: 0.9918, accuracy: 0.9908, batch_loss: 0.0066, loss: 0.0295 ||: 100%|##########| 93/93 [00:03<00:00, 23.44it/s]\n",
            "precision: 0.9206, recall: 0.9376, f1: 0.9290, accuracy: 0.9160, batch_loss: 0.5357, loss: 0.4402 ||: 100%|##########| 13/13 [00:00<00:00, 65.03it/s]\n",
            "precision: 0.9938, recall: 0.9947, f1: 0.9943, accuracy: 0.9934, batch_loss: 0.0568, loss: 0.0216 ||: 100%|##########| 93/93 [00:03<00:00, 23.58it/s]\n",
            "precision: 0.9282, recall: 0.9348, f1: 0.9314, accuracy: 0.9172, batch_loss: 0.5318, loss: 0.4651 ||: 100%|##########| 13/13 [00:00<00:00, 63.11it/s]\n",
            "precision: 0.9938, recall: 0.9947, f1: 0.9943, accuracy: 0.9921, batch_loss: 0.0599, loss: 0.0264 ||: 100%|##########| 93/93 [00:03<00:00, 23.46it/s]\n",
            "precision: 0.9262, recall: 0.9262, f1: 0.9262, accuracy: 0.9141, batch_loss: 0.7665, loss: 0.4951 ||: 100%|##########| 13/13 [00:00<00:00, 63.46it/s]\n",
            "precision: 0.9923, recall: 0.9936, f1: 0.9930, accuracy: 0.9907, batch_loss: 0.0525, loss: 0.0270 ||: 100%|##########| 93/93 [00:03<00:00, 23.28it/s]\n",
            "precision: 0.9336, recall: 0.9177, f1: 0.9256, accuracy: 0.9135, batch_loss: 0.8465, loss: 0.4863 ||: 100%|##########| 13/13 [00:00<00:00, 65.08it/s]\n",
            "precision: 0.9925, recall: 0.9914, f1: 0.9919, accuracy: 0.9907, batch_loss: 0.0165, loss: 0.0272 ||: 100%|##########| 93/93 [00:03<00:00, 23.51it/s]\n",
            "precision: 0.9252, recall: 0.9305, f1: 0.9279, accuracy: 0.9135, batch_loss: 0.7795, loss: 0.4801 ||: 100%|##########| 13/13 [00:00<00:00, 57.25it/s]\n",
            "precision: 0.9944, recall: 0.9949, f1: 0.9946, accuracy: 0.9933, batch_loss: 0.0121, loss: 0.0208 ||: 100%|##########| 93/93 [00:03<00:00, 23.30it/s]\n",
            "precision: 0.9280, recall: 0.9135, f1: 0.9207, accuracy: 0.9090, batch_loss: 0.7787, loss: 0.5169 ||: 100%|##########| 13/13 [00:00<00:00, 63.96it/s]\n",
            "precision: 0.9955, recall: 0.9959, f1: 0.9957, accuracy: 0.9929, batch_loss: 0.0605, loss: 0.0220 ||: 100%|##########| 93/93 [00:03<00:00, 23.72it/s]\n",
            "precision: 0.9227, recall: 0.9149, f1: 0.9188, accuracy: 0.9065, batch_loss: 0.9161, loss: 0.5302 ||: 100%|##########| 13/13 [00:00<00:00, 57.31it/s]\n",
            "precision: 0.9947, recall: 0.9959, f1: 0.9953, accuracy: 0.9939, batch_loss: 0.0068, loss: 0.0189 ||: 100%|##########| 93/93 [00:04<00:00, 23.03it/s]\n",
            "precision: 0.9221, recall: 0.9234, f1: 0.9227, accuracy: 0.9103, batch_loss: 0.8420, loss: 0.5112 ||: 100%|##########| 13/13 [00:00<00:00, 57.82it/s]\n",
            "precision: 0.9949, recall: 0.9947, f1: 0.9948, accuracy: 0.9939, batch_loss: 0.0089, loss: 0.0197 ||: 100%|##########| 93/93 [00:03<00:00, 23.34it/s]\n",
            "precision: 0.9015, recall: 0.9475, f1: 0.9239, accuracy: 0.9065, batch_loss: 0.6715, loss: 0.5240 ||: 100%|##########| 13/13 [00:00<00:00, 67.34it/s]\n",
            "precision: 0.9917, recall: 0.9929, f1: 0.9923, accuracy: 0.9899, batch_loss: 0.0097, loss: 0.0289 ||: 100%|##########| 93/93 [00:03<00:00, 23.26it/s]\n",
            "precision: 0.9190, recall: 0.9333, f1: 0.9261, accuracy: 0.9122, batch_loss: 0.6164, loss: 0.4703 ||: 100%|##########| 13/13 [00:00<00:00, 62.26it/s]\n",
            "precision: 0.9938, recall: 0.9944, f1: 0.9941, accuracy: 0.9933, batch_loss: 0.0169, loss: 0.0213 ||: 100%|##########| 93/93 [00:03<00:00, 23.40it/s]\n",
            "precision: 0.9307, recall: 0.9333, f1: 0.9320, accuracy: 0.9185, batch_loss: 0.7433, loss: 0.4716 ||: 100%|##########| 13/13 [00:00<00:00, 60.69it/s]\n",
            "precision: 0.9946, recall: 0.9946, f1: 0.9946, accuracy: 0.9942, batch_loss: 0.0281, loss: 0.0162 ||: 100%|##########| 93/93 [00:04<00:00, 23.06it/s]\n",
            "precision: 0.9150, recall: 0.9461, f1: 0.9303, accuracy: 0.9172, batch_loss: 0.7631, loss: 0.5098 ||: 100%|##########| 13/13 [00:00<00:00, 61.36it/s]\n",
            "precision: 0.9972, recall: 0.9981, f1: 0.9977, accuracy: 0.9969, batch_loss: 0.0021, loss: 0.0107 ||: 100%|##########| 93/93 [00:04<00:00, 23.13it/s]\n",
            "precision: 0.9259, recall: 0.9390, f1: 0.9324, accuracy: 0.9160, batch_loss: 0.6959, loss: 0.5534 ||: 100%|##########| 13/13 [00:00<00:00, 62.85it/s]\n",
            "precision: 0.9957, recall: 0.9962, f1: 0.9960, accuracy: 0.9950, batch_loss: 0.0383, loss: 0.0148 ||: 100%|##########| 93/93 [00:03<00:00, 23.29it/s]\n",
            "precision: 0.9211, recall: 0.9433, f1: 0.9320, accuracy: 0.9147, batch_loss: 0.6157, loss: 0.5307 ||: 100%|##########| 13/13 [00:00<00:00, 60.16it/s]\n",
            "precision: 0.9921, recall: 0.9927, f1: 0.9924, accuracy: 0.9906, batch_loss: 0.0320, loss: 0.0279 ||: 100%|##########| 93/93 [00:03<00:00, 23.55it/s]\n",
            "precision: 0.9223, recall: 0.9262, f1: 0.9243, accuracy: 0.9135, batch_loss: 0.6606, loss: 0.5396 ||: 100%|##########| 13/13 [00:00<00:00, 56.76it/s]\n",
            "precision: 0.9944, recall: 0.9932, f1: 0.9938, accuracy: 0.9918, batch_loss: 0.0296, loss: 0.0241 ||: 100%|##########| 93/93 [00:03<00:00, 23.40it/s]\n",
            "precision: 0.9203, recall: 0.9333, f1: 0.9268, accuracy: 0.9147, batch_loss: 0.7101, loss: 0.4972 ||: 100%|##########| 13/13 [00:00<00:00, 63.52it/s]\n",
            "precision: 0.9970, recall: 0.9974, f1: 0.9972, accuracy: 0.9964, batch_loss: 0.0022, loss: 0.0111 ||: 100%|##########| 93/93 [00:03<00:00, 23.56it/s]\n",
            "precision: 0.9236, recall: 0.9262, f1: 0.9249, accuracy: 0.9147, batch_loss: 0.6257, loss: 0.5069 ||: 100%|##########| 13/13 [00:00<00:00, 55.13it/s]\n",
            "precision: 0.9947, recall: 0.9947, f1: 0.9947, accuracy: 0.9938, batch_loss: 0.0162, loss: 0.0201 ||: 100%|##########| 93/93 [00:03<00:00, 24.19it/s]\n",
            "precision: 0.9379, recall: 0.9206, f1: 0.9291, accuracy: 0.9172, batch_loss: 0.6019, loss: 0.5271 ||: 100%|##########| 13/13 [00:00<00:00, 61.49it/s]\n",
            "precision: 0.9966, recall: 0.9966, f1: 0.9966, accuracy: 0.9960, batch_loss: 0.0021, loss: 0.0142 ||: 100%|##########| 93/93 [00:03<00:00, 23.75it/s]\n",
            "precision: 0.9272, recall: 0.9390, f1: 0.9331, accuracy: 0.9204, batch_loss: 0.7071, loss: 0.5336 ||: 100%|##########| 13/13 [00:00<00:00, 64.97it/s]\n",
            "precision: 0.9964, recall: 0.9968, f1: 0.9966, accuracy: 0.9959, batch_loss: 0.0639, loss: 0.0129 ||: 100%|##########| 93/93 [00:04<00:00, 23.25it/s]\n",
            "precision: 0.9294, recall: 0.9333, f1: 0.9314, accuracy: 0.9185, batch_loss: 0.6469, loss: 0.5308 ||: 100%|##########| 13/13 [00:00<00:00, 65.27it/s]\n",
            "precision: 0.9959, recall: 0.9961, f1: 0.9960, accuracy: 0.9951, batch_loss: 0.0083, loss: 0.0146 ||: 100%|##########| 93/93 [00:03<00:00, 23.32it/s]\n",
            "precision: 0.9150, recall: 0.9461, f1: 0.9303, accuracy: 0.9154, batch_loss: 0.7548, loss: 0.5245 ||: 100%|##########| 13/13 [00:00<00:00, 60.75it/s]\n",
            "precision: 0.9931, recall: 0.9934, f1: 0.9932, accuracy: 0.9924, batch_loss: 0.0712, loss: 0.0234 ||: 100%|##########| 93/93 [00:04<00:00, 23.13it/s]\n",
            "precision: 0.9515, recall: 0.9191, f1: 0.9351, accuracy: 0.9185, batch_loss: 0.4785, loss: 0.4563 ||: 100%|##########| 13/13 [00:00<00:00, 63.26it/s]\n",
            "precision: 0.9955, recall: 0.9951, f1: 0.9953, accuracy: 0.9938, batch_loss: 0.0155, loss: 0.0190 ||: 100%|##########| 93/93 [00:03<00:00, 23.37it/s]\n",
            "precision: 0.9255, recall: 0.9333, f1: 0.9294, accuracy: 0.9166, batch_loss: 0.7103, loss: 0.5047 ||: 100%|##########| 13/13 [00:00<00:00, 52.94it/s]\n",
            "precision: 0.9932, recall: 0.9942, f1: 0.9937, accuracy: 0.9928, batch_loss: 0.0092, loss: 0.0221 ||: 100%|##########| 93/93 [00:03<00:00, 23.38it/s]\n",
            "precision: 0.9280, recall: 0.9319, f1: 0.9299, accuracy: 0.9172, batch_loss: 0.6541, loss: 0.4612 ||: 100%|##########| 13/13 [00:00<00:00, 65.36it/s]\n",
            "precision: 0.9957, recall: 0.9974, f1: 0.9965, accuracy: 0.9958, batch_loss: 0.0240, loss: 0.0150 ||: 100%|##########| 93/93 [00:04<00:00, 23.21it/s]\n",
            "precision: 0.9332, recall: 0.9319, f1: 0.9326, accuracy: 0.9160, batch_loss: 0.6459, loss: 0.4974 ||: 100%|##########| 13/13 [00:00<00:00, 64.26it/s]\n",
            "precision: 0.9968, recall: 0.9972, f1: 0.9970, accuracy: 0.9963, batch_loss: 0.0168, loss: 0.0115 ||: 100%|##########| 93/93 [00:03<00:00, 23.47it/s]\n",
            "precision: 0.9276, recall: 0.9447, f1: 0.9361, accuracy: 0.9198, batch_loss: 0.6890, loss: 0.5265 ||: 100%|##########| 13/13 [00:00<00:00, 62.30it/s]\n",
            "precision: 0.9981, recall: 0.9983, f1: 0.9982, accuracy: 0.9965, batch_loss: 0.0085, loss: 0.0118 ||: 100%|##########| 93/93 [00:03<00:00, 23.29it/s]\n",
            "precision: 0.9285, recall: 0.9206, f1: 0.9245, accuracy: 0.9116, batch_loss: 0.8478, loss: 0.5602 ||: 100%|##########| 13/13 [00:00<00:00, 65.49it/s]\n",
            "precision: 0.9977, recall: 0.9977, f1: 0.9977, accuracy: 0.9971, batch_loss: 0.0287, loss: 0.0083 ||: 100%|##########| 93/93 [00:04<00:00, 23.17it/s]\n",
            "precision: 0.9328, recall: 0.9248, f1: 0.9288, accuracy: 0.9141, batch_loss: 0.8246, loss: 0.5569 ||: 100%|##########| 13/13 [00:00<00:00, 61.83it/s]\n",
            "precision: 0.9917, recall: 0.9919, f1: 0.9918, accuracy: 0.9909, batch_loss: 0.0127, loss: 0.0249 ||: 100%|##########| 93/93 [00:03<00:00, 23.38it/s]\n",
            "precision: 0.9357, recall: 0.9291, f1: 0.9324, accuracy: 0.9154, batch_loss: 0.9079, loss: 0.5419 ||: 100%|##########| 13/13 [00:00<00:00, 60.86it/s]\n",
            "precision: 0.9934, recall: 0.9938, f1: 0.9936, accuracy: 0.9929, batch_loss: 0.0063, loss: 0.0249 ||: 100%|##########| 93/93 [00:03<00:00, 23.65it/s]\n",
            "precision: 0.9236, recall: 0.9433, f1: 0.9333, accuracy: 0.9185, batch_loss: 0.8219, loss: 0.4874 ||: 100%|##########| 13/13 [00:00<00:00, 58.77it/s]\n",
            "precision: 0.9942, recall: 0.9942, f1: 0.9942, accuracy: 0.9933, batch_loss: 0.0026, loss: 0.0184 ||: 100%|##########| 93/93 [00:03<00:00, 23.44it/s]\n",
            "precision: 0.9280, recall: 0.9319, f1: 0.9299, accuracy: 0.9166, batch_loss: 0.9357, loss: 0.5306 ||: 100%|##########| 13/13 [00:00<00:00, 58.93it/s]\n",
            "precision: 0.9961, recall: 0.9976, f1: 0.9968, accuracy: 0.9953, batch_loss: 0.0080, loss: 0.0150 ||: 100%|##########| 93/93 [00:03<00:00, 23.37it/s]\n",
            "precision: 0.9244, recall: 0.9362, f1: 0.9302, accuracy: 0.9147, batch_loss: 0.9260, loss: 0.5314 ||: 100%|##########| 13/13 [00:00<00:00, 62.45it/s]\n",
            "precision: 0.9946, recall: 0.9957, f1: 0.9951, accuracy: 0.9946, batch_loss: 0.0015, loss: 0.0162 ||: 100%|##########| 93/93 [00:03<00:00, 23.54it/s]\n",
            "precision: 0.9310, recall: 0.8993, f1: 0.9149, accuracy: 0.9027, batch_loss: 0.8533, loss: 0.5868 ||: 100%|##########| 13/13 [00:00<00:00, 57.71it/s]\n",
            "precision: 0.9936, recall: 0.9936, f1: 0.9936, accuracy: 0.9926, batch_loss: 0.0161, loss: 0.0222 ||: 100%|##########| 93/93 [00:04<00:00, 23.21it/s]\n",
            "precision: 0.9287, recall: 0.9234, f1: 0.9260, accuracy: 0.9128, batch_loss: 0.7085, loss: 0.4984 ||: 100%|##########| 13/13 [00:00<00:00, 56.31it/s]\n",
            "precision: 0.9964, recall: 0.9961, f1: 0.9962, accuracy: 0.9950, batch_loss: 0.0052, loss: 0.0145 ||: 100%|##########| 93/93 [00:03<00:00, 23.27it/s]\n",
            "precision: 0.9260, recall: 0.9234, f1: 0.9247, accuracy: 0.9154, batch_loss: 0.7563, loss: 0.5570 ||: 100%|##########| 13/13 [00:00<00:00, 60.49it/s]\n",
            "precision: 0.9940, recall: 0.9947, f1: 0.9944, accuracy: 0.9933, batch_loss: 0.0662, loss: 0.0211 ||: 100%|##########| 93/93 [00:03<00:00, 23.48it/s]\n",
            "precision: 0.9171, recall: 0.9262, f1: 0.9217, accuracy: 0.9078, batch_loss: 0.7921, loss: 0.5476 ||: 100%|##########| 13/13 [00:00<00:00, 61.60it/s]\n",
            "precision: 0.9964, recall: 0.9968, f1: 0.9966, accuracy: 0.9956, batch_loss: 0.0021, loss: 0.0148 ||: 100%|##########| 93/93 [00:04<00:00, 23.21it/s]\n",
            "precision: 0.9323, recall: 0.9177, f1: 0.9249, accuracy: 0.9084, batch_loss: 0.7863, loss: 0.5684 ||: 100%|##########| 13/13 [00:00<00:00, 63.44it/s]\n",
            "precision: 0.9977, recall: 0.9979, f1: 0.9978, accuracy: 0.9965, batch_loss: 0.0260, loss: 0.0118 ||: 100%|##########| 93/93 [00:04<00:00, 23.23it/s]\n",
            "precision: 0.9293, recall: 0.9319, f1: 0.9306, accuracy: 0.9179, batch_loss: 0.8422, loss: 0.5663 ||: 100%|##########| 13/13 [00:00<00:00, 66.08it/s]\n"
          ],
          "name": "stderr"
        }
      ]
    },
    {
      "cell_type": "code",
      "metadata": {
        "colab": {
          "base_uri": "https://localhost:8080/"
        },
        "id": "yPvdGJac9x8R",
        "outputId": "2f7a7fe5-b280-494f-c75a-9fb1ba57034b"
      },
      "source": [
        "print(model)"
      ],
      "execution_count": 31,
      "outputs": [
        {
          "output_type": "stream",
          "text": [
            "SimpleClassifier(\n",
            "  (embedder): BasicTextFieldEmbedder(\n",
            "    (token_embedder_tokens): Embedding()\n",
            "  )\n",
            "  (encoder): LstmSeq2SeqEncoder(\n",
            "    (_module): LSTM(100, 128, num_layers=2, batch_first=True, dropout=0.4, bidirectional=True)\n",
            "  )\n",
            "  (attention_layer): AdditiveAttention()\n",
            "  (project_layer): Linear(in_features=512, out_features=256, bias=True)\n",
            "  (relu): ReLU()\n",
            "  (drop): Dropout(p=0.4, inplace=False)\n",
            "  (classifier): Linear(in_features=512, out_features=3, bias=True)\n",
            ")\n"
          ],
          "name": "stdout"
        }
      ]
    },
    {
      "cell_type": "code",
      "metadata": {
        "colab": {
          "base_uri": "https://localhost:8080/"
        },
        "id": "XJQ1dvzRQ7Oq",
        "outputId": "f0f5f554-0770-40a7-90b3-9d09d73d5a9b"
      },
      "source": [
        "from allennlp.training.util import evaluate\n",
        "test_data = list(data_reader.read(test_df))\n",
        "data_loader = SimpleDataLoader(test_data, batch_size=64)\n",
        "data_loader.index_with(model.vocab)\n",
        "\n",
        "results = evaluate(model.to('cpu'), data_loader)\n",
        "print(results)"
      ],
      "execution_count": 32,
      "outputs": [
        {
          "output_type": "stream",
          "text": [
            "0it [00:00, ?it/s]/usr/local/lib/python3.7/dist-packages/ipykernel_launcher.py:63: UserWarning: Implicit dimension choice for softmax has been deprecated. Change the call to include dim=X as an argument.\n",
            "precision: 0.90, recall: 0.94, f1: 0.92, accuracy: 0.90, loss: 0.31 ||: : 50it [00:03, 15.77it/s]"
          ],
          "name": "stderr"
        },
        {
          "output_type": "stream",
          "text": [
            "{'precision': 0.8952702879905701, 'recall': 0.94038325548172, 'f1': 0.9172724485397339, 'accuracy': 0.899557801642451, 'loss': 0.309077228307724}\n"
          ],
          "name": "stdout"
        },
        {
          "output_type": "stream",
          "text": [
            "\n"
          ],
          "name": "stderr"
        }
      ]
    },
    {
      "cell_type": "code",
      "metadata": {
        "colab": {
          "base_uri": "https://localhost:8080/",
          "height": 768
        },
        "id": "nce_dMWWRlHF",
        "outputId": "1e3e56c4-54d1-4d8b-944c-ef0d1435696a"
      },
      "source": [
        "eval_model(model=model, data_reader=data_reader, test_df=test_df, plot_cm=True)"
      ],
      "execution_count": 33,
      "outputs": [
        {
          "output_type": "stream",
          "text": [
            "/usr/local/lib/python3.7/dist-packages/ipykernel_launcher.py:63: UserWarning: Implicit dimension choice for softmax has been deprecated. Change the call to include dim=X as an argument.\n"
          ],
          "name": "stderr"
        },
        {
          "output_type": "stream",
          "text": [
            "Evaluate \n",
            "Accuracy : 0.901452937460518\n",
            "Precision: 0.7938010516288317\n",
            "Recall   : 0.7451647102837592\n",
            "F1-Score : 0.7630594828236843\n",
            "Save confusion-matrix...\n"
          ],
          "name": "stdout"
        },
        {
          "output_type": "display_data",
          "data": {
            "image/png": "[encoded data removed]",
            "text/plain": [
              "<Figure size 432x288 with 2 Axes>"
            ]
          },
          "metadata": {
            "tags": [],
            "needs_background": "light"
          }
        },
        {
          "output_type": "stream",
          "text": [
            "Save confusion-matrix...\n"
          ],
          "name": "stdout"
        },
        {
          "output_type": "display_data",
          "data": {
            "image/png": "[encoded data removed]",
            "text/plain": [
              "<Figure size 432x288 with 2 Axes>"
            ]
          },
          "metadata": {
            "tags": [],
            "needs_background": "light"
          }
        },
        {
          "output_type": "execute_result",
          "data": {
            "text/plain": [
              "(0.901452937460518, 0.7938010516288317, 0.7451647102837592, 0.7630594828236843)"
            ]
          },
          "metadata": {
            "tags": []
          },
          "execution_count": 33
        }
      ]
    },
    {
      "cell_type": "markdown",
      "metadata": {
        "id": "0bL154IQUQfz"
      },
      "source": [
        "## Upsampling các ví dụ false"
      ]
    },
    {
      "cell_type": "code",
      "metadata": {
        "colab": {
          "base_uri": "https://localhost:8080/"
        },
        "id": "Ab8x5UigUXFN",
        "outputId": "76f506a7-00c1-4859-95e5-eb5c60857c80"
      },
      "source": [
        "train_df_pred = predict_on_df(model=model, data_reader=data_reader, data_df=train_df, label_col='sentiment')\n",
        "val_df_pred = predict_on_df(model=model, data_reader=data_reader, data_df=val_df, label_col='sentiment')\n",
        "\n",
        "train_false_df = train_df_pred[train_df_pred['sentiment_pred'] != train_df_pred['sentiment']]\n",
        "val_false_df = val_df_pred[val_df_pred['sentiment_pred'] != val_df_pred['sentiment']]\n",
        "\n",
        "train_df_upsampling = pd.concat([train_df_upsampling, train_false_df, val_false_df])\n",
        "\n"
      ],
      "execution_count": 34,
      "outputs": [
        {
          "output_type": "stream",
          "text": [
            "/usr/local/lib/python3.7/dist-packages/ipykernel_launcher.py:63: UserWarning: Implicit dimension choice for softmax has been deprecated. Change the call to include dim=X as an argument.\n"
          ],
          "name": "stderr"
        }
      ]
    },
    {
      "cell_type": "code",
      "metadata": {
        "id": "W6LjqVn6Waxc"
      },
      "source": [
        ""
      ],
      "execution_count": null,
      "outputs": []
    },
    {
      "cell_type": "code",
      "metadata": {
        "colab": {
          "base_uri": "https://localhost:8080/"
        },
        "id": "fkjHJJOpVypn",
        "outputId": "234c10ad-5cbf-4b78-9f5d-bb1f32d9b5e4"
      },
      "source": [
        "model_up, data_reader_up = run_training_loop(\n",
        "                        train_df=train_df_upsampling,\n",
        "                        val_df=val_df,\n",
        "                        label_col='sentiment',\n",
        "                        serialization_dir='models',\n",
        "                        checkpoint=False,\n",
        "                        use_character=False,\n",
        "                        bidirectional=True,\n",
        "                        embedding_dim=100,\n",
        "                        hidden_size=128,\n",
        "                        char_embedding_dim=34,\n",
        "                        dropout=0.4,\n",
        "                        word_embedding_pretrain_file='/content/drive/MyDrive/Learning/20202/NLP/w2v/pretrained/viki_adapt/viki_adapt_w2v.txt',\n",
        "                        num_epochs=20,\n",
        "                        grad_clipping=5,\n",
        "                        weight_decay=0.0001\n",
        "                    )"
      ],
      "execution_count": null,
      "outputs": [
        {
          "output_type": "stream",
          "text": [
            "num_epochs 10\n",
            "word_embedding_pretrain_file /content/drive/MyDrive/Learning/20202/NLP/w2v/pretrained/viki_adapt/viki_adapt_w2v.txt\n",
            "dropout 0.4\n",
            "grad_clipping 5\n",
            "weight_decay 0.0001\n",
            "Reading data\n"
          ],
          "name": "stdout"
        },
        {
          "output_type": "stream",
          "text": [
            "building vocab: 100%|##########| 14019/14019 [00:00<00:00, 87675.93it/s]\n",
            "  0%|          | 0/20577 [00:00<?, ?it/s]"
          ],
          "name": "stderr"
        },
        {
          "output_type": "stream",
          "text": [
            "Building the vocabulary\n"
          ],
          "name": "stdout"
        },
        {
          "output_type": "stream",
          "text": [
            "100%|##########| 20577/20577 [00:00<00:00, 138512.09it/s]\n",
            "You provided a validation dataset but patience was set to None, meaning that early stopping is disabled\n",
            "  0%|          | 0/98 [00:00<?, ?it/s]/usr/local/lib/python3.7/dist-packages/ipykernel_launcher.py:28: UserWarning: Implicit dimension choice for softmax has been deprecated. Change the call to include dim=X as an argument.\n",
            "precision: 0.7717, recall: 0.8858, f1: 0.8248, accuracy: 0.8059, batch_loss: 0.2298, loss: 0.5069 ||: 100%|##########| 98/98 [00:02<00:00, 41.14it/s]\n",
            "precision: 0.9071, recall: 0.9560, f1: 0.9309, accuracy: 0.9191, batch_loss: 0.2599, loss: 0.2570 ||: 100%|##########| 13/13 [00:00<00:00, 95.92it/s]\n",
            "precision: 0.8741, recall: 0.9255, f1: 0.8991, accuracy: 0.8830, batch_loss: 0.2027, loss: 0.3170 ||: 100%|##########| 98/98 [00:02<00:00, 43.26it/s]\n",
            "precision: 0.9161, recall: 0.9603, f1: 0.9377, accuracy: 0.9248, batch_loss: 0.1804, loss: 0.2041 ||: 100%|##########| 13/13 [00:00<00:00, 95.86it/s]\n",
            "precision: 0.9125, recall: 0.9378, f1: 0.9250, accuracy: 0.9142, batch_loss: 0.1360, loss: 0.2297 ||: 100%|##########| 98/98 [00:02<00:00, 42.56it/s]\n",
            "precision: 0.9296, recall: 0.9546, f1: 0.9419, accuracy: 0.9280, batch_loss: 0.1742, loss: 0.1837 ||: 100%|##########| 13/13 [00:00<00:00, 95.85it/s]\n",
            "precision: 0.9419, recall: 0.9638, f1: 0.9527, accuracy: 0.9440, batch_loss: 0.1456, loss: 0.1587 ||: 100%|##########| 98/98 [00:02<00:00, 42.25it/s]\n",
            "precision: 0.9573, recall: 0.9532, f1: 0.9552, accuracy: 0.9463, batch_loss: 0.1779, loss: 0.1411 ||: 100%|##########| 13/13 [00:00<00:00, 96.69it/s]\n",
            "precision: 0.9583, recall: 0.9689, f1: 0.9636, accuracy: 0.9566, batch_loss: 0.0416, loss: 0.1189 ||: 100%|##########| 98/98 [00:02<00:00, 42.79it/s]\n",
            "precision: 0.9728, recall: 0.9631, f1: 0.9679, accuracy: 0.9608, batch_loss: 0.2485, loss: 0.1236 ||: 100%|##########| 13/13 [00:00<00:00, 98.83it/s]\n",
            "precision: 0.9723, recall: 0.9778, f1: 0.9751, accuracy: 0.9700, batch_loss: 0.1532, loss: 0.0894 ||: 100%|##########| 98/98 [00:02<00:00, 42.22it/s]\n",
            "precision: 0.9767, recall: 0.9518, f1: 0.9641, accuracy: 0.9577, batch_loss: 0.2056, loss: 0.1312 ||: 100%|##########| 13/13 [00:00<00:00, 94.68it/s]\n",
            "precision: 0.9827, recall: 0.9887, f1: 0.9857, accuracy: 0.9810, batch_loss: 0.0511, loss: 0.0587 ||: 100%|##########| 98/98 [00:02<00:00, 41.89it/s]\n",
            "precision: 0.9701, recall: 0.9660, f1: 0.9680, accuracy: 0.9634, batch_loss: 0.0417, loss: 0.1034 ||: 100%|##########| 13/13 [00:00<00:00, 90.89it/s]\n",
            "precision: 0.9820, recall: 0.9844, f1: 0.9832, accuracy: 0.9801, batch_loss: 0.0304, loss: 0.0541 ||: 100%|##########| 98/98 [00:02<00:00, 42.39it/s]\n",
            "precision: 0.9839, recall: 0.9546, f1: 0.9690, accuracy: 0.9659, batch_loss: 0.0661, loss: 0.0989 ||: 100%|##########| 13/13 [00:00<00:00, 96.84it/s]\n",
            "precision: 0.9844, recall: 0.9884, f1: 0.9864, accuracy: 0.9843, batch_loss: 0.0183, loss: 0.0468 ||: 100%|##########| 98/98 [00:02<00:00, 42.62it/s]\n",
            "precision: 0.9827, recall: 0.9688, f1: 0.9757, accuracy: 0.9697, batch_loss: 0.0410, loss: 0.0969 ||: 100%|##########| 13/13 [00:00<00:00, 97.99it/s]\n",
            "precision: 0.9904, recall: 0.9924, f1: 0.9914, accuracy: 0.9892, batch_loss: 0.0876, loss: 0.0316 ||: 100%|##########| 98/98 [00:02<00:00, 42.56it/s]\n",
            "precision: 0.9827, recall: 0.9645, f1: 0.9735, accuracy: 0.9684, batch_loss: 0.0597, loss: 0.1120 ||: 100%|##########| 13/13 [00:00<00:00, 98.54it/s]\n"
          ],
          "name": "stderr"
        }
      ]
    },
    {
      "cell_type": "code",
      "metadata": {
        "colab": {
          "base_uri": "https://localhost:8080/",
          "height": 788
        },
        "id": "VmGGrVImV5PL",
        "outputId": "cc740829-5998-4b56-e82e-3665d97b82b6"
      },
      "source": [
        "eval_model(model=model_up, data_reader=data_reader_up, test_df=test_df, plot_cm=True)"
      ],
      "execution_count": null,
      "outputs": [
        {
          "output_type": "stream",
          "text": [
            "/usr/local/lib/python3.7/dist-packages/ipykernel_launcher.py:28: UserWarning: Implicit dimension choice for softmax has been deprecated. Change the call to include dim=X as an argument.\n"
          ],
          "name": "stderr"
        },
        {
          "output_type": "stream",
          "text": [
            "Evaluate \n",
            "Accuracy : 0.9001895135818067\n",
            "Precision: 0.806061502778447\n",
            "Recall   : 0.7225127321674214\n",
            "F1-Score : 0.7471586366099654\n",
            "Save confusion-matrix...\n"
          ],
          "name": "stdout"
        },
        {
          "output_type": "display_data",
          "data": {
            "image/png": "[encoded data removed]",
            "text/plain": [
              "<Figure size 432x288 with 2 Axes>"
            ]
          },
          "metadata": {
            "tags": [],
            "needs_background": "light"
          }
        },
        {
          "output_type": "stream",
          "text": [
            "Save confusion-matrix...\n"
          ],
          "name": "stdout"
        },
        {
          "output_type": "display_data",
          "data": {
            "image/png": "[encoded data removed]",
            "text/plain": [
              "<Figure size 432x288 with 2 Axes>"
            ]
          },
          "metadata": {
            "tags": [],
            "needs_background": "light"
          }
        },
        {
          "output_type": "execute_result",
          "data": {
            "text/plain": [
              "(0.9001895135818067, 0.806061502778447, 0.7225127321674214, 0.7471586366099654)"
            ]
          },
          "metadata": {
            "tags": []
          },
          "execution_count": 24
        }
      ]
    },
    {
      "cell_type": "markdown",
      "metadata": {
        "id": "JUoRXeidPvgI"
      },
      "source": [
        "# Train Kfold"
      ]
    },
    {
      "cell_type": "code",
      "metadata": {
        "id": "cWKY5U8eQ6sc"
      },
      "source": [
        ""
      ],
      "execution_count": null,
      "outputs": []
    },
    {
      "cell_type": "code",
      "metadata": {
        "colab": {
          "base_uri": "https://localhost:8080/"
        },
        "id": "w3zFTYMFsujm",
        "outputId": "ab77bdc2-d5d4-4325-f6db-99b1fb3cde0c"
      },
      "source": [
        "from sklearn.model_selection import KFold\n",
        "\n",
        "\n",
        "train_df = pd.read_csv(train_path)\n",
        "val_df = pd.read_csv(val_path)\n",
        "df = pd.concat([train_df, val_df])\n",
        "\n",
        "neutral_df = df[df['sentiment'] == 'neutral']\n",
        "df = pd.concat([df, neutral_df])\n",
        "splits = list(KFold(n_splits=8, shuffle=True, random_state=42).split(df))\n",
        "\n",
        "model_folds = []\n",
        "for fold, (train_idx, val_idx) in enumerate(splits):\n",
        "    print('-'*40 + str(fold) + '-'*40)\n",
        "    train_df_ = df.iloc[train_idx.tolist()]\n",
        "    val_df_ = df.iloc[val_idx.tolist()]\n",
        "    model_folds.append(\n",
        "        run_training_loop(\n",
        "            train_df=train_df_,\n",
        "            val_df=val_df_,\n",
        "            label_col='sentiment',\n",
        "            serialization_dir='models',\n",
        "            checkpoint=False,\n",
        "            use_character=True,\n",
        "            bidirectional=True,\n",
        "            embedding_dim=100,\n",
        "            hidden_size=128,\n",
        "            char_embedding_dim=34,\n",
        "            dropout=0.4,\n",
        "            word_embedding_pretrain_file='/content/drive/MyDrive/Learning/20202/NLP/w2v/pretrained/viki_adapt/viki_adapt_w2v.txt',\n",
        "            num_epochs=5,\n",
        "            grad_clipping=5,\n",
        "            weight_decay=0.0001\n",
        "        )\n",
        "    )\n",
        "    \n"
      ],
      "execution_count": null,
      "outputs": [
        {
          "output_type": "stream",
          "text": [
            "----------------------------------------0----------------------------------------\n",
            "num_epochs 5\n",
            "word_embedding_pretrain_file /content/drive/MyDrive/Learning/20202/NLP/w2v/pretrained/viki_adapt/viki_adapt_w2v.txt\n",
            "dropout 0.4\n",
            "grad_clipping 5\n",
            "weight_decay 0.0001\n",
            "Reading data\n"
          ],
          "name": "stdout"
        },
        {
          "output_type": "stream",
          "text": [
            "building vocab:   8%|7         | 1077/13540 [00:00<00:01, 10719.08it/s]"
          ],
          "name": "stderr"
        },
        {
          "output_type": "stream",
          "text": [
            "Building the vocabulary\n"
          ],
          "name": "stdout"
        },
        {
          "output_type": "stream",
          "text": [
            "building vocab: 100%|##########| 13540/13540 [00:01<00:00, 10455.97it/s]\n",
            "100%|##########| 20577/20577 [00:00<00:00, 94659.52it/s]\n",
            "You provided a validation dataset but patience was set to None, meaning that early stopping is disabled\n",
            "  0%|          | 0/93 [00:00<?, ?it/s]/usr/local/lib/python3.7/dist-packages/ipykernel_launcher.py:63: UserWarning: Implicit dimension choice for softmax has been deprecated. Change the call to include dim=X as an argument.\n",
            "precision: 0.8135, recall: 0.8891, f1: 0.8496, accuracy: 0.8282, batch_loss: 0.2832, loss: 0.4534 ||: 100%|##########| 93/93 [00:06<00:00, 13.30it/s]\n",
            "precision: 0.8661, recall: 0.9469, f1: 0.9047, accuracy: 0.8825, batch_loss: 1.3909, loss: 0.3916 ||: 100%|##########| 14/14 [00:00<00:00, 34.47it/s]\n",
            "precision: 0.9015, recall: 0.9469, f1: 0.9237, accuracy: 0.9063, batch_loss: 0.1591, loss: 0.2605 ||: 100%|##########| 93/93 [00:07<00:00, 13.13it/s]\n",
            "precision: 0.8848, recall: 0.9547, f1: 0.9184, accuracy: 0.9014, batch_loss: 1.2806, loss: 0.3549 ||: 100%|##########| 14/14 [00:00<00:00, 32.36it/s]\n",
            "precision: 0.9311, recall: 0.9585, f1: 0.9446, accuracy: 0.9335, batch_loss: 0.0666, loss: 0.1943 ||: 100%|##########| 93/93 [00:07<00:00, 13.07it/s]\n",
            "precision: 0.8974, recall: 0.9521, f1: 0.9239, accuracy: 0.9126, batch_loss: 1.1458, loss: 0.3275 ||: 100%|##########| 14/14 [00:00<00:00, 33.13it/s]\n",
            "precision: 0.9536, recall: 0.9696, f1: 0.9615, accuracy: 0.9525, batch_loss: 0.0727, loss: 0.1432 ||: 100%|##########| 93/93 [00:07<00:00, 13.26it/s]\n",
            "precision: 0.9131, recall: 0.9391, f1: 0.9259, accuracy: 0.9114, batch_loss: 0.6522, loss: 0.2941 ||: 100%|##########| 14/14 [00:00<00:00, 31.93it/s]\n",
            "precision: 0.9640, recall: 0.9772, f1: 0.9705, accuracy: 0.9637, batch_loss: 0.0785, loss: 0.1139 ||: 100%|##########| 93/93 [00:07<00:00, 12.97it/s]\n",
            "precision: 0.9212, recall: 0.9391, f1: 0.9301, accuracy: 0.9173, batch_loss: 0.6627, loss: 0.2941 ||: 100%|##########| 14/14 [00:00<00:00, 32.84it/s]\n"
          ],
          "name": "stderr"
        },
        {
          "output_type": "stream",
          "text": [
            "----------------------------------------1----------------------------------------\n",
            "num_epochs 5\n",
            "word_embedding_pretrain_file /content/drive/MyDrive/Learning/20202/NLP/w2v/pretrained/viki_adapt/viki_adapt_w2v.txt\n",
            "dropout 0.4\n",
            "grad_clipping 5\n",
            "weight_decay 0.0001\n",
            "Reading data\n"
          ],
          "name": "stdout"
        },
        {
          "output_type": "stream",
          "text": [
            "building vocab:   7%|7         | 967/13540 [00:00<00:01, 9665.49it/s]"
          ],
          "name": "stderr"
        },
        {
          "output_type": "stream",
          "text": [
            "Building the vocabulary\n"
          ],
          "name": "stdout"
        },
        {
          "output_type": "stream",
          "text": [
            "building vocab: 100%|##########| 13540/13540 [00:01<00:00, 10227.11it/s]\n",
            "100%|##########| 20577/20577 [00:00<00:00, 109379.05it/s]\n",
            "You provided a validation dataset but patience was set to None, meaning that early stopping is disabled\n",
            "precision: 0.8168, recall: 0.8592, f1: 0.8374, accuracy: 0.8166, batch_loss: 0.2984, loss: 0.4650 ||: 100%|##########| 93/93 [00:07<00:00, 13.04it/s]\n",
            "precision: 0.8671, recall: 0.9523, f1: 0.9077, accuracy: 0.8766, batch_loss: 1.4447, loss: 0.3941 ||: 100%|##########| 14/14 [00:00<00:00, 33.71it/s]\n",
            "precision: 0.8976, recall: 0.9473, f1: 0.9218, accuracy: 0.9062, batch_loss: 0.3727, loss: 0.2663 ||: 100%|##########| 93/93 [00:07<00:00, 12.97it/s]\n",
            "precision: 0.9038, recall: 0.9589, f1: 0.9305, accuracy: 0.9096, batch_loss: 0.9406, loss: 0.3179 ||: 100%|##########| 14/14 [00:00<00:00, 33.21it/s]\n",
            "precision: 0.9362, recall: 0.9560, f1: 0.9460, accuracy: 0.9345, batch_loss: 0.0938, loss: 0.1963 ||: 100%|##########| 93/93 [00:07<00:00, 12.97it/s]\n",
            "precision: 0.9111, recall: 0.9655, f1: 0.9375, accuracy: 0.9138, batch_loss: 0.6738, loss: 0.2859 ||: 100%|##########| 14/14 [00:00<00:00, 33.83it/s]\n",
            "precision: 0.9518, recall: 0.9683, f1: 0.9600, accuracy: 0.9513, batch_loss: 0.1621, loss: 0.1516 ||: 100%|##########| 93/93 [00:07<00:00, 13.07it/s]\n",
            "precision: 0.9424, recall: 0.9324, f1: 0.9373, accuracy: 0.9173, batch_loss: 0.4043, loss: 0.2673 ||: 100%|##########| 14/14 [00:00<00:00, 35.00it/s]\n",
            "precision: 0.9647, recall: 0.9746, f1: 0.9696, accuracy: 0.9620, batch_loss: 0.0940, loss: 0.1185 ||: 100%|##########| 93/93 [00:07<00:00, 12.91it/s]\n",
            "precision: 0.9120, recall: 0.9483, f1: 0.9298, accuracy: 0.9108, batch_loss: 0.3464, loss: 0.2751 ||: 100%|##########| 14/14 [00:00<00:00, 35.07it/s]\n"
          ],
          "name": "stderr"
        },
        {
          "output_type": "stream",
          "text": [
            "----------------------------------------2----------------------------------------\n",
            "num_epochs 5\n",
            "word_embedding_pretrain_file /content/drive/MyDrive/Learning/20202/NLP/w2v/pretrained/viki_adapt/viki_adapt_w2v.txt\n",
            "dropout 0.4\n",
            "grad_clipping 5\n",
            "weight_decay 0.0001\n",
            "Reading data\n"
          ],
          "name": "stdout"
        },
        {
          "output_type": "stream",
          "text": [
            "building vocab:   8%|7         | 1035/13540 [00:00<00:01, 10349.34it/s]"
          ],
          "name": "stderr"
        },
        {
          "output_type": "stream",
          "text": [
            "Building the vocabulary\n"
          ],
          "name": "stdout"
        },
        {
          "output_type": "stream",
          "text": [
            "building vocab: 100%|##########| 13540/13540 [00:01<00:00, 10180.54it/s]\n",
            "100%|##########| 20577/20577 [00:00<00:00, 104985.66it/s]\n",
            "You provided a validation dataset but patience was set to None, meaning that early stopping is disabled\n",
            "precision: 0.7926, recall: 0.8961, f1: 0.8412, accuracy: 0.8230, batch_loss: 0.3275, loss: 0.4706 ||: 100%|##########| 93/93 [00:06<00:00, 13.37it/s]\n",
            "precision: 0.8766, recall: 0.9424, f1: 0.9083, accuracy: 0.8884, batch_loss: 1.3927, loss: 0.3675 ||: 100%|##########| 14/14 [00:00<00:00, 34.39it/s]\n",
            "precision: 0.8997, recall: 0.9436, f1: 0.9211, accuracy: 0.9025, batch_loss: 0.1118, loss: 0.2705 ||: 100%|##########| 93/93 [00:06<00:00, 13.30it/s]\n",
            "precision: 0.9026, recall: 0.9316, f1: 0.9169, accuracy: 0.8990, batch_loss: 1.0270, loss: 0.3106 ||: 100%|##########| 14/14 [00:00<00:00, 34.53it/s]\n",
            "precision: 0.9323, recall: 0.9597, f1: 0.9458, accuracy: 0.9315, batch_loss: 0.1850, loss: 0.2051 ||: 100%|##########| 93/93 [00:07<00:00, 13.09it/s]\n",
            "precision: 0.9199, recall: 0.9397, f1: 0.9297, accuracy: 0.9209, batch_loss: 0.9248, loss: 0.2642 ||: 100%|##########| 14/14 [00:00<00:00, 33.07it/s]\n",
            "precision: 0.9488, recall: 0.9682, f1: 0.9584, accuracy: 0.9483, batch_loss: 0.1492, loss: 0.1544 ||: 100%|##########| 93/93 [00:07<00:00, 13.23it/s]\n",
            "precision: 0.9427, recall: 0.9048, f1: 0.9234, accuracy: 0.9132, batch_loss: 0.5250, loss: 0.2422 ||: 100%|##########| 14/14 [00:00<00:00, 33.41it/s]\n",
            "precision: 0.9616, recall: 0.9750, f1: 0.9682, accuracy: 0.9618, batch_loss: 0.1645, loss: 0.1244 ||: 100%|##########| 93/93 [00:07<00:00, 12.57it/s]\n",
            "precision: 0.9376, recall: 0.9263, f1: 0.9319, accuracy: 0.9250, batch_loss: 0.3197, loss: 0.2218 ||: 100%|##########| 14/14 [00:00<00:00, 34.71it/s]\n"
          ],
          "name": "stderr"
        },
        {
          "output_type": "stream",
          "text": [
            "----------------------------------------3----------------------------------------\n",
            "num_epochs 5\n",
            "word_embedding_pretrain_file /content/drive/MyDrive/Learning/20202/NLP/w2v/pretrained/viki_adapt/viki_adapt_w2v.txt\n",
            "dropout 0.4\n",
            "grad_clipping 5\n",
            "weight_decay 0.0001\n",
            "Reading data\n"
          ],
          "name": "stdout"
        },
        {
          "output_type": "stream",
          "text": [
            "building vocab:   8%|7         | 1055/13540 [00:00<00:01, 10543.90it/s]"
          ],
          "name": "stderr"
        },
        {
          "output_type": "stream",
          "text": [
            "Building the vocabulary\n"
          ],
          "name": "stdout"
        },
        {
          "output_type": "stream",
          "text": [
            "building vocab: 100%|##########| 13540/13540 [00:01<00:00, 10551.87it/s]\n",
            "100%|##########| 20577/20577 [00:00<00:00, 99059.85it/s]\n",
            "You provided a validation dataset but patience was set to None, meaning that early stopping is disabled\n",
            "precision: 0.7984, recall: 0.9009, f1: 0.8465, accuracy: 0.8251, batch_loss: 0.3443, loss: 0.4720 ||: 100%|##########| 93/93 [00:07<00:00, 13.04it/s]\n",
            "precision: 0.8833, recall: 0.9475, f1: 0.9143, accuracy: 0.8978, batch_loss: 1.4733, loss: 0.3526 ||: 100%|##########| 14/14 [00:00<00:00, 35.76it/s]\n",
            "precision: 0.8959, recall: 0.9474, f1: 0.9209, accuracy: 0.9035, batch_loss: 0.2896, loss: 0.2731 ||: 100%|##########| 93/93 [00:07<00:00, 13.04it/s]\n",
            "precision: 0.9178, recall: 0.9166, f1: 0.9172, accuracy: 0.9084, batch_loss: 1.0461, loss: 0.3072 ||: 100%|##########| 14/14 [00:00<00:00, 35.14it/s]\n",
            "precision: 0.9328, recall: 0.9557, f1: 0.9441, accuracy: 0.9336, batch_loss: 0.1559, loss: 0.2025 ||: 100%|##########| 93/93 [00:07<00:00, 12.77it/s]\n",
            "precision: 0.9137, recall: 0.9408, f1: 0.9271, accuracy: 0.9191, batch_loss: 1.2101, loss: 0.2963 ||: 100%|##########| 14/14 [00:00<00:00, 32.61it/s]\n",
            "precision: 0.9507, recall: 0.9661, f1: 0.9583, accuracy: 0.9516, batch_loss: 0.2107, loss: 0.1486 ||:  56%|#####5    | 52/93 [00:03<00:03, 13.63it/s]"
          ],
          "name": "stderr"
        }
      ]
    },
    {
      "cell_type": "markdown",
      "metadata": {
        "id": "8g8rZM0oxE4u"
      },
      "source": [
        "## Evaluate KFold"
      ]
    },
    {
      "cell_type": "code",
      "metadata": {
        "id": "AyHNzJX8xEbB"
      },
      "source": [
        "import numpy as np\n",
        "def predict_kfold(model_folds, text: str):\n",
        "    # print(text)\n",
        "    tokens = [Token(token) for token in text.split(' ')]\n",
        "    token_indexers = model_folds[0][1].token_indexers\n",
        "    max_tokens = model_folds[0][1].max_tokens\n",
        "    models = [x[0] for x in model_folds]\n",
        "    vocab = model_folds[0][0].vocab\n",
        "\n",
        "    if len(tokens) > max_tokens:\n",
        "        tokens = tokens[:max_tokens]\n",
        "    text_field = TextField(tokens, token_indexers)\n",
        "    instance = Instance({\n",
        "        \"tokens\": text_field\n",
        "    })\n",
        "    outputs = [model.forward_on_instance(instance) for model in models]\n",
        "    y_predictions = [np.argmax(output['probs'], axis=-1) for output in outputs]\n",
        "    y_probs = [np.max(output['probs'], axis=-1) for output in outputs]\n",
        "    predictions = [vocab.get_token_from_index(y_prediction, namespace='labels') for y_prediction in y_predictions]\n",
        "    predictioin_final = max(predictions, key = predictions.count)\n",
        "    return predictioin_final"
      ],
      "execution_count": null,
      "outputs": []
    },
    {
      "cell_type": "markdown",
      "metadata": {
        "id": "L0BD6QTpZSFS"
      },
      "source": [
        ""
      ]
    },
    {
      "cell_type": "code",
      "metadata": {
        "id": "3vtg_lwJ1qzt"
      },
      "source": [
        "predict_kfold(model_folds, \"nội dung môn học phù hợp, bắt đúng xu thế\")"
      ],
      "execution_count": null,
      "outputs": []
    },
    {
      "cell_type": "code",
      "metadata": {
        "id": "TD8U_HTD0-DJ"
      },
      "source": [
        "vocab = model_folds[0][0].vocab\n",
        "\n",
        "test_df = pd.read_csv(test_path)\n",
        "texts = test_df['text'].tolist()\n",
        "label_true = test_df['sentiment'].tolist()\n",
        "label_pred = [predict_kfold(model_folds, text) for text in texts]\n",
        "y_true = [vocab.get_token_index(label, namespace='labels') for label in label_true]\n",
        "y_pred = [vocab.get_token_index(label, namespace='labels') for label in label_pred]\n",
        "\n",
        "# get metric scores\n",
        "acc = accuracy_score(y_true, y_pred)\n",
        "precision = precision_score(y_true, y_pred, average='macro')\n",
        "recall = recall_score(y_true, y_pred, average='macro')\n",
        "f1 = f1_score(y_true, y_pred, average='macro')\n",
        "\n",
        "labels = list(vocab.get_token_to_index_vocabulary('labels').keys())\n",
        "report = classification_report(label_true, label_pred, labels=labels)\n",
        "print(f'Evaluate ')\n",
        "print('Accuracy :', acc)\n",
        "print('Precision:', precision)\n",
        "print('Recall   :', recall)\n",
        "print('F1-Score :', f1)"
      ],
      "execution_count": null,
      "outputs": []
    },
    {
      "cell_type": "code",
      "metadata": {
        "id": "0qn7YQfi0-IZ"
      },
      "source": [
        "cm = confusion_matrix(label_true, label_pred, labels=labels)\n",
        "plot_confusion_matrix(cm, target_names=labels, title=f'Confusion Matrix (sentiment)', normalize=False)\n",
        "plot_confusion_matrix(cm, target_names=labels, title=f'Confusion Matrix Normalize (sentiment)', normalize=True)"
      ],
      "execution_count": null,
      "outputs": []
    },
    {
      "cell_type": "code",
      "metadata": {
        "id": "Z8p-PjGiE3Ce"
      },
      "source": [
        ""
      ],
      "execution_count": null,
      "outputs": []
    },
    {
      "cell_type": "code",
      "metadata": {
        "id": "N81IeNXaGAaQ"
      },
      "source": [
        "result_models = []\n",
        "for model, data_reader in model_folds:\n",
        "    print('-'*80)\n",
        "    result = eval_model(model, data_reader, test_df)\n",
        "    result_models.append(result)"
      ],
      "execution_count": null,
      "outputs": []
    },
    {
      "cell_type": "code",
      "metadata": {
        "id": "TvEZ00WA3_Mz"
      },
      "source": [
        "f1s = [x[-1] for x in result_models]\n",
        "best_model_index = np.argmax(f1s)\n",
        "print(result_models[best_model_index])\n",
        "# print(model_folds[best_model_index][0])"
      ],
      "execution_count": null,
      "outputs": []
    },
    {
      "cell_type": "code",
      "metadata": {
        "id": "5DG-42kOJpqw"
      },
      "source": [
        "serialization_dir = '/content/drive/MyDrive/Learning/20202/NLP/best_model_kfold_1up_char'\n",
        "\n",
        "best_model = model_folds[best_model_index][0]\n",
        "best_model.vocab.save_to_files(serialization_dir + '/vocabulary')\n",
        "torch.save(best_model.state_dict(), serialization_dir + '/best.th')"
      ],
      "execution_count": null,
      "outputs": []
    },
    {
      "cell_type": "code",
      "metadata": {
        "id": "w9YaLDz0aPvb"
      },
      "source": [
        "print(best_model)"
      ],
      "execution_count": null,
      "outputs": []
    },
    {
      "cell_type": "markdown",
      "metadata": {
        "id": "mfiqh7p6OXP4"
      },
      "source": [
        "## eval best model"
      ]
    },
    {
      "cell_type": "code",
      "metadata": {
        "id": "qAwGM_XFLd37"
      },
      "source": [
        "from allennlp.training.util import evaluate\n",
        "dataset_reader = model_folds[best_model_index][1]\n",
        "test_data = list(dataset_reader.read(test_df))\n",
        "data_loader = SimpleDataLoader(test_data, batch_size=64)\n",
        "data_loader.index_with(best_model.vocab)\n",
        "\n",
        "results = evaluate(best_model.to('cpu'), data_loader)\n",
        "print(results)"
      ],
      "execution_count": null,
      "outputs": []
    },
    {
      "cell_type": "code",
      "metadata": {
        "id": "OpcQibpKL6Qv"
      },
      "source": [
        "eval_model(best_model, dataset_reader, test_df, plot_cm=True)"
      ],
      "execution_count": null,
      "outputs": []
    },
    {
      "cell_type": "code",
      "metadata": {
        "id": "a3pAMXViOfjI"
      },
      "source": [
        "test_df = predict_on_df(model=best_model, data_reader=dataset_reader, data_df=test_df,label_col='sentiment')\n",
        "test_df_false = test_df[test_df['sentiment'] != test_df['sentiment_pred']]\n",
        "test_df_true = test_df[test_df['sentiment'] == test_df['sentiment_pred']]\n"
      ],
      "execution_count": null,
      "outputs": []
    },
    {
      "cell_type": "code",
      "metadata": {
        "id": "C-7jk6mcat_g"
      },
      "source": [
        "test_df_false.to_csv('/content/drive/MyDrive/Learning/20202/NLP/false_sent_pred.csv', index=False)\n",
        "test_df_true.to_csv('/content/drive/MyDrive/Learning/20202/NLP/true_sent_pred.csv', index=False)"
      ],
      "execution_count": null,
      "outputs": []
    },
    {
      "cell_type": "code",
      "metadata": {
        "id": "DIzpi95rajGD"
      },
      "source": [
        ""
      ],
      "execution_count": null,
      "outputs": []
    }
  ]
}